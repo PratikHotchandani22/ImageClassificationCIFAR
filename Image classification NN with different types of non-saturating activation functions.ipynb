{
 "cells": [
  {
   "cell_type": "code",
   "execution_count": 1,
   "id": "6bb1f7a2",
   "metadata": {},
   "outputs": [],
   "source": [
    "import pandas as pd\n",
    "import numpy as np\n",
    "import matplotlib.pyplot as plt\n",
    "import tensorflow as tf\n",
    "from sklearn.linear_model import LogisticRegression\n",
    "from keras.models import Sequential\n",
    "from tensorflow.keras.layers import InputLayer\n",
    "from keras.layers import Dense, Flatten\n",
    "from sklearn.svm import SVC\n",
    "from sklearn.metrics import accuracy_score\n",
    "import keras\n",
    "from keras.datasets import cifar10\n",
    "\n",
    "from sklearn.metrics import classification_report,confusion_matrix\n",
    "from tensorflow.keras.preprocessing.image import ImageDataGenerator\n",
    "\n",
    "from keras.models import Sequential\n",
    "from keras.layers import Dense, Activation, Flatten, Conv2D, MaxPooling2D, Dropout\n",
    "\n",
    "from keras.regularizers import l1, l2\n",
    "\n",
    "from tensorflow.keras.layers import LeakyReLU"
   ]
  },
  {
   "cell_type": "code",
   "execution_count": 2,
   "id": "1de2693d",
   "metadata": {},
   "outputs": [
    {
     "name": "stdout",
     "output_type": "stream",
     "text": [
      "x_train shape: (50000, 32, 32, 3)\n",
      "50000 train samples\n",
      "10000 test samples\n"
     ]
    }
   ],
   "source": [
    "# define num_class\n",
    "num_classes = 10\n",
    "\n",
    "# load dataset keras will download cifar-10 datset\n",
    "(x_train, y_train), (x_test, y_test) = cifar10.load_data()  \n",
    "\n",
    "print('x_train shape:', x_train.shape)\n",
    "print(x_train.shape[0], 'train samples')\n",
    "print(x_test.shape[0], 'test samples')\n"
   ]
  },
  {
   "cell_type": "code",
   "execution_count": 3,
   "id": "8ade5318",
   "metadata": {},
   "outputs": [],
   "source": [
    "# Converting class vectors to binary class matrices.\n",
    "y_train = keras.utils.np_utils.to_categorical(y_train, num_classes)\n",
    "y_test = keras.utils.np_utils.to_categorical(y_test, num_classes)"
   ]
  },
  {
   "cell_type": "code",
   "execution_count": 4,
   "id": "07f893c2",
   "metadata": {},
   "outputs": [],
   "source": [
    "x_train = x_train.astype('float32') / 255.0\n",
    "x_test = x_test.astype('float32') / 255.0"
   ]
  },
  {
   "cell_type": "markdown",
   "id": "f8e16a0b",
   "metadata": {},
   "source": [
    "# Models"
   ]
  },
  {
   "cell_type": "markdown",
   "id": "470ccdd2",
   "metadata": {},
   "source": [
    "### Relu activation function"
   ]
  },
  {
   "cell_type": "code",
   "execution_count": 5,
   "id": "14316bb6",
   "metadata": {},
   "outputs": [],
   "source": [
    "# Designing the layer architecture of the DNN model\n",
    "LAYERS = [\n",
    "          tf.keras.layers.Flatten(input_shape=[32, 32,3], name=\"inputLayer\"),\n",
    "          tf.keras.layers.Dense(300, activation=\"relu\", name=\"hiddenLayer1\"),\n",
    "          tf.keras.layers.Dense(200, activation=\"relu\", name=\"hiddenLayer2\"),\n",
    "          tf.keras.layers.Dense(100, activation=\"relu\", name=\"hiddenLayer3\"),\n",
    "          tf.keras.layers.Dense(10, activation=\"softmax\", name=\"outputLayer\"),\n",
    "]"
   ]
  },
  {
   "cell_type": "code",
   "execution_count": 6,
   "id": "182bc140",
   "metadata": {},
   "outputs": [
    {
     "name": "stderr",
     "output_type": "stream",
     "text": [
      "2023-05-12 14:03:09.570973: I tensorflow/core/common_runtime/pluggable_device/pluggable_device_factory.cc:305] Could not identify NUMA node of platform GPU ID 0, defaulting to 0. Your kernel may not have been built with NUMA support.\n",
      "2023-05-12 14:03:09.571751: I tensorflow/core/common_runtime/pluggable_device/pluggable_device_factory.cc:271] Created TensorFlow device (/job:localhost/replica:0/task:0/device:GPU:0 with 0 MB memory) -> physical PluggableDevice (device: 0, name: METAL, pci bus id: <undefined>)\n"
     ]
    },
    {
     "name": "stdout",
     "output_type": "stream",
     "text": [
      "Metal device set to: Apple M1 Pro\n"
     ]
    }
   ],
   "source": [
    "model_relu = tf.keras.models.Sequential(LAYERS)"
   ]
  },
  {
   "cell_type": "code",
   "execution_count": 7,
   "id": "ce8703b3",
   "metadata": {},
   "outputs": [],
   "source": [
    "METRICS = [\n",
    "    'accuracy',\n",
    "    tf.keras.metrics.Precision(name='precision'),\n",
    "    tf.keras.metrics.Recall(name='recall')\n",
    "]\n",
    "\n",
    "model_relu.compile(optimizer='adam', loss='categorical_crossentropy', metrics=METRICS)"
   ]
  },
  {
   "cell_type": "code",
   "execution_count": 8,
   "id": "b290f2a0",
   "metadata": {},
   "outputs": [
    {
     "name": "stdout",
     "output_type": "stream",
     "text": [
      "Epoch 1/50\n"
     ]
    },
    {
     "name": "stderr",
     "output_type": "stream",
     "text": [
      "2023-05-12 14:04:12.096387: W tensorflow/core/platform/profile_utils/cpu_utils.cc:128] Failed to get CPU frequency: 0 Hz\n",
      "2023-05-12 14:04:12.411327: I tensorflow/core/grappler/optimizers/custom_graph_optimizer_registry.cc:113] Plugin optimizer for device_type GPU is enabled.\n"
     ]
    },
    {
     "name": "stdout",
     "output_type": "stream",
     "text": [
      "391/391 [==============================] - ETA: 0s - loss: 1.8799 - accuracy: 0.3216 - precision: 0.6066 - recall: 0.0674"
     ]
    },
    {
     "name": "stderr",
     "output_type": "stream",
     "text": [
      "2023-05-12 14:04:19.830357: I tensorflow/core/grappler/optimizers/custom_graph_optimizer_registry.cc:113] Plugin optimizer for device_type GPU is enabled.\n"
     ]
    },
    {
     "name": "stdout",
     "output_type": "stream",
     "text": [
      "391/391 [==============================] - 9s 16ms/step - loss: 1.8799 - accuracy: 0.3216 - precision: 0.6066 - recall: 0.0674 - val_loss: 1.7541 - val_accuracy: 0.3739 - val_precision: 0.6326 - val_recall: 0.1035\n",
      "Epoch 2/50\n",
      "391/391 [==============================] - 6s 15ms/step - loss: 1.6788 - accuracy: 0.4021 - precision: 0.6334 - recall: 0.1469 - val_loss: 1.6515 - val_accuracy: 0.4058 - val_precision: 0.6131 - val_recall: 0.1748\n",
      "Epoch 3/50\n",
      "391/391 [==============================] - 6s 15ms/step - loss: 1.5961 - accuracy: 0.4316 - precision: 0.6485 - recall: 0.1900 - val_loss: 1.5659 - val_accuracy: 0.4464 - val_precision: 0.6868 - val_recall: 0.1949\n",
      "Epoch 4/50\n",
      "391/391 [==============================] - 6s 15ms/step - loss: 1.5336 - accuracy: 0.4518 - precision: 0.6654 - recall: 0.2236 - val_loss: 1.5333 - val_accuracy: 0.4583 - val_precision: 0.6665 - val_recall: 0.2384\n",
      "Epoch 5/50\n",
      "391/391 [==============================] - 6s 15ms/step - loss: 1.4919 - accuracy: 0.4668 - precision: 0.6743 - recall: 0.2477 - val_loss: 1.4817 - val_accuracy: 0.4774 - val_precision: 0.6947 - val_recall: 0.2346\n",
      "Epoch 6/50\n",
      "391/391 [==============================] - 6s 15ms/step - loss: 1.4564 - accuracy: 0.4820 - precision: 0.6809 - recall: 0.2648 - val_loss: 1.4789 - val_accuracy: 0.4755 - val_precision: 0.6670 - val_recall: 0.2686\n",
      "Epoch 7/50\n",
      "391/391 [==============================] - 6s 15ms/step - loss: 1.4295 - accuracy: 0.4909 - precision: 0.6906 - recall: 0.2800 - val_loss: 1.4691 - val_accuracy: 0.4828 - val_precision: 0.6829 - val_recall: 0.2636\n",
      "Epoch 8/50\n",
      "391/391 [==============================] - 6s 15ms/step - loss: 1.3991 - accuracy: 0.5004 - precision: 0.6964 - recall: 0.2968 - val_loss: 1.4812 - val_accuracy: 0.4719 - val_precision: 0.6619 - val_recall: 0.2535\n",
      "Epoch 9/50\n",
      "391/391 [==============================] - 6s 15ms/step - loss: 1.3764 - accuracy: 0.5107 - precision: 0.7000 - recall: 0.3083 - val_loss: 1.4539 - val_accuracy: 0.4832 - val_precision: 0.6677 - val_recall: 0.2930\n",
      "Epoch 10/50\n",
      "391/391 [==============================] - 6s 15ms/step - loss: 1.3522 - accuracy: 0.5186 - precision: 0.7055 - recall: 0.3215 - val_loss: 1.4266 - val_accuracy: 0.4950 - val_precision: 0.6691 - val_recall: 0.3061\n",
      "Epoch 11/50\n",
      "391/391 [==============================] - 6s 15ms/step - loss: 1.3299 - accuracy: 0.5251 - precision: 0.7065 - recall: 0.3318 - val_loss: 1.4199 - val_accuracy: 0.5018 - val_precision: 0.6571 - val_recall: 0.3275\n",
      "Epoch 12/50\n",
      "391/391 [==============================] - 6s 15ms/step - loss: 1.3010 - accuracy: 0.5362 - precision: 0.7171 - recall: 0.3490 - val_loss: 1.4463 - val_accuracy: 0.4908 - val_precision: 0.6434 - val_recall: 0.3170\n",
      "Epoch 13/50\n",
      "391/391 [==============================] - 6s 15ms/step - loss: 1.2874 - accuracy: 0.5417 - precision: 0.7139 - recall: 0.3560 - val_loss: 1.4177 - val_accuracy: 0.5038 - val_precision: 0.6681 - val_recall: 0.3369\n",
      "Epoch 14/50\n",
      "391/391 [==============================] - 6s 15ms/step - loss: 1.2717 - accuracy: 0.5482 - precision: 0.7222 - recall: 0.3687 - val_loss: 1.3669 - val_accuracy: 0.5191 - val_precision: 0.6946 - val_recall: 0.3352\n",
      "Epoch 15/50\n",
      "391/391 [==============================] - 6s 15ms/step - loss: 1.2425 - accuracy: 0.5570 - precision: 0.7265 - recall: 0.3797 - val_loss: 1.4088 - val_accuracy: 0.5023 - val_precision: 0.6519 - val_recall: 0.3424\n",
      "Epoch 16/50\n",
      "391/391 [==============================] - 6s 15ms/step - loss: 1.2186 - accuracy: 0.5654 - precision: 0.7298 - recall: 0.3936 - val_loss: 1.3942 - val_accuracy: 0.5085 - val_precision: 0.6758 - val_recall: 0.3427\n",
      "Epoch 17/50\n",
      "391/391 [==============================] - 6s 15ms/step - loss: 1.2108 - accuracy: 0.5662 - precision: 0.7325 - recall: 0.4006 - val_loss: 1.3922 - val_accuracy: 0.5112 - val_precision: 0.6638 - val_recall: 0.3562\n",
      "Epoch 18/50\n",
      "391/391 [==============================] - 6s 15ms/step - loss: 1.1816 - accuracy: 0.5782 - precision: 0.7405 - recall: 0.4155 - val_loss: 1.3988 - val_accuracy: 0.5126 - val_precision: 0.6507 - val_recall: 0.3699\n",
      "Epoch 19/50\n",
      "391/391 [==============================] - 6s 15ms/step - loss: 1.1651 - accuracy: 0.5848 - precision: 0.7419 - recall: 0.4217 - val_loss: 1.3896 - val_accuracy: 0.5139 - val_precision: 0.6504 - val_recall: 0.3722\n",
      "Epoch 20/50\n",
      "391/391 [==============================] - 6s 15ms/step - loss: 1.1492 - accuracy: 0.5911 - precision: 0.7441 - recall: 0.4316 - val_loss: 1.4278 - val_accuracy: 0.5079 - val_precision: 0.6490 - val_recall: 0.3639\n",
      "Epoch 21/50\n",
      "391/391 [==============================] - 6s 15ms/step - loss: 1.1346 - accuracy: 0.5937 - precision: 0.7449 - recall: 0.4401 - val_loss: 1.3799 - val_accuracy: 0.5228 - val_precision: 0.6711 - val_recall: 0.3765\n",
      "Epoch 22/50\n",
      "391/391 [==============================] - 6s 15ms/step - loss: 1.1240 - accuracy: 0.5969 - precision: 0.7489 - recall: 0.4443 - val_loss: 1.3889 - val_accuracy: 0.5206 - val_precision: 0.6537 - val_recall: 0.3834\n",
      "Epoch 23/50\n",
      "391/391 [==============================] - 6s 14ms/step - loss: 1.0978 - accuracy: 0.6097 - precision: 0.7549 - recall: 0.4602 - val_loss: 1.4548 - val_accuracy: 0.5088 - val_precision: 0.6248 - val_recall: 0.3962\n",
      "Epoch 24/50\n",
      "391/391 [==============================] - 6s 14ms/step - loss: 1.0884 - accuracy: 0.6119 - precision: 0.7563 - recall: 0.4659 - val_loss: 1.4028 - val_accuracy: 0.5188 - val_precision: 0.6445 - val_recall: 0.3946\n",
      "Epoch 25/50\n",
      "391/391 [==============================] - 6s 16ms/step - loss: 1.0741 - accuracy: 0.6168 - precision: 0.7580 - recall: 0.4717 - val_loss: 1.4281 - val_accuracy: 0.5126 - val_precision: 0.6364 - val_recall: 0.3900\n",
      "Epoch 26/50\n",
      "391/391 [==============================] - 6s 15ms/step - loss: 1.0563 - accuracy: 0.6226 - precision: 0.7597 - recall: 0.4808 - val_loss: 1.4272 - val_accuracy: 0.5158 - val_precision: 0.6346 - val_recall: 0.4035\n",
      "Epoch 27/50\n",
      "391/391 [==============================] - 6s 15ms/step - loss: 1.0402 - accuracy: 0.6261 - precision: 0.7640 - recall: 0.4914 - val_loss: 1.4714 - val_accuracy: 0.5096 - val_precision: 0.6316 - val_recall: 0.3925\n",
      "Epoch 28/50\n",
      "391/391 [==============================] - 6s 15ms/step - loss: 1.0298 - accuracy: 0.6324 - precision: 0.7641 - recall: 0.4954 - val_loss: 1.4404 - val_accuracy: 0.5182 - val_precision: 0.6380 - val_recall: 0.4033\n",
      "Epoch 29/50\n",
      "391/391 [==============================] - 6s 15ms/step - loss: 1.0113 - accuracy: 0.6381 - precision: 0.7685 - recall: 0.5061 - val_loss: 1.4595 - val_accuracy: 0.5202 - val_precision: 0.6307 - val_recall: 0.4115\n",
      "Epoch 30/50\n",
      "391/391 [==============================] - 6s 15ms/step - loss: 1.0040 - accuracy: 0.6390 - precision: 0.7725 - recall: 0.5099 - val_loss: 1.4646 - val_accuracy: 0.5212 - val_precision: 0.6230 - val_recall: 0.4279\n",
      "Epoch 31/50\n",
      "391/391 [==============================] - 6s 15ms/step - loss: 0.9863 - accuracy: 0.6459 - precision: 0.7737 - recall: 0.5205 - val_loss: 1.4539 - val_accuracy: 0.5247 - val_precision: 0.6314 - val_recall: 0.4182\n",
      "Epoch 32/50\n",
      "391/391 [==============================] - 6s 15ms/step - loss: 0.9756 - accuracy: 0.6504 - precision: 0.7745 - recall: 0.5271 - val_loss: 1.4934 - val_accuracy: 0.5151 - val_precision: 0.6220 - val_recall: 0.4168\n",
      "Epoch 33/50\n",
      "391/391 [==============================] - 6s 15ms/step - loss: 0.9667 - accuracy: 0.6524 - precision: 0.7769 - recall: 0.5299 - val_loss: 1.4915 - val_accuracy: 0.5218 - val_precision: 0.6219 - val_recall: 0.4297\n",
      "Epoch 34/50\n",
      "391/391 [==============================] - 6s 15ms/step - loss: 0.9449 - accuracy: 0.6606 - precision: 0.7811 - recall: 0.5423 - val_loss: 1.5162 - val_accuracy: 0.5209 - val_precision: 0.6185 - val_recall: 0.4250\n",
      "Epoch 35/50\n",
      "391/391 [==============================] - 6s 15ms/step - loss: 0.9432 - accuracy: 0.6610 - precision: 0.7801 - recall: 0.5438 - val_loss: 1.4970 - val_accuracy: 0.5182 - val_precision: 0.6153 - val_recall: 0.4174\n",
      "Epoch 36/50\n",
      "391/391 [==============================] - 6s 15ms/step - loss: 0.9263 - accuracy: 0.6668 - precision: 0.7845 - recall: 0.5521 - val_loss: 1.5498 - val_accuracy: 0.5110 - val_precision: 0.6047 - val_recall: 0.4162\n",
      "Epoch 37/50\n"
     ]
    },
    {
     "name": "stdout",
     "output_type": "stream",
     "text": [
      "391/391 [==============================] - 6s 15ms/step - loss: 0.9118 - accuracy: 0.6716 - precision: 0.7877 - recall: 0.5595 - val_loss: 1.5166 - val_accuracy: 0.5150 - val_precision: 0.6131 - val_recall: 0.4125\n",
      "Epoch 38/50\n",
      "391/391 [==============================] - 6s 15ms/step - loss: 0.9062 - accuracy: 0.6735 - precision: 0.7863 - recall: 0.5621 - val_loss: 1.5226 - val_accuracy: 0.5198 - val_precision: 0.6111 - val_recall: 0.4309\n",
      "Epoch 39/50\n",
      "391/391 [==============================] - 6s 15ms/step - loss: 0.8911 - accuracy: 0.6783 - precision: 0.7900 - recall: 0.5708 - val_loss: 1.5722 - val_accuracy: 0.5105 - val_precision: 0.6015 - val_recall: 0.4239\n",
      "Epoch 40/50\n",
      "391/391 [==============================] - 6s 15ms/step - loss: 0.8851 - accuracy: 0.6815 - precision: 0.7923 - recall: 0.5743 - val_loss: 1.5862 - val_accuracy: 0.5131 - val_precision: 0.6028 - val_recall: 0.4300\n",
      "Epoch 41/50\n",
      "391/391 [==============================] - 6s 15ms/step - loss: 0.8672 - accuracy: 0.6880 - precision: 0.7953 - recall: 0.5847 - val_loss: 1.5788 - val_accuracy: 0.5162 - val_precision: 0.6035 - val_recall: 0.4336\n",
      "Epoch 42/50\n",
      "391/391 [==============================] - 6s 15ms/step - loss: 0.8690 - accuracy: 0.6885 - precision: 0.7934 - recall: 0.5861 - val_loss: 1.6153 - val_accuracy: 0.5048 - val_precision: 0.5872 - val_recall: 0.4164\n",
      "Epoch 43/50\n",
      "391/391 [==============================] - 6s 15ms/step - loss: 0.8580 - accuracy: 0.6917 - precision: 0.7942 - recall: 0.5886 - val_loss: 1.6097 - val_accuracy: 0.5006 - val_precision: 0.5923 - val_recall: 0.4198\n",
      "Epoch 44/50\n",
      "391/391 [==============================] - 6s 15ms/step - loss: 0.8336 - accuracy: 0.7016 - precision: 0.8032 - recall: 0.6016 - val_loss: 1.5860 - val_accuracy: 0.5167 - val_precision: 0.6030 - val_recall: 0.4323\n",
      "Epoch 45/50\n",
      "391/391 [==============================] - 6s 15ms/step - loss: 0.8294 - accuracy: 0.7034 - precision: 0.8038 - recall: 0.6073 - val_loss: 1.6255 - val_accuracy: 0.5073 - val_precision: 0.5935 - val_recall: 0.4277\n",
      "Epoch 46/50\n",
      "391/391 [==============================] - 6s 15ms/step - loss: 0.8282 - accuracy: 0.7015 - precision: 0.8016 - recall: 0.6057 - val_loss: 1.6832 - val_accuracy: 0.5028 - val_precision: 0.5833 - val_recall: 0.4329\n",
      "Epoch 47/50\n",
      "391/391 [==============================] - 6s 14ms/step - loss: 0.8051 - accuracy: 0.7109 - precision: 0.8092 - recall: 0.6177 - val_loss: 1.6760 - val_accuracy: 0.5107 - val_precision: 0.5846 - val_recall: 0.4434\n",
      "Epoch 48/50\n",
      "391/391 [==============================] - 6s 15ms/step - loss: 0.8033 - accuracy: 0.7111 - precision: 0.8069 - recall: 0.6213 - val_loss: 1.7056 - val_accuracy: 0.5053 - val_precision: 0.5802 - val_recall: 0.4381\n",
      "Epoch 49/50\n",
      "391/391 [==============================] - 6s 15ms/step - loss: 0.7946 - accuracy: 0.7143 - precision: 0.8064 - recall: 0.6228 - val_loss: 1.7030 - val_accuracy: 0.5050 - val_precision: 0.5787 - val_recall: 0.4336\n",
      "Epoch 50/50\n",
      "391/391 [==============================] - 6s 15ms/step - loss: 0.7787 - accuracy: 0.7178 - precision: 0.8095 - recall: 0.6295 - val_loss: 1.7091 - val_accuracy: 0.5138 - val_precision: 0.5901 - val_recall: 0.4466\n"
     ]
    }
   ],
   "source": [
    "history_relu = model_relu.fit(x_train,y_train, \n",
    "              epochs=50,batch_size = 128,\n",
    "              validation_data=(x_test, y_test))"
   ]
  },
  {
   "cell_type": "code",
   "execution_count": 9,
   "id": "6c0869de",
   "metadata": {},
   "outputs": [
    {
     "name": "stdout",
     "output_type": "stream",
     "text": [
      "313/313 [==============================] - 3s 11ms/step - loss: 1.7091 - accuracy: 0.5138 - precision: 0.5901 - recall: 0.4466\n"
     ]
    },
    {
     "data": {
      "text/plain": [
       "[1.7091299295425415,\n",
       " 0.5138000249862671,\n",
       " 0.5901162624359131,\n",
       " 0.4466000199317932]"
      ]
     },
     "execution_count": 9,
     "metadata": {},
     "output_type": "execute_result"
    }
   ],
   "source": [
    "model_relu.evaluate(x_test, y_test)"
   ]
  },
  {
   "cell_type": "markdown",
   "id": "085c67b3",
   "metadata": {},
   "source": [
    "Training accuracy: 71%\n",
    "Testing accuracy: 51.38%"
   ]
  },
  {
   "cell_type": "markdown",
   "id": "4179ece2",
   "metadata": {},
   "source": [
    "### Leaky-relu activation function"
   ]
  },
  {
   "cell_type": "code",
   "execution_count": 10,
   "id": "c343df0a",
   "metadata": {},
   "outputs": [],
   "source": [
    "# Designing the layer architecture of the DNN model\n",
    "LAYERS = [\n",
    "          tf.keras.layers.Flatten(input_shape=[32, 32,3], name=\"inputLayer\"),\n",
    "          tf.keras.layers.Dense(300, activation=tf.keras.layers.LeakyReLU(alpha=0.01), name=\"hiddenLayer1\"),\n",
    "          tf.keras.layers.Dense(200, activation=tf.keras.layers.LeakyReLU(alpha=0.01), name=\"hiddenLayer2\"),\n",
    "          tf.keras.layers.Dense(100, activation=tf.keras.layers.LeakyReLU(alpha=0.01), name=\"hiddenLayer3\"),\n",
    "          tf.keras.layers.Dense(10, activation=\"softmax\", name=\"outputLayer\"),\n",
    "]"
   ]
  },
  {
   "cell_type": "code",
   "execution_count": 11,
   "id": "4769112f",
   "metadata": {},
   "outputs": [],
   "source": [
    "model_Leakyrelu = tf.keras.models.Sequential(LAYERS)"
   ]
  },
  {
   "cell_type": "code",
   "execution_count": 12,
   "id": "2c04f6ab",
   "metadata": {},
   "outputs": [],
   "source": [
    "METRICS = [\n",
    "    'accuracy',\n",
    "    tf.keras.metrics.Precision(name='precision'),\n",
    "    tf.keras.metrics.Recall(name='recall')\n",
    "]\n",
    "\n",
    "model_Leakyrelu.compile(optimizer='adam', loss='categorical_crossentropy', metrics=METRICS)"
   ]
  },
  {
   "cell_type": "code",
   "execution_count": 13,
   "id": "a2d575a2",
   "metadata": {},
   "outputs": [
    {
     "name": "stdout",
     "output_type": "stream",
     "text": [
      "Epoch 1/50\n"
     ]
    },
    {
     "name": "stderr",
     "output_type": "stream",
     "text": [
      "2023-05-12 14:14:02.166733: I tensorflow/core/grappler/optimizers/custom_graph_optimizer_registry.cc:113] Plugin optimizer for device_type GPU is enabled.\n"
     ]
    },
    {
     "name": "stdout",
     "output_type": "stream",
     "text": [
      "391/391 [==============================] - ETA: 0s - loss: 1.9010 - accuracy: 0.3108 - precision: 0.5918 - recall: 0.0556"
     ]
    },
    {
     "name": "stderr",
     "output_type": "stream",
     "text": [
      "2023-05-12 14:14:07.766725: I tensorflow/core/grappler/optimizers/custom_graph_optimizer_registry.cc:113] Plugin optimizer for device_type GPU is enabled.\n"
     ]
    },
    {
     "name": "stdout",
     "output_type": "stream",
     "text": [
      "391/391 [==============================] - 7s 16ms/step - loss: 1.9010 - accuracy: 0.3108 - precision: 0.5918 - recall: 0.0556 - val_loss: 1.7439 - val_accuracy: 0.3703 - val_precision: 0.6160 - val_recall: 0.1110\n",
      "Epoch 2/50\n",
      "391/391 [==============================] - 6s 15ms/step - loss: 1.6915 - accuracy: 0.3933 - precision: 0.6278 - recall: 0.1404 - val_loss: 1.6419 - val_accuracy: 0.4105 - val_precision: 0.6237 - val_recall: 0.1843\n",
      "Epoch 3/50\n",
      "391/391 [==============================] - 6s 15ms/step - loss: 1.5989 - accuracy: 0.4275 - precision: 0.6560 - recall: 0.1891 - val_loss: 1.5540 - val_accuracy: 0.4517 - val_precision: 0.6997 - val_recall: 0.1857\n",
      "Epoch 4/50\n",
      "391/391 [==============================] - 6s 15ms/step - loss: 1.5475 - accuracy: 0.4476 - precision: 0.6594 - recall: 0.2141 - val_loss: 1.5633 - val_accuracy: 0.4451 - val_precision: 0.6311 - val_recall: 0.2246\n",
      "Epoch 5/50\n",
      "391/391 [==============================] - 6s 15ms/step - loss: 1.4991 - accuracy: 0.4640 - precision: 0.6733 - recall: 0.2422 - val_loss: 1.5034 - val_accuracy: 0.4601 - val_precision: 0.6752 - val_recall: 0.2318\n",
      "Epoch 6/50\n",
      "391/391 [==============================] - 6s 15ms/step - loss: 1.4577 - accuracy: 0.4783 - precision: 0.6846 - recall: 0.2641 - val_loss: 1.4621 - val_accuracy: 0.4814 - val_precision: 0.6777 - val_recall: 0.2643\n",
      "Epoch 7/50\n",
      "391/391 [==============================] - 6s 15ms/step - loss: 1.4271 - accuracy: 0.4899 - precision: 0.6905 - recall: 0.2799 - val_loss: 1.4769 - val_accuracy: 0.4726 - val_precision: 0.6612 - val_recall: 0.2795\n",
      "Epoch 8/50\n",
      "391/391 [==============================] - 6s 16ms/step - loss: 1.3919 - accuracy: 0.5035 - precision: 0.6955 - recall: 0.2980 - val_loss: 1.4545 - val_accuracy: 0.4822 - val_precision: 0.6667 - val_recall: 0.2849\n",
      "Epoch 9/50\n",
      "391/391 [==============================] - 6s 15ms/step - loss: 1.3756 - accuracy: 0.5089 - precision: 0.6983 - recall: 0.3066 - val_loss: 1.4391 - val_accuracy: 0.4902 - val_precision: 0.6823 - val_recall: 0.2859\n",
      "Epoch 10/50\n",
      "391/391 [==============================] - 6s 15ms/step - loss: 1.3495 - accuracy: 0.5173 - precision: 0.7077 - recall: 0.3232 - val_loss: 1.4096 - val_accuracy: 0.5005 - val_precision: 0.6830 - val_recall: 0.3122\n",
      "Epoch 11/50\n",
      "391/391 [==============================] - 6s 16ms/step - loss: 1.3145 - accuracy: 0.5324 - precision: 0.7119 - recall: 0.3410 - val_loss: 1.4084 - val_accuracy: 0.5015 - val_precision: 0.6679 - val_recall: 0.3340\n",
      "Epoch 12/50\n",
      "391/391 [==============================] - 7s 17ms/step - loss: 1.2987 - accuracy: 0.5366 - precision: 0.7168 - recall: 0.3505 - val_loss: 1.4081 - val_accuracy: 0.5050 - val_precision: 0.6818 - val_recall: 0.3120\n",
      "Epoch 13/50\n",
      "391/391 [==============================] - 6s 15ms/step - loss: 1.2710 - accuracy: 0.5465 - precision: 0.7181 - recall: 0.3634 - val_loss: 1.4835 - val_accuracy: 0.4768 - val_precision: 0.6379 - val_recall: 0.3046\n",
      "Epoch 14/50\n",
      "391/391 [==============================] - 6s 15ms/step - loss: 1.2599 - accuracy: 0.5500 - precision: 0.7193 - recall: 0.3705 - val_loss: 1.3977 - val_accuracy: 0.5042 - val_precision: 0.6784 - val_recall: 0.3172\n",
      "Epoch 15/50\n",
      "391/391 [==============================] - 6s 15ms/step - loss: 1.2400 - accuracy: 0.5579 - precision: 0.7243 - recall: 0.3817 - val_loss: 1.3865 - val_accuracy: 0.5085 - val_precision: 0.6630 - val_recall: 0.3685\n",
      "Epoch 16/50\n",
      "391/391 [==============================] - 6s 15ms/step - loss: 1.2159 - accuracy: 0.5664 - precision: 0.7313 - recall: 0.3958 - val_loss: 1.3977 - val_accuracy: 0.5093 - val_precision: 0.6672 - val_recall: 0.3436\n",
      "Epoch 17/50\n",
      "391/391 [==============================] - 6s 15ms/step - loss: 1.1941 - accuracy: 0.5731 - precision: 0.7347 - recall: 0.4059 - val_loss: 1.3920 - val_accuracy: 0.5116 - val_precision: 0.6641 - val_recall: 0.3638\n",
      "Epoch 18/50\n",
      "391/391 [==============================] - 6s 15ms/step - loss: 1.1862 - accuracy: 0.5773 - precision: 0.7364 - recall: 0.4107 - val_loss: 1.3580 - val_accuracy: 0.5264 - val_precision: 0.6666 - val_recall: 0.3735\n",
      "Epoch 19/50\n",
      "391/391 [==============================] - 6s 15ms/step - loss: 1.1542 - accuracy: 0.5885 - precision: 0.7428 - recall: 0.4284 - val_loss: 1.3985 - val_accuracy: 0.5147 - val_precision: 0.6593 - val_recall: 0.3671\n",
      "Epoch 20/50\n",
      "391/391 [==============================] - 6s 15ms/step - loss: 1.1406 - accuracy: 0.5914 - precision: 0.7433 - recall: 0.4354 - val_loss: 1.4407 - val_accuracy: 0.4926 - val_precision: 0.6471 - val_recall: 0.3484\n",
      "Epoch 21/50\n",
      "391/391 [==============================] - 6s 15ms/step - loss: 1.1177 - accuracy: 0.6004 - precision: 0.7516 - recall: 0.4486 - val_loss: 1.4359 - val_accuracy: 0.5113 - val_precision: 0.6374 - val_recall: 0.3711\n",
      "Epoch 22/50\n",
      "391/391 [==============================] - 6s 15ms/step - loss: 1.0972 - accuracy: 0.6096 - precision: 0.7544 - recall: 0.4603 - val_loss: 1.3909 - val_accuracy: 0.5233 - val_precision: 0.6564 - val_recall: 0.3913\n",
      "Epoch 23/50\n",
      "391/391 [==============================] - 6s 17ms/step - loss: 1.0845 - accuracy: 0.6127 - precision: 0.7567 - recall: 0.4685 - val_loss: 1.3824 - val_accuracy: 0.5282 - val_precision: 0.6612 - val_recall: 0.3892\n",
      "Epoch 24/50\n",
      "391/391 [==============================] - 7s 17ms/step - loss: 1.0696 - accuracy: 0.6196 - precision: 0.7616 - recall: 0.4767 - val_loss: 1.4169 - val_accuracy: 0.5203 - val_precision: 0.6492 - val_recall: 0.3918\n",
      "Epoch 25/50\n",
      "391/391 [==============================] - 8s 20ms/step - loss: 1.0525 - accuracy: 0.6227 - precision: 0.7608 - recall: 0.4845 - val_loss: 1.4343 - val_accuracy: 0.5214 - val_precision: 0.6415 - val_recall: 0.4034\n",
      "Epoch 26/50\n",
      "391/391 [==============================] - 7s 18ms/step - loss: 1.0338 - accuracy: 0.6291 - precision: 0.7649 - recall: 0.4940 - val_loss: 1.4442 - val_accuracy: 0.5144 - val_precision: 0.6395 - val_recall: 0.3842\n",
      "Epoch 27/50\n",
      "391/391 [==============================] - 6s 16ms/step - loss: 1.0204 - accuracy: 0.6356 - precision: 0.7688 - recall: 0.5024 - val_loss: 1.4307 - val_accuracy: 0.5202 - val_precision: 0.6365 - val_recall: 0.3900\n",
      "Epoch 28/50\n",
      "391/391 [==============================] - 6s 15ms/step - loss: 0.9953 - accuracy: 0.6438 - precision: 0.7741 - recall: 0.5148 - val_loss: 1.4564 - val_accuracy: 0.5236 - val_precision: 0.6335 - val_recall: 0.4079\n",
      "Epoch 29/50\n",
      "391/391 [==============================] - 6s 15ms/step - loss: 0.9855 - accuracy: 0.6482 - precision: 0.7761 - recall: 0.5216 - val_loss: 1.4707 - val_accuracy: 0.5178 - val_precision: 0.6298 - val_recall: 0.4083\n",
      "Epoch 30/50\n",
      "391/391 [==============================] - 6s 15ms/step - loss: 0.9662 - accuracy: 0.6551 - precision: 0.7792 - recall: 0.5331 - val_loss: 1.4808 - val_accuracy: 0.5169 - val_precision: 0.6251 - val_recall: 0.4136\n",
      "Epoch 31/50\n",
      "391/391 [==============================] - 6s 15ms/step - loss: 0.9566 - accuracy: 0.6586 - precision: 0.7787 - recall: 0.5362 - val_loss: 1.4777 - val_accuracy: 0.5101 - val_precision: 0.6229 - val_recall: 0.3999\n",
      "Epoch 32/50\n",
      "391/391 [==============================] - 6s 15ms/step - loss: 0.9372 - accuracy: 0.6619 - precision: 0.7841 - recall: 0.5455 - val_loss: 1.5395 - val_accuracy: 0.5083 - val_precision: 0.6109 - val_recall: 0.4026\n",
      "Epoch 33/50\n",
      "391/391 [==============================] - 6s 15ms/step - loss: 0.9220 - accuracy: 0.6690 - precision: 0.7903 - recall: 0.5544 - val_loss: 1.4900 - val_accuracy: 0.5244 - val_precision: 0.6289 - val_recall: 0.4228\n",
      "Epoch 34/50\n",
      "391/391 [==============================] - 6s 15ms/step - loss: 0.9112 - accuracy: 0.6767 - precision: 0.7927 - recall: 0.5631 - val_loss: 1.5545 - val_accuracy: 0.5107 - val_precision: 0.6070 - val_recall: 0.4170\n",
      "Epoch 35/50\n",
      "391/391 [==============================] - 6s 16ms/step - loss: 0.9011 - accuracy: 0.6780 - precision: 0.7903 - recall: 0.5659 - val_loss: 1.5517 - val_accuracy: 0.5166 - val_precision: 0.6111 - val_recall: 0.4156\n",
      "Epoch 36/50\n",
      "391/391 [==============================] - 6s 15ms/step - loss: 0.8787 - accuracy: 0.6834 - precision: 0.7959 - recall: 0.5764 - val_loss: 1.5838 - val_accuracy: 0.5153 - val_precision: 0.6092 - val_recall: 0.4174\n",
      "Epoch 37/50\n"
     ]
    },
    {
     "name": "stdout",
     "output_type": "stream",
     "text": [
      "391/391 [==============================] - 6s 15ms/step - loss: 0.8692 - accuracy: 0.6890 - precision: 0.7978 - recall: 0.5844 - val_loss: 1.6224 - val_accuracy: 0.5098 - val_precision: 0.5986 - val_recall: 0.4331\n",
      "Epoch 38/50\n",
      "391/391 [==============================] - 6s 15ms/step - loss: 0.8603 - accuracy: 0.6894 - precision: 0.7975 - recall: 0.5885 - val_loss: 1.6084 - val_accuracy: 0.5144 - val_precision: 0.6056 - val_recall: 0.4291\n",
      "Epoch 39/50\n",
      "391/391 [==============================] - 6s 15ms/step - loss: 0.8412 - accuracy: 0.6982 - precision: 0.8017 - recall: 0.5984 - val_loss: 1.6382 - val_accuracy: 0.5087 - val_precision: 0.5967 - val_recall: 0.4272\n",
      "Epoch 40/50\n",
      "391/391 [==============================] - 6s 15ms/step - loss: 0.8266 - accuracy: 0.7038 - precision: 0.8044 - recall: 0.6065 - val_loss: 1.6333 - val_accuracy: 0.5151 - val_precision: 0.5969 - val_recall: 0.4295\n",
      "Epoch 41/50\n",
      "391/391 [==============================] - 6s 15ms/step - loss: 0.8127 - accuracy: 0.7086 - precision: 0.8090 - recall: 0.6134 - val_loss: 1.6666 - val_accuracy: 0.5054 - val_precision: 0.5843 - val_recall: 0.4224\n",
      "Epoch 42/50\n",
      "391/391 [==============================] - 6s 15ms/step - loss: 0.8063 - accuracy: 0.7121 - precision: 0.8093 - recall: 0.6187 - val_loss: 1.6708 - val_accuracy: 0.5118 - val_precision: 0.5925 - val_recall: 0.4341\n",
      "Epoch 43/50\n",
      "391/391 [==============================] - 6s 15ms/step - loss: 0.7921 - accuracy: 0.7168 - precision: 0.8138 - recall: 0.6242 - val_loss: 1.6952 - val_accuracy: 0.5104 - val_precision: 0.5912 - val_recall: 0.4423\n",
      "Epoch 44/50\n",
      "391/391 [==============================] - 6s 15ms/step - loss: 0.7774 - accuracy: 0.7219 - precision: 0.8154 - recall: 0.6335 - val_loss: 1.7350 - val_accuracy: 0.5104 - val_precision: 0.5888 - val_recall: 0.4362\n",
      "Epoch 45/50\n",
      "391/391 [==============================] - 6s 15ms/step - loss: 0.7631 - accuracy: 0.7243 - precision: 0.8196 - recall: 0.6398 - val_loss: 1.7340 - val_accuracy: 0.5141 - val_precision: 0.5861 - val_recall: 0.4355\n",
      "Epoch 46/50\n",
      "391/391 [==============================] - 6s 15ms/step - loss: 0.7562 - accuracy: 0.7296 - precision: 0.8205 - recall: 0.6452 - val_loss: 1.7512 - val_accuracy: 0.5073 - val_precision: 0.5785 - val_recall: 0.4384\n",
      "Epoch 47/50\n",
      "391/391 [==============================] - 6s 15ms/step - loss: 0.7406 - accuracy: 0.7329 - precision: 0.8239 - recall: 0.6524 - val_loss: 1.7922 - val_accuracy: 0.5125 - val_precision: 0.5832 - val_recall: 0.4511\n",
      "Epoch 48/50\n",
      "391/391 [==============================] - 6s 15ms/step - loss: 0.7348 - accuracy: 0.7350 - precision: 0.8242 - recall: 0.6553 - val_loss: 1.7865 - val_accuracy: 0.5188 - val_precision: 0.5871 - val_recall: 0.4506\n",
      "Epoch 49/50\n",
      "391/391 [==============================] - 6s 16ms/step - loss: 0.7246 - accuracy: 0.7379 - precision: 0.8258 - recall: 0.6599 - val_loss: 1.8218 - val_accuracy: 0.5053 - val_precision: 0.5726 - val_recall: 0.4340\n",
      "Epoch 50/50\n",
      "391/391 [==============================] - 7s 17ms/step - loss: 0.7173 - accuracy: 0.7425 - precision: 0.8246 - recall: 0.6644 - val_loss: 1.8305 - val_accuracy: 0.5031 - val_precision: 0.5670 - val_recall: 0.4364\n"
     ]
    }
   ],
   "source": [
    "history_Leakyrelu = model_Leakyrelu.fit(x_train,y_train, \n",
    "              epochs=50,batch_size = 128,\n",
    "              validation_data=(x_test, y_test))"
   ]
  },
  {
   "cell_type": "code",
   "execution_count": 14,
   "id": "3c64f2a1",
   "metadata": {},
   "outputs": [
    {
     "name": "stdout",
     "output_type": "stream",
     "text": [
      "313/313 [==============================] - 3s 11ms/step - loss: 1.8305 - accuracy: 0.5031 - precision: 0.5670 - recall: 0.4364\n"
     ]
    },
    {
     "data": {
      "text/plain": [
       "[1.8305155038833618,\n",
       " 0.5031000375747681,\n",
       " 0.5670478343963623,\n",
       " 0.43640002608299255]"
      ]
     },
     "execution_count": 14,
     "metadata": {},
     "output_type": "execute_result"
    }
   ],
   "source": [
    "model_Leakyrelu.evaluate(x_test, y_test)"
   ]
  },
  {
   "cell_type": "markdown",
   "id": "4f8434ba",
   "metadata": {},
   "source": [
    "Training accuracy: 74.25%\n",
    "Testing accuracy: 50.3%"
   ]
  },
  {
   "cell_type": "markdown",
   "id": "cb69ae58",
   "metadata": {},
   "source": [
    "### Randomized Leaky Relu"
   ]
  },
  {
   "cell_type": "code",
   "execution_count": 23,
   "id": "ee65dce8",
   "metadata": {},
   "outputs": [],
   "source": [
    "# Custom layer for randomized Leaky ReLU activation\n",
    "class RandomizedLeakyReLU(tf.keras.layers.Layer):\n",
    "    def __init__(self, **kwargs):\n",
    "        super(RandomizedLeakyReLU, self).__init__(**kwargs)\n",
    "\n",
    "    def call(self, inputs):\n",
    "        alpha = tf.random.uniform(shape=tf.shape(inputs), minval=0.01, maxval=0.2)\n",
    "        return tf.maximum(alpha * inputs, inputs)\n",
    "\n",
    "# Modify the layers to use randomized Leaky ReLU activation\n",
    "LAYERS = [\n",
    "    tf.keras.layers.Flatten(input_shape=[32, 32, 3], name=\"inputLayer\"),\n",
    "    tf.keras.layers.Dense(300, name=\"hiddenLayer1\"),\n",
    "    RandomizedLeakyReLU(name=\"hiddenLayer1_activation\"),\n",
    "    tf.keras.layers.Dense(200, name=\"hiddenLayer2\"),\n",
    "    RandomizedLeakyReLU(name=\"hiddenLayer2_activation\"),\n",
    "    tf.keras.layers.Dense(100, name=\"hiddenLayer3\"),\n",
    "    RandomizedLeakyReLU(name=\"hiddenLayer3_activation\"),\n",
    "    tf.keras.layers.Dense(10, activation=\"softmax\", name=\"outputLayer\")\n",
    "]"
   ]
  },
  {
   "cell_type": "code",
   "execution_count": 24,
   "id": "348269c8",
   "metadata": {
    "scrolled": true
   },
   "outputs": [],
   "source": [
    "model_RandomizedLeakyrelu = tf.keras.models.Sequential(LAYERS)"
   ]
  },
  {
   "cell_type": "code",
   "execution_count": 25,
   "id": "4eb5869f",
   "metadata": {},
   "outputs": [],
   "source": [
    "METRICS = [\n",
    "    'accuracy',\n",
    "    tf.keras.metrics.Precision(name='precision'),\n",
    "    tf.keras.metrics.Recall(name='recall')\n",
    "]\n",
    "\n",
    "model_RandomizedLeakyrelu.compile(optimizer='adam', loss='categorical_crossentropy', metrics=METRICS)"
   ]
  },
  {
   "cell_type": "code",
   "execution_count": 26,
   "id": "2ee20ca4",
   "metadata": {},
   "outputs": [
    {
     "name": "stdout",
     "output_type": "stream",
     "text": [
      "Epoch 1/50\n"
     ]
    },
    {
     "name": "stderr",
     "output_type": "stream",
     "text": [
      "2023-05-12 14:32:58.933362: I tensorflow/core/grappler/optimizers/custom_graph_optimizer_registry.cc:113] Plugin optimizer for device_type GPU is enabled.\n"
     ]
    },
    {
     "name": "stdout",
     "output_type": "stream",
     "text": [
      "391/391 [==============================] - ETA: 0s - loss: 1.9105 - accuracy: 0.3092 - precision: 0.5714 - recall: 0.0641"
     ]
    },
    {
     "name": "stderr",
     "output_type": "stream",
     "text": [
      "2023-05-12 14:33:05.244197: I tensorflow/core/grappler/optimizers/custom_graph_optimizer_registry.cc:113] Plugin optimizer for device_type GPU is enabled.\n"
     ]
    },
    {
     "name": "stdout",
     "output_type": "stream",
     "text": [
      "391/391 [==============================] - 8s 18ms/step - loss: 1.9105 - accuracy: 0.3092 - precision: 0.5714 - recall: 0.0641 - val_loss: 1.7491 - val_accuracy: 0.3775 - val_precision: 0.6091 - val_recall: 0.1259\n",
      "Epoch 2/50\n",
      "391/391 [==============================] - 7s 17ms/step - loss: 1.7035 - accuracy: 0.3892 - precision: 0.6171 - recall: 0.1420 - val_loss: 1.6783 - val_accuracy: 0.4032 - val_precision: 0.6352 - val_recall: 0.1576\n",
      "Epoch 3/50\n",
      "391/391 [==============================] - 7s 17ms/step - loss: 1.6212 - accuracy: 0.4233 - precision: 0.6439 - recall: 0.1861 - val_loss: 1.5678 - val_accuracy: 0.4412 - val_precision: 0.6748 - val_recall: 0.1998\n",
      "Epoch 4/50\n",
      "391/391 [==============================] - 7s 18ms/step - loss: 1.5643 - accuracy: 0.4427 - precision: 0.6523 - recall: 0.2138 - val_loss: 1.5940 - val_accuracy: 0.4385 - val_precision: 0.6326 - val_recall: 0.2197\n",
      "Epoch 5/50\n",
      "391/391 [==============================] - 7s 17ms/step - loss: 1.5130 - accuracy: 0.4613 - precision: 0.6668 - recall: 0.2405 - val_loss: 1.5102 - val_accuracy: 0.4617 - val_precision: 0.6843 - val_recall: 0.2243\n",
      "Epoch 6/50\n",
      "391/391 [==============================] - 7s 17ms/step - loss: 1.4858 - accuracy: 0.4686 - precision: 0.6694 - recall: 0.2542 - val_loss: 1.5041 - val_accuracy: 0.4675 - val_precision: 0.6587 - val_recall: 0.2634\n",
      "Epoch 7/50\n",
      "391/391 [==============================] - 7s 17ms/step - loss: 1.4476 - accuracy: 0.4814 - precision: 0.6760 - recall: 0.2703 - val_loss: 1.4658 - val_accuracy: 0.4782 - val_precision: 0.6624 - val_recall: 0.2759\n",
      "Epoch 8/50\n",
      "391/391 [==============================] - 7s 17ms/step - loss: 1.4142 - accuracy: 0.4967 - precision: 0.6867 - recall: 0.2920 - val_loss: 1.4599 - val_accuracy: 0.4830 - val_precision: 0.6602 - val_recall: 0.2912\n",
      "Epoch 9/50\n",
      "391/391 [==============================] - 7s 17ms/step - loss: 1.3947 - accuracy: 0.5018 - precision: 0.6897 - recall: 0.3020 - val_loss: 1.4494 - val_accuracy: 0.4854 - val_precision: 0.6749 - val_recall: 0.2909\n",
      "Epoch 10/50\n",
      "391/391 [==============================] - 7s 17ms/step - loss: 1.3670 - accuracy: 0.5105 - precision: 0.6945 - recall: 0.3169 - val_loss: 1.4138 - val_accuracy: 0.5020 - val_precision: 0.6787 - val_recall: 0.3149\n",
      "Epoch 11/50\n",
      "391/391 [==============================] - 7s 17ms/step - loss: 1.3385 - accuracy: 0.5209 - precision: 0.7033 - recall: 0.3308 - val_loss: 1.4527 - val_accuracy: 0.4856 - val_precision: 0.6662 - val_recall: 0.3040\n",
      "Epoch 12/50\n",
      "391/391 [==============================] - 7s 17ms/step - loss: 1.3195 - accuracy: 0.5282 - precision: 0.7067 - recall: 0.3413 - val_loss: 1.4357 - val_accuracy: 0.4939 - val_precision: 0.6658 - val_recall: 0.3217\n",
      "Epoch 13/50\n",
      "391/391 [==============================] - 7s 17ms/step - loss: 1.2963 - accuracy: 0.5366 - precision: 0.7085 - recall: 0.3563 - val_loss: 1.4250 - val_accuracy: 0.4958 - val_precision: 0.6539 - val_recall: 0.3176\n",
      "Epoch 14/50\n",
      "391/391 [==============================] - 7s 17ms/step - loss: 1.2705 - accuracy: 0.5460 - precision: 0.7150 - recall: 0.3694 - val_loss: 1.4019 - val_accuracy: 0.5048 - val_precision: 0.6533 - val_recall: 0.3589\n",
      "Epoch 15/50\n",
      "391/391 [==============================] - 7s 17ms/step - loss: 1.2477 - accuracy: 0.5542 - precision: 0.7205 - recall: 0.3826 - val_loss: 1.4211 - val_accuracy: 0.4995 - val_precision: 0.6431 - val_recall: 0.3552\n",
      "Epoch 16/50\n",
      "391/391 [==============================] - 7s 17ms/step - loss: 1.2250 - accuracy: 0.5605 - precision: 0.7252 - recall: 0.3919 - val_loss: 1.3923 - val_accuracy: 0.5118 - val_precision: 0.6648 - val_recall: 0.3365\n",
      "Epoch 17/50\n",
      "391/391 [==============================] - 6s 17ms/step - loss: 1.2056 - accuracy: 0.5675 - precision: 0.7271 - recall: 0.4018 - val_loss: 1.4196 - val_accuracy: 0.5038 - val_precision: 0.6471 - val_recall: 0.3601\n",
      "Epoch 18/50\n",
      "391/391 [==============================] - 6s 17ms/step - loss: 1.1869 - accuracy: 0.5752 - precision: 0.7335 - recall: 0.4165 - val_loss: 1.3693 - val_accuracy: 0.5152 - val_precision: 0.6715 - val_recall: 0.3547\n",
      "Epoch 19/50\n",
      "391/391 [==============================] - 6s 17ms/step - loss: 1.1650 - accuracy: 0.5816 - precision: 0.7320 - recall: 0.4236 - val_loss: 1.3827 - val_accuracy: 0.5233 - val_precision: 0.6547 - val_recall: 0.3931\n",
      "Epoch 20/50\n",
      "391/391 [==============================] - 7s 17ms/step - loss: 1.1467 - accuracy: 0.5897 - precision: 0.7397 - recall: 0.4349 - val_loss: 1.3735 - val_accuracy: 0.5173 - val_precision: 0.6582 - val_recall: 0.3779\n",
      "Epoch 21/50\n",
      "391/391 [==============================] - 7s 17ms/step - loss: 1.1337 - accuracy: 0.5946 - precision: 0.7414 - recall: 0.4436 - val_loss: 1.3757 - val_accuracy: 0.5238 - val_precision: 0.6513 - val_recall: 0.3878\n",
      "Epoch 22/50\n",
      "391/391 [==============================] - 7s 17ms/step - loss: 1.1107 - accuracy: 0.6033 - precision: 0.7464 - recall: 0.4578 - val_loss: 1.3661 - val_accuracy: 0.5303 - val_precision: 0.6619 - val_recall: 0.3921\n",
      "Epoch 23/50\n",
      "391/391 [==============================] - 7s 17ms/step - loss: 1.0928 - accuracy: 0.6085 - precision: 0.7491 - recall: 0.4667 - val_loss: 1.3756 - val_accuracy: 0.5280 - val_precision: 0.6646 - val_recall: 0.3920\n",
      "Epoch 24/50\n",
      "391/391 [==============================] - 7s 18ms/step - loss: 1.0713 - accuracy: 0.6145 - precision: 0.7521 - recall: 0.4757 - val_loss: 1.4145 - val_accuracy: 0.5153 - val_precision: 0.6442 - val_recall: 0.3912\n",
      "Epoch 25/50\n",
      "391/391 [==============================] - 7s 17ms/step - loss: 1.0534 - accuracy: 0.6235 - precision: 0.7580 - recall: 0.4863 - val_loss: 1.3946 - val_accuracy: 0.5254 - val_precision: 0.6409 - val_recall: 0.4172\n",
      "Epoch 26/50\n",
      "391/391 [==============================] - 7s 17ms/step - loss: 1.0439 - accuracy: 0.6258 - precision: 0.7584 - recall: 0.4943 - val_loss: 1.4284 - val_accuracy: 0.5181 - val_precision: 0.6287 - val_recall: 0.4087\n",
      "Epoch 27/50\n",
      "391/391 [==============================] - 7s 18ms/step - loss: 1.0181 - accuracy: 0.6350 - precision: 0.7656 - recall: 0.5061 - val_loss: 1.4037 - val_accuracy: 0.5293 - val_precision: 0.6427 - val_recall: 0.4201\n",
      "Epoch 28/50\n",
      "391/391 [==============================] - 7s 17ms/step - loss: 1.0079 - accuracy: 0.6392 - precision: 0.7657 - recall: 0.5125 - val_loss: 1.4352 - val_accuracy: 0.5241 - val_precision: 0.6330 - val_recall: 0.4255\n",
      "Epoch 29/50\n",
      "391/391 [==============================] - 7s 18ms/step - loss: 0.9934 - accuracy: 0.6446 - precision: 0.7694 - recall: 0.5221 - val_loss: 1.4004 - val_accuracy: 0.5319 - val_precision: 0.6485 - val_recall: 0.4276\n",
      "Epoch 30/50\n",
      "391/391 [==============================] - 7s 18ms/step - loss: 0.9722 - accuracy: 0.6506 - precision: 0.7716 - recall: 0.5307 - val_loss: 1.4389 - val_accuracy: 0.5208 - val_precision: 0.6229 - val_recall: 0.4173\n",
      "Epoch 31/50\n",
      "391/391 [==============================] - 7s 17ms/step - loss: 0.9546 - accuracy: 0.6562 - precision: 0.7747 - recall: 0.5405 - val_loss: 1.4673 - val_accuracy: 0.5197 - val_precision: 0.6256 - val_recall: 0.4103\n",
      "Epoch 32/50\n",
      "391/391 [==============================] - 7s 17ms/step - loss: 0.9491 - accuracy: 0.6596 - precision: 0.7763 - recall: 0.5475 - val_loss: 1.4499 - val_accuracy: 0.5284 - val_precision: 0.6302 - val_recall: 0.4299\n",
      "Epoch 33/50\n",
      "391/391 [==============================] - 7s 17ms/step - loss: 0.9263 - accuracy: 0.6657 - precision: 0.7789 - recall: 0.5560 - val_loss: 1.4454 - val_accuracy: 0.5255 - val_precision: 0.6347 - val_recall: 0.4244\n",
      "Epoch 34/50\n",
      "391/391 [==============================] - 7s 17ms/step - loss: 0.9146 - accuracy: 0.6709 - precision: 0.7823 - recall: 0.5634 - val_loss: 1.5541 - val_accuracy: 0.5193 - val_precision: 0.6068 - val_recall: 0.4307\n",
      "Epoch 35/50\n",
      "391/391 [==============================] - 7s 17ms/step - loss: 0.8949 - accuracy: 0.6787 - precision: 0.7851 - recall: 0.5721 - val_loss: 1.4987 - val_accuracy: 0.5268 - val_precision: 0.6171 - val_recall: 0.4381\n",
      "Epoch 36/50\n",
      "391/391 [==============================] - 7s 17ms/step - loss: 0.8803 - accuracy: 0.6832 - precision: 0.7874 - recall: 0.5814 - val_loss: 1.4735 - val_accuracy: 0.5310 - val_precision: 0.6290 - val_recall: 0.4357\n",
      "Epoch 37/50\n"
     ]
    },
    {
     "name": "stdout",
     "output_type": "stream",
     "text": [
      "391/391 [==============================] - 7s 17ms/step - loss: 0.8639 - accuracy: 0.6888 - precision: 0.7922 - recall: 0.5901 - val_loss: 1.4739 - val_accuracy: 0.5357 - val_precision: 0.6225 - val_recall: 0.4506\n",
      "Epoch 38/50\n",
      "391/391 [==============================] - 7s 18ms/step - loss: 0.8429 - accuracy: 0.6962 - precision: 0.7970 - recall: 0.6029 - val_loss: 1.5085 - val_accuracy: 0.5272 - val_precision: 0.6158 - val_recall: 0.4478\n",
      "Epoch 39/50\n",
      "391/391 [==============================] - 7s 17ms/step - loss: 0.8343 - accuracy: 0.7002 - precision: 0.7966 - recall: 0.6053 - val_loss: 1.5219 - val_accuracy: 0.5264 - val_precision: 0.6112 - val_recall: 0.4487\n",
      "Epoch 40/50\n",
      "391/391 [==============================] - 7s 17ms/step - loss: 0.8254 - accuracy: 0.7026 - precision: 0.7986 - recall: 0.6107 - val_loss: 1.4953 - val_accuracy: 0.5463 - val_precision: 0.6227 - val_recall: 0.4645\n",
      "Epoch 41/50\n",
      "391/391 [==============================] - 7s 18ms/step - loss: 0.8052 - accuracy: 0.7092 - precision: 0.8029 - recall: 0.6203 - val_loss: 1.5973 - val_accuracy: 0.5297 - val_precision: 0.6064 - val_recall: 0.4646\n",
      "Epoch 42/50\n",
      "391/391 [==============================] - 7s 17ms/step - loss: 0.7907 - accuracy: 0.7145 - precision: 0.8068 - recall: 0.6285 - val_loss: 1.6020 - val_accuracy: 0.5230 - val_precision: 0.5976 - val_recall: 0.4443\n",
      "Epoch 43/50\n",
      "391/391 [==============================] - 7s 17ms/step - loss: 0.7849 - accuracy: 0.7186 - precision: 0.8057 - recall: 0.6321 - val_loss: 1.6609 - val_accuracy: 0.5233 - val_precision: 0.5954 - val_recall: 0.4543\n",
      "Epoch 44/50\n",
      "391/391 [==============================] - 7s 17ms/step - loss: 0.7725 - accuracy: 0.7205 - precision: 0.8078 - recall: 0.6373 - val_loss: 1.5990 - val_accuracy: 0.5292 - val_precision: 0.6035 - val_recall: 0.4589\n",
      "Epoch 45/50\n",
      "391/391 [==============================] - 7s 17ms/step - loss: 0.7521 - accuracy: 0.7312 - precision: 0.8160 - recall: 0.6525 - val_loss: 1.6477 - val_accuracy: 0.5354 - val_precision: 0.6026 - val_recall: 0.4709\n",
      "Epoch 46/50\n",
      "391/391 [==============================] - 7s 17ms/step - loss: 0.7416 - accuracy: 0.7335 - precision: 0.8166 - recall: 0.6538 - val_loss: 1.6473 - val_accuracy: 0.5281 - val_precision: 0.5926 - val_recall: 0.4648\n",
      "Epoch 47/50\n",
      "391/391 [==============================] - 7s 17ms/step - loss: 0.7366 - accuracy: 0.7352 - precision: 0.8177 - recall: 0.6582 - val_loss: 1.6226 - val_accuracy: 0.5341 - val_precision: 0.6064 - val_recall: 0.4723\n",
      "Epoch 48/50\n",
      "391/391 [==============================] - 7s 18ms/step - loss: 0.7153 - accuracy: 0.7409 - precision: 0.8200 - recall: 0.6689 - val_loss: 1.6787 - val_accuracy: 0.5309 - val_precision: 0.5922 - val_recall: 0.4671\n",
      "Epoch 49/50\n",
      "391/391 [==============================] - 7s 17ms/step - loss: 0.7067 - accuracy: 0.7439 - precision: 0.8237 - recall: 0.6726 - val_loss: 1.7237 - val_accuracy: 0.5176 - val_precision: 0.5840 - val_recall: 0.4555\n",
      "Epoch 50/50\n",
      "391/391 [==============================] - 7s 17ms/step - loss: 0.7004 - accuracy: 0.7494 - precision: 0.8264 - recall: 0.6790 - val_loss: 1.6725 - val_accuracy: 0.5392 - val_precision: 0.5961 - val_recall: 0.4813\n"
     ]
    }
   ],
   "source": [
    "history_RandomizedLeakyrelu = model_RandomizedLeakyrelu.fit(x_train,y_train, \n",
    "              epochs=50,batch_size = 128,\n",
    "              validation_data=(x_test, y_test))"
   ]
  },
  {
   "cell_type": "code",
   "execution_count": 27,
   "id": "63ad1855",
   "metadata": {},
   "outputs": [
    {
     "name": "stdout",
     "output_type": "stream",
     "text": [
      "313/313 [==============================] - 4s 12ms/step - loss: 1.6790 - accuracy: 0.5426 - precision: 0.5958 - recall: 0.4807\n"
     ]
    },
    {
     "data": {
      "text/plain": [
       "[1.6789637804031372,\n",
       " 0.5426000356674194,\n",
       " 0.5958106517791748,\n",
       " 0.4807000160217285]"
      ]
     },
     "execution_count": 27,
     "metadata": {},
     "output_type": "execute_result"
    }
   ],
   "source": [
    "model_RandomizedLeakyrelu.evaluate(x_test, y_test)"
   ]
  },
  {
   "cell_type": "markdown",
   "id": "b78307cf",
   "metadata": {},
   "source": [
    "Training accuracy: 74%\n",
    "Testing Accuracy: 54.26%"
   ]
  },
  {
   "cell_type": "markdown",
   "id": "d4e1d1fc",
   "metadata": {},
   "source": [
    "### Parametric Leaky Relu"
   ]
  },
  {
   "cell_type": "code",
   "execution_count": 29,
   "id": "ceb0d65a",
   "metadata": {},
   "outputs": [],
   "source": [
    "\n",
    "# Modify the layers to use Parametric Leaky ReLU activation\n",
    "LAYERS = [\n",
    "    tf.keras.layers.Flatten(input_shape=[32, 32, 3], name=\"inputLayer\"),\n",
    "    tf.keras.layers.Dense(300, name=\"hiddenLayer1\"),\n",
    "    tf.keras.layers.PReLU(name=\"hiddenLayer1_activation\"),\n",
    "    tf.keras.layers.Dense(200, name=\"hiddenLayer2\"),\n",
    "    tf.keras.layers.PReLU(name=\"hiddenLayer2_activation\"),\n",
    "    tf.keras.layers.Dense(100, name=\"hiddenLayer3\"),\n",
    "    tf.keras.layers.PReLU(name=\"hiddenLayer3_activation\"),\n",
    "    tf.keras.layers.Dense(10, activation=\"softmax\", name=\"outputLayer\")\n",
    "]"
   ]
  },
  {
   "cell_type": "code",
   "execution_count": 30,
   "id": "eb24e419",
   "metadata": {},
   "outputs": [],
   "source": [
    "model_ParaLeakyrelu = tf.keras.models.Sequential(LAYERS)"
   ]
  },
  {
   "cell_type": "code",
   "execution_count": 31,
   "id": "22fb1dca",
   "metadata": {},
   "outputs": [],
   "source": [
    "METRICS = [\n",
    "    'accuracy',\n",
    "    tf.keras.metrics.Precision(name='precision'),\n",
    "    tf.keras.metrics.Recall(name='recall')\n",
    "]\n",
    "\n",
    "model_ParaLeakyrelu.compile(optimizer='adam', loss='categorical_crossentropy', metrics=METRICS)"
   ]
  },
  {
   "cell_type": "code",
   "execution_count": 32,
   "id": "1da74edb",
   "metadata": {},
   "outputs": [
    {
     "name": "stdout",
     "output_type": "stream",
     "text": [
      "Epoch 1/50\n"
     ]
    },
    {
     "name": "stderr",
     "output_type": "stream",
     "text": [
      "2023-05-12 14:41:24.969942: I tensorflow/core/grappler/optimizers/custom_graph_optimizer_registry.cc:113] Plugin optimizer for device_type GPU is enabled.\n"
     ]
    },
    {
     "name": "stdout",
     "output_type": "stream",
     "text": [
      "391/391 [==============================] - ETA: 0s - loss: 1.8927 - accuracy: 0.3160 - precision: 0.5860 - recall: 0.0594"
     ]
    },
    {
     "name": "stderr",
     "output_type": "stream",
     "text": [
      "2023-05-12 14:41:31.530590: I tensorflow/core/grappler/optimizers/custom_graph_optimizer_registry.cc:113] Plugin optimizer for device_type GPU is enabled.\n"
     ]
    },
    {
     "name": "stdout",
     "output_type": "stream",
     "text": [
      "391/391 [==============================] - 8s 19ms/step - loss: 1.8927 - accuracy: 0.3160 - precision: 0.5860 - recall: 0.0594 - val_loss: 1.7395 - val_accuracy: 0.3740 - val_precision: 0.6286 - val_recall: 0.1063\n",
      "Epoch 2/50\n",
      "391/391 [==============================] - 7s 17ms/step - loss: 1.6822 - accuracy: 0.3975 - precision: 0.6352 - recall: 0.1467 - val_loss: 1.6315 - val_accuracy: 0.4114 - val_precision: 0.6470 - val_recall: 0.1851\n",
      "Epoch 3/50\n",
      "391/391 [==============================] - 7s 17ms/step - loss: 1.5830 - accuracy: 0.4347 - precision: 0.6522 - recall: 0.1970 - val_loss: 1.5649 - val_accuracy: 0.4445 - val_precision: 0.6469 - val_recall: 0.2383\n",
      "Epoch 4/50\n",
      "391/391 [==============================] - 7s 17ms/step - loss: 1.5331 - accuracy: 0.4512 - precision: 0.6592 - recall: 0.2247 - val_loss: 1.5736 - val_accuracy: 0.4365 - val_precision: 0.6336 - val_recall: 0.2430\n",
      "Epoch 5/50\n",
      "391/391 [==============================] - 7s 17ms/step - loss: 1.4801 - accuracy: 0.4731 - precision: 0.6723 - recall: 0.2532 - val_loss: 1.5038 - val_accuracy: 0.4626 - val_precision: 0.6481 - val_recall: 0.2682\n",
      "Epoch 6/50\n",
      "391/391 [==============================] - 7s 18ms/step - loss: 1.4454 - accuracy: 0.4847 - precision: 0.6807 - recall: 0.2706 - val_loss: 1.4899 - val_accuracy: 0.4736 - val_precision: 0.6830 - val_recall: 0.2661\n",
      "Epoch 7/50\n",
      "391/391 [==============================] - 7s 17ms/step - loss: 1.4249 - accuracy: 0.4899 - precision: 0.6816 - recall: 0.2842 - val_loss: 1.4378 - val_accuracy: 0.4921 - val_precision: 0.6850 - val_recall: 0.2888\n",
      "Epoch 8/50\n",
      "391/391 [==============================] - 7s 17ms/step - loss: 1.3810 - accuracy: 0.5085 - precision: 0.6980 - recall: 0.3078 - val_loss: 1.4857 - val_accuracy: 0.4759 - val_precision: 0.6663 - val_recall: 0.2819\n",
      "Epoch 9/50\n",
      "391/391 [==============================] - 7s 17ms/step - loss: 1.3551 - accuracy: 0.5178 - precision: 0.7022 - recall: 0.3207 - val_loss: 1.4188 - val_accuracy: 0.4964 - val_precision: 0.6829 - val_recall: 0.3022\n",
      "Epoch 10/50\n",
      "391/391 [==============================] - 7s 17ms/step - loss: 1.3340 - accuracy: 0.5231 - precision: 0.7054 - recall: 0.3339 - val_loss: 1.4078 - val_accuracy: 0.5010 - val_precision: 0.6758 - val_recall: 0.3143\n",
      "Epoch 11/50\n",
      "391/391 [==============================] - 7s 18ms/step - loss: 1.2972 - accuracy: 0.5370 - precision: 0.7136 - recall: 0.3516 - val_loss: 1.4332 - val_accuracy: 0.4854 - val_precision: 0.6414 - val_recall: 0.3349\n",
      "Epoch 12/50\n",
      "391/391 [==============================] - 7s 17ms/step - loss: 1.2857 - accuracy: 0.5420 - precision: 0.7145 - recall: 0.3570 - val_loss: 1.4053 - val_accuracy: 0.5073 - val_precision: 0.6652 - val_recall: 0.3378\n",
      "Epoch 13/50\n",
      "391/391 [==============================] - 7s 17ms/step - loss: 1.2585 - accuracy: 0.5532 - precision: 0.7248 - recall: 0.3752 - val_loss: 1.4371 - val_accuracy: 0.4978 - val_precision: 0.6560 - val_recall: 0.3334\n",
      "Epoch 14/50\n",
      "391/391 [==============================] - 7s 17ms/step - loss: 1.2389 - accuracy: 0.5561 - precision: 0.7253 - recall: 0.3845 - val_loss: 1.3970 - val_accuracy: 0.5085 - val_precision: 0.6745 - val_recall: 0.3484\n",
      "Epoch 15/50\n",
      "391/391 [==============================] - 7s 17ms/step - loss: 1.2188 - accuracy: 0.5663 - precision: 0.7279 - recall: 0.3964 - val_loss: 1.4227 - val_accuracy: 0.5051 - val_precision: 0.6625 - val_recall: 0.3467\n",
      "Epoch 16/50\n",
      "391/391 [==============================] - 7s 17ms/step - loss: 1.1999 - accuracy: 0.5708 - precision: 0.7300 - recall: 0.4042 - val_loss: 1.3829 - val_accuracy: 0.5077 - val_precision: 0.6661 - val_recall: 0.3587\n",
      "Epoch 17/50\n",
      "391/391 [==============================] - 7s 17ms/step - loss: 1.1787 - accuracy: 0.5793 - precision: 0.7336 - recall: 0.4180 - val_loss: 1.3718 - val_accuracy: 0.5232 - val_precision: 0.6677 - val_recall: 0.3744\n",
      "Epoch 18/50\n",
      "391/391 [==============================] - 7s 17ms/step - loss: 1.1647 - accuracy: 0.5832 - precision: 0.7348 - recall: 0.4257 - val_loss: 1.4077 - val_accuracy: 0.5064 - val_precision: 0.6531 - val_recall: 0.3605\n",
      "Epoch 19/50\n",
      "391/391 [==============================] - 7s 17ms/step - loss: 1.1439 - accuracy: 0.5883 - precision: 0.7406 - recall: 0.4359 - val_loss: 1.3685 - val_accuracy: 0.5194 - val_precision: 0.6604 - val_recall: 0.3733\n",
      "Epoch 20/50\n",
      "391/391 [==============================] - 7s 17ms/step - loss: 1.1143 - accuracy: 0.5994 - precision: 0.7472 - recall: 0.4503 - val_loss: 1.3862 - val_accuracy: 0.5228 - val_precision: 0.6577 - val_recall: 0.3794\n",
      "Epoch 21/50\n",
      "391/391 [==============================] - 7s 17ms/step - loss: 1.0997 - accuracy: 0.6047 - precision: 0.7487 - recall: 0.4586 - val_loss: 1.3929 - val_accuracy: 0.5224 - val_precision: 0.6551 - val_recall: 0.3961\n",
      "Epoch 22/50\n",
      "391/391 [==============================] - 7s 18ms/step - loss: 1.0817 - accuracy: 0.6138 - precision: 0.7536 - recall: 0.4708 - val_loss: 1.4125 - val_accuracy: 0.5205 - val_precision: 0.6379 - val_recall: 0.4101\n",
      "Epoch 23/50\n",
      "391/391 [==============================] - 7s 17ms/step - loss: 1.0658 - accuracy: 0.6182 - precision: 0.7554 - recall: 0.4795 - val_loss: 1.4060 - val_accuracy: 0.5213 - val_precision: 0.6425 - val_recall: 0.4102\n",
      "Epoch 24/50\n",
      "391/391 [==============================] - 7s 17ms/step - loss: 1.0422 - accuracy: 0.6260 - precision: 0.7621 - recall: 0.4890 - val_loss: 1.4221 - val_accuracy: 0.5157 - val_precision: 0.6359 - val_recall: 0.4028\n",
      "Epoch 25/50\n",
      "391/391 [==============================] - 7s 18ms/step - loss: 1.0242 - accuracy: 0.6330 - precision: 0.7626 - recall: 0.5024 - val_loss: 1.4234 - val_accuracy: 0.5210 - val_precision: 0.6338 - val_recall: 0.4051\n",
      "Epoch 26/50\n",
      "391/391 [==============================] - 7s 18ms/step - loss: 1.0127 - accuracy: 0.6377 - precision: 0.7665 - recall: 0.5075 - val_loss: 1.4455 - val_accuracy: 0.5141 - val_precision: 0.6348 - val_recall: 0.3972\n",
      "Epoch 27/50\n",
      "391/391 [==============================] - 7s 18ms/step - loss: 0.9927 - accuracy: 0.6446 - precision: 0.7703 - recall: 0.5173 - val_loss: 1.4305 - val_accuracy: 0.5231 - val_precision: 0.6308 - val_recall: 0.4143\n",
      "Epoch 28/50\n",
      "391/391 [==============================] - 7s 17ms/step - loss: 0.9757 - accuracy: 0.6503 - precision: 0.7734 - recall: 0.5297 - val_loss: 1.4442 - val_accuracy: 0.5193 - val_precision: 0.6347 - val_recall: 0.4061\n",
      "Epoch 29/50\n",
      "391/391 [==============================] - 7s 17ms/step - loss: 0.9598 - accuracy: 0.6562 - precision: 0.7776 - recall: 0.5370 - val_loss: 1.4653 - val_accuracy: 0.5262 - val_precision: 0.6257 - val_recall: 0.4287\n",
      "Epoch 30/50\n",
      "391/391 [==============================] - 7s 17ms/step - loss: 0.9403 - accuracy: 0.6627 - precision: 0.7792 - recall: 0.5483 - val_loss: 1.4711 - val_accuracy: 0.5225 - val_precision: 0.6190 - val_recall: 0.4163\n",
      "Epoch 31/50\n",
      "391/391 [==============================] - 7s 18ms/step - loss: 0.9337 - accuracy: 0.6653 - precision: 0.7834 - recall: 0.5522 - val_loss: 1.4815 - val_accuracy: 0.5137 - val_precision: 0.6175 - val_recall: 0.4168\n",
      "Epoch 32/50\n",
      "391/391 [==============================] - 52s 132ms/step - loss: 0.9101 - accuracy: 0.6738 - precision: 0.7866 - recall: 0.5638 - val_loss: 1.4927 - val_accuracy: 0.5208 - val_precision: 0.6120 - val_recall: 0.4313\n",
      "Epoch 33/50\n",
      "391/391 [==============================] - 7s 17ms/step - loss: 0.8952 - accuracy: 0.6791 - precision: 0.7900 - recall: 0.5711 - val_loss: 1.5567 - val_accuracy: 0.5070 - val_precision: 0.5948 - val_recall: 0.4169\n",
      "Epoch 34/50\n",
      "391/391 [==============================] - 61s 157ms/step - loss: 0.8787 - accuracy: 0.6861 - precision: 0.7937 - recall: 0.5801 - val_loss: 1.5545 - val_accuracy: 0.5201 - val_precision: 0.6047 - val_recall: 0.4438\n",
      "Epoch 35/50\n",
      "391/391 [==============================] - 7s 18ms/step - loss: 0.8653 - accuracy: 0.6893 - precision: 0.7952 - recall: 0.5877 - val_loss: 1.5386 - val_accuracy: 0.5201 - val_precision: 0.6102 - val_recall: 0.4311\n",
      "Epoch 36/50\n",
      "391/391 [==============================] - 7s 17ms/step - loss: 0.8504 - accuracy: 0.6944 - precision: 0.7987 - recall: 0.5969 - val_loss: 1.5576 - val_accuracy: 0.5182 - val_precision: 0.5944 - val_recall: 0.4397\n",
      "Epoch 37/50\n"
     ]
    },
    {
     "name": "stdout",
     "output_type": "stream",
     "text": [
      "391/391 [==============================] - 7s 17ms/step - loss: 0.8401 - accuracy: 0.6992 - precision: 0.7993 - recall: 0.6023 - val_loss: 1.5735 - val_accuracy: 0.5153 - val_precision: 0.5998 - val_recall: 0.4318\n",
      "Epoch 38/50\n",
      "391/391 [==============================] - 7s 17ms/step - loss: 0.8203 - accuracy: 0.7038 - precision: 0.8032 - recall: 0.6126 - val_loss: 1.6756 - val_accuracy: 0.5102 - val_precision: 0.5859 - val_recall: 0.4356\n",
      "Epoch 39/50\n",
      "391/391 [==============================] - 7s 17ms/step - loss: 0.8101 - accuracy: 0.7082 - precision: 0.8069 - recall: 0.6185 - val_loss: 1.6403 - val_accuracy: 0.5080 - val_precision: 0.5924 - val_recall: 0.4305\n",
      "Epoch 40/50\n",
      "391/391 [==============================] - 7s 17ms/step - loss: 0.7955 - accuracy: 0.7141 - precision: 0.8102 - recall: 0.6266 - val_loss: 1.6790 - val_accuracy: 0.5113 - val_precision: 0.5807 - val_recall: 0.4409\n",
      "Epoch 41/50\n",
      "391/391 [==============================] - 7s 17ms/step - loss: 0.7763 - accuracy: 0.7213 - precision: 0.8135 - recall: 0.6341 - val_loss: 1.6571 - val_accuracy: 0.5200 - val_precision: 0.5913 - val_recall: 0.4574\n",
      "Epoch 42/50\n",
      "391/391 [==============================] - 7s 17ms/step - loss: 0.7727 - accuracy: 0.7226 - precision: 0.8121 - recall: 0.6369 - val_loss: 1.7124 - val_accuracy: 0.5174 - val_precision: 0.5860 - val_recall: 0.4496\n",
      "Epoch 43/50\n",
      "391/391 [==============================] - 7s 17ms/step - loss: 0.7623 - accuracy: 0.7273 - precision: 0.8147 - recall: 0.6456 - val_loss: 1.6922 - val_accuracy: 0.5154 - val_precision: 0.5949 - val_recall: 0.4417\n",
      "Epoch 44/50\n",
      "391/391 [==============================] - 7s 17ms/step - loss: 0.7497 - accuracy: 0.7318 - precision: 0.8156 - recall: 0.6502 - val_loss: 1.7317 - val_accuracy: 0.5166 - val_precision: 0.5860 - val_recall: 0.4482\n",
      "Epoch 45/50\n",
      "391/391 [==============================] - 7s 17ms/step - loss: 0.7272 - accuracy: 0.7407 - precision: 0.8238 - recall: 0.6616 - val_loss: 1.7417 - val_accuracy: 0.5154 - val_precision: 0.5798 - val_recall: 0.4575\n",
      "Epoch 46/50\n",
      "391/391 [==============================] - 7s 17ms/step - loss: 0.7228 - accuracy: 0.7403 - precision: 0.8231 - recall: 0.6632 - val_loss: 1.7486 - val_accuracy: 0.5138 - val_precision: 0.5830 - val_recall: 0.4518\n",
      "Epoch 47/50\n",
      "391/391 [==============================] - 7s 17ms/step - loss: 0.7037 - accuracy: 0.7469 - precision: 0.8272 - recall: 0.6728 - val_loss: 1.8054 - val_accuracy: 0.5062 - val_precision: 0.5682 - val_recall: 0.4434\n",
      "Epoch 48/50\n",
      "391/391 [==============================] - 7s 17ms/step - loss: 0.7082 - accuracy: 0.7449 - precision: 0.8221 - recall: 0.6714 - val_loss: 1.7923 - val_accuracy: 0.5123 - val_precision: 0.5751 - val_recall: 0.4467\n",
      "Epoch 49/50\n",
      "391/391 [==============================] - 7s 17ms/step - loss: 0.6817 - accuracy: 0.7550 - precision: 0.8305 - recall: 0.6829 - val_loss: 1.8496 - val_accuracy: 0.5113 - val_precision: 0.5709 - val_recall: 0.4478\n",
      "Epoch 50/50\n",
      "391/391 [==============================] - 7s 17ms/step - loss: 0.6698 - accuracy: 0.7588 - precision: 0.8325 - recall: 0.6904 - val_loss: 1.8263 - val_accuracy: 0.5118 - val_precision: 0.5767 - val_recall: 0.4486\n"
     ]
    }
   ],
   "source": [
    "history_ParaLeakyrelu = model_ParaLeakyrelu.fit(x_train,y_train, \n",
    "              epochs=50,batch_size = 128,\n",
    "              validation_data=(x_test, y_test))"
   ]
  },
  {
   "cell_type": "code",
   "execution_count": 33,
   "id": "00488886",
   "metadata": {},
   "outputs": [
    {
     "name": "stdout",
     "output_type": "stream",
     "text": [
      "313/313 [==============================] - 4s 12ms/step - loss: 1.8263 - accuracy: 0.5118 - precision: 0.5767 - recall: 0.4486\n"
     ]
    },
    {
     "data": {
      "text/plain": [
       "[1.826294183731079,\n",
       " 0.5118000507354736,\n",
       " 0.5766807794570923,\n",
       " 0.44860002398490906]"
      ]
     },
     "execution_count": 33,
     "metadata": {},
     "output_type": "execute_result"
    }
   ],
   "source": [
    "model_ParaLeakyrelu.evaluate(x_test, y_test)"
   ]
  },
  {
   "cell_type": "markdown",
   "id": "e85e0a25",
   "metadata": {},
   "source": [
    "training accuracy: 75.88%\n",
    "testing accuracy: 51.1%"
   ]
  },
  {
   "cell_type": "markdown",
   "id": "790a135a",
   "metadata": {},
   "source": [
    "### Exponential Linear Unit"
   ]
  },
  {
   "cell_type": "code",
   "execution_count": 44,
   "id": "f00d7fda",
   "metadata": {},
   "outputs": [],
   "source": [
    "# Modify the layers to use ELU activation\n",
    "LAYERS = [\n",
    "    tf.keras.layers.Flatten(input_shape=[32, 32, 3], name=\"inputLayer\"),\n",
    "    tf.keras.layers.Dense(300, activation=\"elu\", name=\"hiddenLayer1\"),\n",
    "    tf.keras.layers.Dense(200, activation=\"elu\", name=\"hiddenLayer2\"),\n",
    "    tf.keras.layers.Dense(100, activation=\"elu\", name=\"hiddenLayer3\"),\n",
    "    tf.keras.layers.Dense(10, activation=\"softmax\", name=\"outputLayer\")\n",
    "]"
   ]
  },
  {
   "cell_type": "code",
   "execution_count": 45,
   "id": "db0a8cf3",
   "metadata": {},
   "outputs": [],
   "source": [
    "model_elu = tf.keras.models.Sequential(LAYERS)"
   ]
  },
  {
   "cell_type": "code",
   "execution_count": 46,
   "id": "d9161d56",
   "metadata": {},
   "outputs": [],
   "source": [
    "METRICS = [\n",
    "    'accuracy',\n",
    "    tf.keras.metrics.Precision(name='precision'),\n",
    "    tf.keras.metrics.Recall(name='recall')\n",
    "]\n",
    "\n",
    "model_elu.compile(optimizer='adam', loss='categorical_crossentropy', metrics=METRICS)"
   ]
  },
  {
   "cell_type": "code",
   "execution_count": 47,
   "id": "498ed447",
   "metadata": {},
   "outputs": [
    {
     "name": "stdout",
     "output_type": "stream",
     "text": [
      "Epoch 1/50\n"
     ]
    },
    {
     "name": "stderr",
     "output_type": "stream",
     "text": [
      "2023-05-12 15:07:51.590594: I tensorflow/core/grappler/optimizers/custom_graph_optimizer_registry.cc:113] Plugin optimizer for device_type GPU is enabled.\n"
     ]
    },
    {
     "name": "stdout",
     "output_type": "stream",
     "text": [
      "207/391 [==============>...............] - ETA: 3s - loss: 2.0367 - accuracy: 0.2800 - precision: 0.5130 - recall: 0.0460"
     ]
    },
    {
     "ename": "KeyboardInterrupt",
     "evalue": "",
     "output_type": "error",
     "traceback": [
      "\u001b[0;31m---------------------------------------------------------------------------\u001b[0m",
      "\u001b[0;31mKeyboardInterrupt\u001b[0m                         Traceback (most recent call last)",
      "Cell \u001b[0;32mIn[47], line 1\u001b[0m\n\u001b[0;32m----> 1\u001b[0m history_elu \u001b[38;5;241m=\u001b[39m \u001b[43mmodel_elu\u001b[49m\u001b[38;5;241;43m.\u001b[39;49m\u001b[43mfit\u001b[49m\u001b[43m(\u001b[49m\u001b[43mx_train\u001b[49m\u001b[43m,\u001b[49m\u001b[43my_train\u001b[49m\u001b[43m,\u001b[49m\u001b[43m \u001b[49m\n\u001b[1;32m      2\u001b[0m \u001b[43m              \u001b[49m\u001b[43mepochs\u001b[49m\u001b[38;5;241;43m=\u001b[39;49m\u001b[38;5;241;43m50\u001b[39;49m\u001b[43m,\u001b[49m\u001b[43mbatch_size\u001b[49m\u001b[43m \u001b[49m\u001b[38;5;241;43m=\u001b[39;49m\u001b[43m \u001b[49m\u001b[38;5;241;43m128\u001b[39;49m\u001b[43m,\u001b[49m\n\u001b[1;32m      3\u001b[0m \u001b[43m              \u001b[49m\u001b[43mvalidation_data\u001b[49m\u001b[38;5;241;43m=\u001b[39;49m\u001b[43m(\u001b[49m\u001b[43mx_test\u001b[49m\u001b[43m,\u001b[49m\u001b[43m \u001b[49m\u001b[43my_test\u001b[49m\u001b[43m)\u001b[49m\u001b[43m)\u001b[49m\n",
      "File \u001b[0;32m~/opt/anaconda3/envs/tensorflow/lib/python3.10/site-packages/keras/utils/traceback_utils.py:64\u001b[0m, in \u001b[0;36mfilter_traceback.<locals>.error_handler\u001b[0;34m(*args, **kwargs)\u001b[0m\n\u001b[1;32m     62\u001b[0m filtered_tb \u001b[38;5;241m=\u001b[39m \u001b[38;5;28;01mNone\u001b[39;00m\n\u001b[1;32m     63\u001b[0m \u001b[38;5;28;01mtry\u001b[39;00m:\n\u001b[0;32m---> 64\u001b[0m   \u001b[38;5;28;01mreturn\u001b[39;00m \u001b[43mfn\u001b[49m\u001b[43m(\u001b[49m\u001b[38;5;241;43m*\u001b[39;49m\u001b[43margs\u001b[49m\u001b[43m,\u001b[49m\u001b[43m \u001b[49m\u001b[38;5;241;43m*\u001b[39;49m\u001b[38;5;241;43m*\u001b[39;49m\u001b[43mkwargs\u001b[49m\u001b[43m)\u001b[49m\n\u001b[1;32m     65\u001b[0m \u001b[38;5;28;01mexcept\u001b[39;00m \u001b[38;5;167;01mException\u001b[39;00m \u001b[38;5;28;01mas\u001b[39;00m e:  \u001b[38;5;66;03m# pylint: disable=broad-except\u001b[39;00m\n\u001b[1;32m     66\u001b[0m   filtered_tb \u001b[38;5;241m=\u001b[39m _process_traceback_frames(e\u001b[38;5;241m.\u001b[39m__traceback__)\n",
      "File \u001b[0;32m~/opt/anaconda3/envs/tensorflow/lib/python3.10/site-packages/keras/engine/training.py:1409\u001b[0m, in \u001b[0;36mModel.fit\u001b[0;34m(self, x, y, batch_size, epochs, verbose, callbacks, validation_split, validation_data, shuffle, class_weight, sample_weight, initial_epoch, steps_per_epoch, validation_steps, validation_batch_size, validation_freq, max_queue_size, workers, use_multiprocessing)\u001b[0m\n\u001b[1;32m   1402\u001b[0m \u001b[38;5;28;01mwith\u001b[39;00m tf\u001b[38;5;241m.\u001b[39mprofiler\u001b[38;5;241m.\u001b[39mexperimental\u001b[38;5;241m.\u001b[39mTrace(\n\u001b[1;32m   1403\u001b[0m     \u001b[38;5;124m'\u001b[39m\u001b[38;5;124mtrain\u001b[39m\u001b[38;5;124m'\u001b[39m,\n\u001b[1;32m   1404\u001b[0m     epoch_num\u001b[38;5;241m=\u001b[39mepoch,\n\u001b[1;32m   1405\u001b[0m     step_num\u001b[38;5;241m=\u001b[39mstep,\n\u001b[1;32m   1406\u001b[0m     batch_size\u001b[38;5;241m=\u001b[39mbatch_size,\n\u001b[1;32m   1407\u001b[0m     _r\u001b[38;5;241m=\u001b[39m\u001b[38;5;241m1\u001b[39m):\n\u001b[1;32m   1408\u001b[0m   callbacks\u001b[38;5;241m.\u001b[39mon_train_batch_begin(step)\n\u001b[0;32m-> 1409\u001b[0m   tmp_logs \u001b[38;5;241m=\u001b[39m \u001b[38;5;28;43mself\u001b[39;49m\u001b[38;5;241;43m.\u001b[39;49m\u001b[43mtrain_function\u001b[49m\u001b[43m(\u001b[49m\u001b[43miterator\u001b[49m\u001b[43m)\u001b[49m\n\u001b[1;32m   1410\u001b[0m   \u001b[38;5;28;01mif\u001b[39;00m data_handler\u001b[38;5;241m.\u001b[39mshould_sync:\n\u001b[1;32m   1411\u001b[0m     context\u001b[38;5;241m.\u001b[39masync_wait()\n",
      "File \u001b[0;32m~/opt/anaconda3/envs/tensorflow/lib/python3.10/site-packages/tensorflow/python/util/traceback_utils.py:150\u001b[0m, in \u001b[0;36mfilter_traceback.<locals>.error_handler\u001b[0;34m(*args, **kwargs)\u001b[0m\n\u001b[1;32m    148\u001b[0m filtered_tb \u001b[38;5;241m=\u001b[39m \u001b[38;5;28;01mNone\u001b[39;00m\n\u001b[1;32m    149\u001b[0m \u001b[38;5;28;01mtry\u001b[39;00m:\n\u001b[0;32m--> 150\u001b[0m   \u001b[38;5;28;01mreturn\u001b[39;00m \u001b[43mfn\u001b[49m\u001b[43m(\u001b[49m\u001b[38;5;241;43m*\u001b[39;49m\u001b[43margs\u001b[49m\u001b[43m,\u001b[49m\u001b[43m \u001b[49m\u001b[38;5;241;43m*\u001b[39;49m\u001b[38;5;241;43m*\u001b[39;49m\u001b[43mkwargs\u001b[49m\u001b[43m)\u001b[49m\n\u001b[1;32m    151\u001b[0m \u001b[38;5;28;01mexcept\u001b[39;00m \u001b[38;5;167;01mException\u001b[39;00m \u001b[38;5;28;01mas\u001b[39;00m e:\n\u001b[1;32m    152\u001b[0m   filtered_tb \u001b[38;5;241m=\u001b[39m _process_traceback_frames(e\u001b[38;5;241m.\u001b[39m__traceback__)\n",
      "File \u001b[0;32m~/opt/anaconda3/envs/tensorflow/lib/python3.10/site-packages/tensorflow/python/eager/def_function.py:915\u001b[0m, in \u001b[0;36mFunction.__call__\u001b[0;34m(self, *args, **kwds)\u001b[0m\n\u001b[1;32m    912\u001b[0m compiler \u001b[38;5;241m=\u001b[39m \u001b[38;5;124m\"\u001b[39m\u001b[38;5;124mxla\u001b[39m\u001b[38;5;124m\"\u001b[39m \u001b[38;5;28;01mif\u001b[39;00m \u001b[38;5;28mself\u001b[39m\u001b[38;5;241m.\u001b[39m_jit_compile \u001b[38;5;28;01melse\u001b[39;00m \u001b[38;5;124m\"\u001b[39m\u001b[38;5;124mnonXla\u001b[39m\u001b[38;5;124m\"\u001b[39m\n\u001b[1;32m    914\u001b[0m \u001b[38;5;28;01mwith\u001b[39;00m OptionalXlaContext(\u001b[38;5;28mself\u001b[39m\u001b[38;5;241m.\u001b[39m_jit_compile):\n\u001b[0;32m--> 915\u001b[0m   result \u001b[38;5;241m=\u001b[39m \u001b[38;5;28;43mself\u001b[39;49m\u001b[38;5;241;43m.\u001b[39;49m\u001b[43m_call\u001b[49m\u001b[43m(\u001b[49m\u001b[38;5;241;43m*\u001b[39;49m\u001b[43margs\u001b[49m\u001b[43m,\u001b[49m\u001b[43m \u001b[49m\u001b[38;5;241;43m*\u001b[39;49m\u001b[38;5;241;43m*\u001b[39;49m\u001b[43mkwds\u001b[49m\u001b[43m)\u001b[49m\n\u001b[1;32m    917\u001b[0m new_tracing_count \u001b[38;5;241m=\u001b[39m \u001b[38;5;28mself\u001b[39m\u001b[38;5;241m.\u001b[39mexperimental_get_tracing_count()\n\u001b[1;32m    918\u001b[0m without_tracing \u001b[38;5;241m=\u001b[39m (tracing_count \u001b[38;5;241m==\u001b[39m new_tracing_count)\n",
      "File \u001b[0;32m~/opt/anaconda3/envs/tensorflow/lib/python3.10/site-packages/tensorflow/python/eager/def_function.py:947\u001b[0m, in \u001b[0;36mFunction._call\u001b[0;34m(self, *args, **kwds)\u001b[0m\n\u001b[1;32m    944\u001b[0m   \u001b[38;5;28mself\u001b[39m\u001b[38;5;241m.\u001b[39m_lock\u001b[38;5;241m.\u001b[39mrelease()\n\u001b[1;32m    945\u001b[0m   \u001b[38;5;66;03m# In this case we have created variables on the first call, so we run the\u001b[39;00m\n\u001b[1;32m    946\u001b[0m   \u001b[38;5;66;03m# defunned version which is guaranteed to never create variables.\u001b[39;00m\n\u001b[0;32m--> 947\u001b[0m   \u001b[38;5;28;01mreturn\u001b[39;00m \u001b[38;5;28;43mself\u001b[39;49m\u001b[38;5;241;43m.\u001b[39;49m\u001b[43m_stateless_fn\u001b[49m\u001b[43m(\u001b[49m\u001b[38;5;241;43m*\u001b[39;49m\u001b[43margs\u001b[49m\u001b[43m,\u001b[49m\u001b[43m \u001b[49m\u001b[38;5;241;43m*\u001b[39;49m\u001b[38;5;241;43m*\u001b[39;49m\u001b[43mkwds\u001b[49m\u001b[43m)\u001b[49m  \u001b[38;5;66;03m# pylint: disable=not-callable\u001b[39;00m\n\u001b[1;32m    948\u001b[0m \u001b[38;5;28;01melif\u001b[39;00m \u001b[38;5;28mself\u001b[39m\u001b[38;5;241m.\u001b[39m_stateful_fn \u001b[38;5;129;01mis\u001b[39;00m \u001b[38;5;129;01mnot\u001b[39;00m \u001b[38;5;28;01mNone\u001b[39;00m:\n\u001b[1;32m    949\u001b[0m   \u001b[38;5;66;03m# Release the lock early so that multiple threads can perform the call\u001b[39;00m\n\u001b[1;32m    950\u001b[0m   \u001b[38;5;66;03m# in parallel.\u001b[39;00m\n\u001b[1;32m    951\u001b[0m   \u001b[38;5;28mself\u001b[39m\u001b[38;5;241m.\u001b[39m_lock\u001b[38;5;241m.\u001b[39mrelease()\n",
      "File \u001b[0;32m~/opt/anaconda3/envs/tensorflow/lib/python3.10/site-packages/tensorflow/python/eager/function.py:2453\u001b[0m, in \u001b[0;36mFunction.__call__\u001b[0;34m(self, *args, **kwargs)\u001b[0m\n\u001b[1;32m   2450\u001b[0m \u001b[38;5;28;01mwith\u001b[39;00m \u001b[38;5;28mself\u001b[39m\u001b[38;5;241m.\u001b[39m_lock:\n\u001b[1;32m   2451\u001b[0m   (graph_function,\n\u001b[1;32m   2452\u001b[0m    filtered_flat_args) \u001b[38;5;241m=\u001b[39m \u001b[38;5;28mself\u001b[39m\u001b[38;5;241m.\u001b[39m_maybe_define_function(args, kwargs)\n\u001b[0;32m-> 2453\u001b[0m \u001b[38;5;28;01mreturn\u001b[39;00m \u001b[43mgraph_function\u001b[49m\u001b[38;5;241;43m.\u001b[39;49m\u001b[43m_call_flat\u001b[49m\u001b[43m(\u001b[49m\n\u001b[1;32m   2454\u001b[0m \u001b[43m    \u001b[49m\u001b[43mfiltered_flat_args\u001b[49m\u001b[43m,\u001b[49m\u001b[43m \u001b[49m\u001b[43mcaptured_inputs\u001b[49m\u001b[38;5;241;43m=\u001b[39;49m\u001b[43mgraph_function\u001b[49m\u001b[38;5;241;43m.\u001b[39;49m\u001b[43mcaptured_inputs\u001b[49m\u001b[43m)\u001b[49m\n",
      "File \u001b[0;32m~/opt/anaconda3/envs/tensorflow/lib/python3.10/site-packages/tensorflow/python/eager/function.py:1860\u001b[0m, in \u001b[0;36mConcreteFunction._call_flat\u001b[0;34m(self, args, captured_inputs, cancellation_manager)\u001b[0m\n\u001b[1;32m   1856\u001b[0m possible_gradient_type \u001b[38;5;241m=\u001b[39m gradients_util\u001b[38;5;241m.\u001b[39mPossibleTapeGradientTypes(args)\n\u001b[1;32m   1857\u001b[0m \u001b[38;5;28;01mif\u001b[39;00m (possible_gradient_type \u001b[38;5;241m==\u001b[39m gradients_util\u001b[38;5;241m.\u001b[39mPOSSIBLE_GRADIENT_TYPES_NONE\n\u001b[1;32m   1858\u001b[0m     \u001b[38;5;129;01mand\u001b[39;00m executing_eagerly):\n\u001b[1;32m   1859\u001b[0m   \u001b[38;5;66;03m# No tape is watching; skip to running the function.\u001b[39;00m\n\u001b[0;32m-> 1860\u001b[0m   \u001b[38;5;28;01mreturn\u001b[39;00m \u001b[38;5;28mself\u001b[39m\u001b[38;5;241m.\u001b[39m_build_call_outputs(\u001b[38;5;28;43mself\u001b[39;49m\u001b[38;5;241;43m.\u001b[39;49m\u001b[43m_inference_function\u001b[49m\u001b[38;5;241;43m.\u001b[39;49m\u001b[43mcall\u001b[49m\u001b[43m(\u001b[49m\n\u001b[1;32m   1861\u001b[0m \u001b[43m      \u001b[49m\u001b[43mctx\u001b[49m\u001b[43m,\u001b[49m\u001b[43m \u001b[49m\u001b[43margs\u001b[49m\u001b[43m,\u001b[49m\u001b[43m \u001b[49m\u001b[43mcancellation_manager\u001b[49m\u001b[38;5;241;43m=\u001b[39;49m\u001b[43mcancellation_manager\u001b[49m\u001b[43m)\u001b[49m)\n\u001b[1;32m   1862\u001b[0m forward_backward \u001b[38;5;241m=\u001b[39m \u001b[38;5;28mself\u001b[39m\u001b[38;5;241m.\u001b[39m_select_forward_and_backward_functions(\n\u001b[1;32m   1863\u001b[0m     args,\n\u001b[1;32m   1864\u001b[0m     possible_gradient_type,\n\u001b[1;32m   1865\u001b[0m     executing_eagerly)\n\u001b[1;32m   1866\u001b[0m forward_function, args_with_tangents \u001b[38;5;241m=\u001b[39m forward_backward\u001b[38;5;241m.\u001b[39mforward()\n",
      "File \u001b[0;32m~/opt/anaconda3/envs/tensorflow/lib/python3.10/site-packages/tensorflow/python/eager/function.py:497\u001b[0m, in \u001b[0;36m_EagerDefinedFunction.call\u001b[0;34m(self, ctx, args, cancellation_manager)\u001b[0m\n\u001b[1;32m    495\u001b[0m \u001b[38;5;28;01mwith\u001b[39;00m _InterpolateFunctionError(\u001b[38;5;28mself\u001b[39m):\n\u001b[1;32m    496\u001b[0m   \u001b[38;5;28;01mif\u001b[39;00m cancellation_manager \u001b[38;5;129;01mis\u001b[39;00m \u001b[38;5;28;01mNone\u001b[39;00m:\n\u001b[0;32m--> 497\u001b[0m     outputs \u001b[38;5;241m=\u001b[39m \u001b[43mexecute\u001b[49m\u001b[38;5;241;43m.\u001b[39;49m\u001b[43mexecute\u001b[49m\u001b[43m(\u001b[49m\n\u001b[1;32m    498\u001b[0m \u001b[43m        \u001b[49m\u001b[38;5;28;43mstr\u001b[39;49m\u001b[43m(\u001b[49m\u001b[38;5;28;43mself\u001b[39;49m\u001b[38;5;241;43m.\u001b[39;49m\u001b[43msignature\u001b[49m\u001b[38;5;241;43m.\u001b[39;49m\u001b[43mname\u001b[49m\u001b[43m)\u001b[49m\u001b[43m,\u001b[49m\n\u001b[1;32m    499\u001b[0m \u001b[43m        \u001b[49m\u001b[43mnum_outputs\u001b[49m\u001b[38;5;241;43m=\u001b[39;49m\u001b[38;5;28;43mself\u001b[39;49m\u001b[38;5;241;43m.\u001b[39;49m\u001b[43m_num_outputs\u001b[49m\u001b[43m,\u001b[49m\n\u001b[1;32m    500\u001b[0m \u001b[43m        \u001b[49m\u001b[43minputs\u001b[49m\u001b[38;5;241;43m=\u001b[39;49m\u001b[43margs\u001b[49m\u001b[43m,\u001b[49m\n\u001b[1;32m    501\u001b[0m \u001b[43m        \u001b[49m\u001b[43mattrs\u001b[49m\u001b[38;5;241;43m=\u001b[39;49m\u001b[43mattrs\u001b[49m\u001b[43m,\u001b[49m\n\u001b[1;32m    502\u001b[0m \u001b[43m        \u001b[49m\u001b[43mctx\u001b[49m\u001b[38;5;241;43m=\u001b[39;49m\u001b[43mctx\u001b[49m\u001b[43m)\u001b[49m\n\u001b[1;32m    503\u001b[0m   \u001b[38;5;28;01melse\u001b[39;00m:\n\u001b[1;32m    504\u001b[0m     outputs \u001b[38;5;241m=\u001b[39m execute\u001b[38;5;241m.\u001b[39mexecute_with_cancellation(\n\u001b[1;32m    505\u001b[0m         \u001b[38;5;28mstr\u001b[39m(\u001b[38;5;28mself\u001b[39m\u001b[38;5;241m.\u001b[39msignature\u001b[38;5;241m.\u001b[39mname),\n\u001b[1;32m    506\u001b[0m         num_outputs\u001b[38;5;241m=\u001b[39m\u001b[38;5;28mself\u001b[39m\u001b[38;5;241m.\u001b[39m_num_outputs,\n\u001b[0;32m   (...)\u001b[0m\n\u001b[1;32m    509\u001b[0m         ctx\u001b[38;5;241m=\u001b[39mctx,\n\u001b[1;32m    510\u001b[0m         cancellation_manager\u001b[38;5;241m=\u001b[39mcancellation_manager)\n",
      "File \u001b[0;32m~/opt/anaconda3/envs/tensorflow/lib/python3.10/site-packages/tensorflow/python/eager/execute.py:54\u001b[0m, in \u001b[0;36mquick_execute\u001b[0;34m(op_name, num_outputs, inputs, attrs, ctx, name)\u001b[0m\n\u001b[1;32m     52\u001b[0m \u001b[38;5;28;01mtry\u001b[39;00m:\n\u001b[1;32m     53\u001b[0m   ctx\u001b[38;5;241m.\u001b[39mensure_initialized()\n\u001b[0;32m---> 54\u001b[0m   tensors \u001b[38;5;241m=\u001b[39m \u001b[43mpywrap_tfe\u001b[49m\u001b[38;5;241;43m.\u001b[39;49m\u001b[43mTFE_Py_Execute\u001b[49m\u001b[43m(\u001b[49m\u001b[43mctx\u001b[49m\u001b[38;5;241;43m.\u001b[39;49m\u001b[43m_handle\u001b[49m\u001b[43m,\u001b[49m\u001b[43m \u001b[49m\u001b[43mdevice_name\u001b[49m\u001b[43m,\u001b[49m\u001b[43m \u001b[49m\u001b[43mop_name\u001b[49m\u001b[43m,\u001b[49m\n\u001b[1;32m     55\u001b[0m \u001b[43m                                      \u001b[49m\u001b[43minputs\u001b[49m\u001b[43m,\u001b[49m\u001b[43m \u001b[49m\u001b[43mattrs\u001b[49m\u001b[43m,\u001b[49m\u001b[43m \u001b[49m\u001b[43mnum_outputs\u001b[49m\u001b[43m)\u001b[49m\n\u001b[1;32m     56\u001b[0m \u001b[38;5;28;01mexcept\u001b[39;00m core\u001b[38;5;241m.\u001b[39m_NotOkStatusException \u001b[38;5;28;01mas\u001b[39;00m e:\n\u001b[1;32m     57\u001b[0m   \u001b[38;5;28;01mif\u001b[39;00m name \u001b[38;5;129;01mis\u001b[39;00m \u001b[38;5;129;01mnot\u001b[39;00m \u001b[38;5;28;01mNone\u001b[39;00m:\n",
      "\u001b[0;31mKeyboardInterrupt\u001b[0m: "
     ]
    }
   ],
   "source": [
    "history_elu = model_elu.fit(x_train,y_train, \n",
    "              epochs=50,batch_size = 128,\n",
    "              validation_data=(x_test, y_test))"
   ]
  },
  {
   "cell_type": "code",
   "execution_count": 38,
   "id": "3b488331",
   "metadata": {},
   "outputs": [
    {
     "name": "stdout",
     "output_type": "stream",
     "text": [
      "313/313 [==============================] - 5s 15ms/step - loss: 2.2234 - accuracy: 0.5127 - precision: 0.5573 - recall: 0.4784\n"
     ]
    },
    {
     "data": {
      "text/plain": [
       "[2.2233879566192627,\n",
       " 0.5127000212669373,\n",
       " 0.5572510361671448,\n",
       " 0.47840002179145813]"
      ]
     },
     "execution_count": 38,
     "metadata": {},
     "output_type": "execute_result"
    }
   ],
   "source": [
    "model_elu.evaluate(x_test, y_test)"
   ]
  },
  {
   "cell_type": "markdown",
   "id": "2467c1d5",
   "metadata": {},
   "source": [
    "training accuracy: 82%\n",
    "testing accuracy: 51.2%"
   ]
  },
  {
   "cell_type": "markdown",
   "id": "a7c6c344",
   "metadata": {},
   "source": [
    "### SELU"
   ]
  },
  {
   "cell_type": "code",
   "execution_count": 48,
   "id": "20aba0e7",
   "metadata": {},
   "outputs": [],
   "source": [
    "# Modify the layers to use ELU activation\n",
    "LAYERS = [\n",
    "    tf.keras.layers.Flatten(input_shape=[32, 32, 3], name=\"inputLayer\"),\n",
    "    tf.keras.layers.Dense(300, activation=\"selu\", kernel_initializer = \"lecun_normal\" ,name=\"hiddenLayer1\"),\n",
    "    tf.keras.layers.Dense(200, activation=\"selu\", kernel_initializer = \"lecun_normal\" , name=\"hiddenLayer2\"),\n",
    "    tf.keras.layers.Dense(100, activation=\"selu\", kernel_initializer = \"lecun_normal\" , name=\"hiddenLayer3\"),\n",
    "    tf.keras.layers.Dense(10, activation=\"selu\", kernel_initializer = \"lecun_normal\" , name=\"outputLayer\")\n",
    "]"
   ]
  },
  {
   "cell_type": "code",
   "execution_count": 49,
   "id": "c7abe06b",
   "metadata": {},
   "outputs": [],
   "source": [
    "model_selu = tf.keras.models.Sequential(LAYERS)"
   ]
  },
  {
   "cell_type": "code",
   "execution_count": 50,
   "id": "d4d1501f",
   "metadata": {},
   "outputs": [],
   "source": [
    "METRICS = [\n",
    "    'accuracy',\n",
    "    tf.keras.metrics.Precision(name='precision'),\n",
    "    tf.keras.metrics.Recall(name='recall')\n",
    "]\n",
    "\n",
    "model_selu.compile(optimizer='adam', loss='categorical_crossentropy', metrics=METRICS)"
   ]
  },
  {
   "cell_type": "code",
   "execution_count": 51,
   "id": "4c898f5e",
   "metadata": {},
   "outputs": [
    {
     "name": "stdout",
     "output_type": "stream",
     "text": [
      "Epoch 1/50\n"
     ]
    },
    {
     "name": "stderr",
     "output_type": "stream",
     "text": [
      "2023-05-12 15:08:04.244497: I tensorflow/core/grappler/optimizers/custom_graph_optimizer_registry.cc:113] Plugin optimizer for device_type GPU is enabled.\n"
     ]
    },
    {
     "ename": "InvalidArgumentError",
     "evalue": "Graph execution error:\n\nDetected at node 'assert_greater_equal/Assert/AssertGuard/Assert' defined at (most recent call last):\n    File \"/Users/pratikhotchandani/opt/anaconda3/envs/tensorflow/lib/python3.10/runpy.py\", line 196, in _run_module_as_main\n      return _run_code(code, main_globals, None,\n    File \"/Users/pratikhotchandani/opt/anaconda3/envs/tensorflow/lib/python3.10/runpy.py\", line 86, in _run_code\n      exec(code, run_globals)\n    File \"/Users/pratikhotchandani/opt/anaconda3/envs/tensorflow/lib/python3.10/site-packages/ipykernel_launcher.py\", line 17, in <module>\n      app.launch_new_instance()\n    File \"/Users/pratikhotchandani/opt/anaconda3/envs/tensorflow/lib/python3.10/site-packages/traitlets/config/application.py\", line 1043, in launch_instance\n      app.start()\n    File \"/Users/pratikhotchandani/opt/anaconda3/envs/tensorflow/lib/python3.10/site-packages/ipykernel/kernelapp.py\", line 725, in start\n      self.io_loop.start()\n    File \"/Users/pratikhotchandani/opt/anaconda3/envs/tensorflow/lib/python3.10/site-packages/tornado/platform/asyncio.py\", line 215, in start\n      self.asyncio_loop.run_forever()\n    File \"/Users/pratikhotchandani/opt/anaconda3/envs/tensorflow/lib/python3.10/asyncio/base_events.py\", line 603, in run_forever\n      self._run_once()\n    File \"/Users/pratikhotchandani/opt/anaconda3/envs/tensorflow/lib/python3.10/asyncio/base_events.py\", line 1906, in _run_once\n      handle._run()\n    File \"/Users/pratikhotchandani/opt/anaconda3/envs/tensorflow/lib/python3.10/asyncio/events.py\", line 80, in _run\n      self._context.run(self._callback, *self._args)\n    File \"/Users/pratikhotchandani/opt/anaconda3/envs/tensorflow/lib/python3.10/site-packages/ipykernel/kernelbase.py\", line 513, in dispatch_queue\n      await self.process_one()\n    File \"/Users/pratikhotchandani/opt/anaconda3/envs/tensorflow/lib/python3.10/site-packages/ipykernel/kernelbase.py\", line 502, in process_one\n      await dispatch(*args)\n    File \"/Users/pratikhotchandani/opt/anaconda3/envs/tensorflow/lib/python3.10/site-packages/ipykernel/kernelbase.py\", line 409, in dispatch_shell\n      await result\n    File \"/Users/pratikhotchandani/opt/anaconda3/envs/tensorflow/lib/python3.10/site-packages/ipykernel/kernelbase.py\", line 729, in execute_request\n      reply_content = await reply_content\n    File \"/Users/pratikhotchandani/opt/anaconda3/envs/tensorflow/lib/python3.10/site-packages/ipykernel/ipkernel.py\", line 422, in do_execute\n      res = shell.run_cell(\n    File \"/Users/pratikhotchandani/opt/anaconda3/envs/tensorflow/lib/python3.10/site-packages/ipykernel/zmqshell.py\", line 540, in run_cell\n      return super().run_cell(*args, **kwargs)\n    File \"/Users/pratikhotchandani/opt/anaconda3/envs/tensorflow/lib/python3.10/site-packages/IPython/core/interactiveshell.py\", line 2961, in run_cell\n      result = self._run_cell(\n    File \"/Users/pratikhotchandani/opt/anaconda3/envs/tensorflow/lib/python3.10/site-packages/IPython/core/interactiveshell.py\", line 3016, in _run_cell\n      result = runner(coro)\n    File \"/Users/pratikhotchandani/opt/anaconda3/envs/tensorflow/lib/python3.10/site-packages/IPython/core/async_helpers.py\", line 129, in _pseudo_sync_runner\n      coro.send(None)\n    File \"/Users/pratikhotchandani/opt/anaconda3/envs/tensorflow/lib/python3.10/site-packages/IPython/core/interactiveshell.py\", line 3221, in run_cell_async\n      has_raised = await self.run_ast_nodes(code_ast.body, cell_name,\n    File \"/Users/pratikhotchandani/opt/anaconda3/envs/tensorflow/lib/python3.10/site-packages/IPython/core/interactiveshell.py\", line 3400, in run_ast_nodes\n      if await self.run_code(code, result, async_=asy):\n    File \"/Users/pratikhotchandani/opt/anaconda3/envs/tensorflow/lib/python3.10/site-packages/IPython/core/interactiveshell.py\", line 3460, in run_code\n      exec(code_obj, self.user_global_ns, self.user_ns)\n    File \"/var/folders/dq/pg0mssxn6yzdwtcdrwnt0bs80000gn/T/ipykernel_7312/1363398751.py\", line 1, in <module>\n      history_selu = model_selu.fit(x_train,y_train,\n    File \"/Users/pratikhotchandani/opt/anaconda3/envs/tensorflow/lib/python3.10/site-packages/keras/utils/traceback_utils.py\", line 64, in error_handler\n      return fn(*args, **kwargs)\n    File \"/Users/pratikhotchandani/opt/anaconda3/envs/tensorflow/lib/python3.10/site-packages/keras/engine/training.py\", line 1409, in fit\n      tmp_logs = self.train_function(iterator)\n    File \"/Users/pratikhotchandani/opt/anaconda3/envs/tensorflow/lib/python3.10/site-packages/keras/engine/training.py\", line 1051, in train_function\n      return step_function(self, iterator)\n    File \"/Users/pratikhotchandani/opt/anaconda3/envs/tensorflow/lib/python3.10/site-packages/keras/engine/training.py\", line 1040, in step_function\n      outputs = model.distribute_strategy.run(run_step, args=(data,))\n    File \"/Users/pratikhotchandani/opt/anaconda3/envs/tensorflow/lib/python3.10/site-packages/keras/engine/training.py\", line 1030, in run_step\n      outputs = model.train_step(data)\n    File \"/Users/pratikhotchandani/opt/anaconda3/envs/tensorflow/lib/python3.10/site-packages/keras/engine/training.py\", line 894, in train_step\n      return self.compute_metrics(x, y, y_pred, sample_weight)\n    File \"/Users/pratikhotchandani/opt/anaconda3/envs/tensorflow/lib/python3.10/site-packages/keras/engine/training.py\", line 987, in compute_metrics\n      self.compiled_metrics.update_state(y, y_pred, sample_weight)\n    File \"/Users/pratikhotchandani/opt/anaconda3/envs/tensorflow/lib/python3.10/site-packages/keras/engine/compile_utils.py\", line 501, in update_state\n      metric_obj.update_state(y_t, y_p, sample_weight=mask)\n    File \"/Users/pratikhotchandani/opt/anaconda3/envs/tensorflow/lib/python3.10/site-packages/keras/utils/metrics_utils.py\", line 70, in decorated\n      update_op = update_state_fn(*args, **kwargs)\n    File \"/Users/pratikhotchandani/opt/anaconda3/envs/tensorflow/lib/python3.10/site-packages/keras/metrics/base_metric.py\", line 140, in update_state_fn\n      return ag_update_state(*args, **kwargs)\n    File \"/Users/pratikhotchandani/opt/anaconda3/envs/tensorflow/lib/python3.10/site-packages/keras/metrics/metrics.py\", line 818, in update_state\n      return metrics_utils.update_confusion_matrix_variables(\n    File \"/Users/pratikhotchandani/opt/anaconda3/envs/tensorflow/lib/python3.10/site-packages/keras/utils/metrics_utils.py\", line 602, in update_confusion_matrix_variables\n      tf.debugging.assert_greater_equal(\nNode: 'assert_greater_equal/Assert/AssertGuard/Assert'\nDetected at node 'assert_greater_equal/Assert/AssertGuard/Assert' defined at (most recent call last):\n    File \"/Users/pratikhotchandani/opt/anaconda3/envs/tensorflow/lib/python3.10/runpy.py\", line 196, in _run_module_as_main\n      return _run_code(code, main_globals, None,\n    File \"/Users/pratikhotchandani/opt/anaconda3/envs/tensorflow/lib/python3.10/runpy.py\", line 86, in _run_code\n      exec(code, run_globals)\n    File \"/Users/pratikhotchandani/opt/anaconda3/envs/tensorflow/lib/python3.10/site-packages/ipykernel_launcher.py\", line 17, in <module>\n      app.launch_new_instance()\n    File \"/Users/pratikhotchandani/opt/anaconda3/envs/tensorflow/lib/python3.10/site-packages/traitlets/config/application.py\", line 1043, in launch_instance\n      app.start()\n    File \"/Users/pratikhotchandani/opt/anaconda3/envs/tensorflow/lib/python3.10/site-packages/ipykernel/kernelapp.py\", line 725, in start\n      self.io_loop.start()\n    File \"/Users/pratikhotchandani/opt/anaconda3/envs/tensorflow/lib/python3.10/site-packages/tornado/platform/asyncio.py\", line 215, in start\n      self.asyncio_loop.run_forever()\n    File \"/Users/pratikhotchandani/opt/anaconda3/envs/tensorflow/lib/python3.10/asyncio/base_events.py\", line 603, in run_forever\n      self._run_once()\n    File \"/Users/pratikhotchandani/opt/anaconda3/envs/tensorflow/lib/python3.10/asyncio/base_events.py\", line 1906, in _run_once\n      handle._run()\n    File \"/Users/pratikhotchandani/opt/anaconda3/envs/tensorflow/lib/python3.10/asyncio/events.py\", line 80, in _run\n      self._context.run(self._callback, *self._args)\n    File \"/Users/pratikhotchandani/opt/anaconda3/envs/tensorflow/lib/python3.10/site-packages/ipykernel/kernelbase.py\", line 513, in dispatch_queue\n      await self.process_one()\n    File \"/Users/pratikhotchandani/opt/anaconda3/envs/tensorflow/lib/python3.10/site-packages/ipykernel/kernelbase.py\", line 502, in process_one\n      await dispatch(*args)\n    File \"/Users/pratikhotchandani/opt/anaconda3/envs/tensorflow/lib/python3.10/site-packages/ipykernel/kernelbase.py\", line 409, in dispatch_shell\n      await result\n    File \"/Users/pratikhotchandani/opt/anaconda3/envs/tensorflow/lib/python3.10/site-packages/ipykernel/kernelbase.py\", line 729, in execute_request\n      reply_content = await reply_content\n    File \"/Users/pratikhotchandani/opt/anaconda3/envs/tensorflow/lib/python3.10/site-packages/ipykernel/ipkernel.py\", line 422, in do_execute\n      res = shell.run_cell(\n    File \"/Users/pratikhotchandani/opt/anaconda3/envs/tensorflow/lib/python3.10/site-packages/ipykernel/zmqshell.py\", line 540, in run_cell\n      return super().run_cell(*args, **kwargs)\n    File \"/Users/pratikhotchandani/opt/anaconda3/envs/tensorflow/lib/python3.10/site-packages/IPython/core/interactiveshell.py\", line 2961, in run_cell\n      result = self._run_cell(\n    File \"/Users/pratikhotchandani/opt/anaconda3/envs/tensorflow/lib/python3.10/site-packages/IPython/core/interactiveshell.py\", line 3016, in _run_cell\n      result = runner(coro)\n    File \"/Users/pratikhotchandani/opt/anaconda3/envs/tensorflow/lib/python3.10/site-packages/IPython/core/async_helpers.py\", line 129, in _pseudo_sync_runner\n      coro.send(None)\n    File \"/Users/pratikhotchandani/opt/anaconda3/envs/tensorflow/lib/python3.10/site-packages/IPython/core/interactiveshell.py\", line 3221, in run_cell_async\n      has_raised = await self.run_ast_nodes(code_ast.body, cell_name,\n    File \"/Users/pratikhotchandani/opt/anaconda3/envs/tensorflow/lib/python3.10/site-packages/IPython/core/interactiveshell.py\", line 3400, in run_ast_nodes\n      if await self.run_code(code, result, async_=asy):\n    File \"/Users/pratikhotchandani/opt/anaconda3/envs/tensorflow/lib/python3.10/site-packages/IPython/core/interactiveshell.py\", line 3460, in run_code\n      exec(code_obj, self.user_global_ns, self.user_ns)\n    File \"/var/folders/dq/pg0mssxn6yzdwtcdrwnt0bs80000gn/T/ipykernel_7312/1363398751.py\", line 1, in <module>\n      history_selu = model_selu.fit(x_train,y_train,\n    File \"/Users/pratikhotchandani/opt/anaconda3/envs/tensorflow/lib/python3.10/site-packages/keras/utils/traceback_utils.py\", line 64, in error_handler\n      return fn(*args, **kwargs)\n    File \"/Users/pratikhotchandani/opt/anaconda3/envs/tensorflow/lib/python3.10/site-packages/keras/engine/training.py\", line 1409, in fit\n      tmp_logs = self.train_function(iterator)\n    File \"/Users/pratikhotchandani/opt/anaconda3/envs/tensorflow/lib/python3.10/site-packages/keras/engine/training.py\", line 1051, in train_function\n      return step_function(self, iterator)\n    File \"/Users/pratikhotchandani/opt/anaconda3/envs/tensorflow/lib/python3.10/site-packages/keras/engine/training.py\", line 1040, in step_function\n      outputs = model.distribute_strategy.run(run_step, args=(data,))\n    File \"/Users/pratikhotchandani/opt/anaconda3/envs/tensorflow/lib/python3.10/site-packages/keras/engine/training.py\", line 1030, in run_step\n      outputs = model.train_step(data)\n    File \"/Users/pratikhotchandani/opt/anaconda3/envs/tensorflow/lib/python3.10/site-packages/keras/engine/training.py\", line 894, in train_step\n      return self.compute_metrics(x, y, y_pred, sample_weight)\n    File \"/Users/pratikhotchandani/opt/anaconda3/envs/tensorflow/lib/python3.10/site-packages/keras/engine/training.py\", line 987, in compute_metrics\n      self.compiled_metrics.update_state(y, y_pred, sample_weight)\n    File \"/Users/pratikhotchandani/opt/anaconda3/envs/tensorflow/lib/python3.10/site-packages/keras/engine/compile_utils.py\", line 501, in update_state\n      metric_obj.update_state(y_t, y_p, sample_weight=mask)\n    File \"/Users/pratikhotchandani/opt/anaconda3/envs/tensorflow/lib/python3.10/site-packages/keras/utils/metrics_utils.py\", line 70, in decorated\n      update_op = update_state_fn(*args, **kwargs)\n    File \"/Users/pratikhotchandani/opt/anaconda3/envs/tensorflow/lib/python3.10/site-packages/keras/metrics/base_metric.py\", line 140, in update_state_fn\n      return ag_update_state(*args, **kwargs)\n    File \"/Users/pratikhotchandani/opt/anaconda3/envs/tensorflow/lib/python3.10/site-packages/keras/metrics/metrics.py\", line 818, in update_state\n      return metrics_utils.update_confusion_matrix_variables(\n    File \"/Users/pratikhotchandani/opt/anaconda3/envs/tensorflow/lib/python3.10/site-packages/keras/utils/metrics_utils.py\", line 602, in update_confusion_matrix_variables\n      tf.debugging.assert_greater_equal(\nNode: 'assert_greater_equal/Assert/AssertGuard/Assert'\n2 root error(s) found.\n  (0) INVALID_ARGUMENT:  assertion failed: [predictions must be >= 0] [Condition x >= y did not hold element-wise:] [x (sequential_11/outputLayer/Selu:0) = ] [[-0.055710189 -1.12699664 -0.91311866...]...] [y (Cast_4/x:0) = ] [0]\n\t [[{{node assert_greater_equal/Assert/AssertGuard/Assert}}]]\n\t [[assert_greater_equal_1/Assert/AssertGuard/branch_executed/_29/_135]]\n  (1) INVALID_ARGUMENT:  assertion failed: [predictions must be >= 0] [Condition x >= y did not hold element-wise:] [x (sequential_11/outputLayer/Selu:0) = ] [[-0.055710189 -1.12699664 -0.91311866...]...] [y (Cast_4/x:0) = ] [0]\n\t [[{{node assert_greater_equal/Assert/AssertGuard/Assert}}]]\n0 successful operations.\n0 derived errors ignored. [Op:__inference_train_function_734287]",
     "output_type": "error",
     "traceback": [
      "\u001b[0;31m---------------------------------------------------------------------------\u001b[0m",
      "\u001b[0;31mInvalidArgumentError\u001b[0m                      Traceback (most recent call last)",
      "Cell \u001b[0;32mIn[51], line 1\u001b[0m\n\u001b[0;32m----> 1\u001b[0m history_selu \u001b[38;5;241m=\u001b[39m \u001b[43mmodel_selu\u001b[49m\u001b[38;5;241;43m.\u001b[39;49m\u001b[43mfit\u001b[49m\u001b[43m(\u001b[49m\u001b[43mx_train\u001b[49m\u001b[43m,\u001b[49m\u001b[43my_train\u001b[49m\u001b[43m,\u001b[49m\u001b[43m \u001b[49m\n\u001b[1;32m      2\u001b[0m \u001b[43m              \u001b[49m\u001b[43mepochs\u001b[49m\u001b[38;5;241;43m=\u001b[39;49m\u001b[38;5;241;43m50\u001b[39;49m\u001b[43m,\u001b[49m\u001b[43mbatch_size\u001b[49m\u001b[43m \u001b[49m\u001b[38;5;241;43m=\u001b[39;49m\u001b[43m \u001b[49m\u001b[38;5;241;43m128\u001b[39;49m\u001b[43m,\u001b[49m\n\u001b[1;32m      3\u001b[0m \u001b[43m              \u001b[49m\u001b[43mvalidation_data\u001b[49m\u001b[38;5;241;43m=\u001b[39;49m\u001b[43m(\u001b[49m\u001b[43mx_test\u001b[49m\u001b[43m,\u001b[49m\u001b[43m \u001b[49m\u001b[43my_test\u001b[49m\u001b[43m)\u001b[49m\u001b[43m)\u001b[49m\n",
      "File \u001b[0;32m~/opt/anaconda3/envs/tensorflow/lib/python3.10/site-packages/keras/utils/traceback_utils.py:67\u001b[0m, in \u001b[0;36mfilter_traceback.<locals>.error_handler\u001b[0;34m(*args, **kwargs)\u001b[0m\n\u001b[1;32m     65\u001b[0m \u001b[38;5;28;01mexcept\u001b[39;00m \u001b[38;5;167;01mException\u001b[39;00m \u001b[38;5;28;01mas\u001b[39;00m e:  \u001b[38;5;66;03m# pylint: disable=broad-except\u001b[39;00m\n\u001b[1;32m     66\u001b[0m   filtered_tb \u001b[38;5;241m=\u001b[39m _process_traceback_frames(e\u001b[38;5;241m.\u001b[39m__traceback__)\n\u001b[0;32m---> 67\u001b[0m   \u001b[38;5;28;01mraise\u001b[39;00m e\u001b[38;5;241m.\u001b[39mwith_traceback(filtered_tb) \u001b[38;5;28;01mfrom\u001b[39;00m \u001b[38;5;28mNone\u001b[39m\n\u001b[1;32m     68\u001b[0m \u001b[38;5;28;01mfinally\u001b[39;00m:\n\u001b[1;32m     69\u001b[0m   \u001b[38;5;28;01mdel\u001b[39;00m filtered_tb\n",
      "File \u001b[0;32m~/opt/anaconda3/envs/tensorflow/lib/python3.10/site-packages/tensorflow/python/eager/execute.py:54\u001b[0m, in \u001b[0;36mquick_execute\u001b[0;34m(op_name, num_outputs, inputs, attrs, ctx, name)\u001b[0m\n\u001b[1;32m     52\u001b[0m \u001b[38;5;28;01mtry\u001b[39;00m:\n\u001b[1;32m     53\u001b[0m   ctx\u001b[38;5;241m.\u001b[39mensure_initialized()\n\u001b[0;32m---> 54\u001b[0m   tensors \u001b[38;5;241m=\u001b[39m pywrap_tfe\u001b[38;5;241m.\u001b[39mTFE_Py_Execute(ctx\u001b[38;5;241m.\u001b[39m_handle, device_name, op_name,\n\u001b[1;32m     55\u001b[0m                                       inputs, attrs, num_outputs)\n\u001b[1;32m     56\u001b[0m \u001b[38;5;28;01mexcept\u001b[39;00m core\u001b[38;5;241m.\u001b[39m_NotOkStatusException \u001b[38;5;28;01mas\u001b[39;00m e:\n\u001b[1;32m     57\u001b[0m   \u001b[38;5;28;01mif\u001b[39;00m name \u001b[38;5;129;01mis\u001b[39;00m \u001b[38;5;129;01mnot\u001b[39;00m \u001b[38;5;28;01mNone\u001b[39;00m:\n",
      "\u001b[0;31mInvalidArgumentError\u001b[0m: Graph execution error:\n\nDetected at node 'assert_greater_equal/Assert/AssertGuard/Assert' defined at (most recent call last):\n    File \"/Users/pratikhotchandani/opt/anaconda3/envs/tensorflow/lib/python3.10/runpy.py\", line 196, in _run_module_as_main\n      return _run_code(code, main_globals, None,\n    File \"/Users/pratikhotchandani/opt/anaconda3/envs/tensorflow/lib/python3.10/runpy.py\", line 86, in _run_code\n      exec(code, run_globals)\n    File \"/Users/pratikhotchandani/opt/anaconda3/envs/tensorflow/lib/python3.10/site-packages/ipykernel_launcher.py\", line 17, in <module>\n      app.launch_new_instance()\n    File \"/Users/pratikhotchandani/opt/anaconda3/envs/tensorflow/lib/python3.10/site-packages/traitlets/config/application.py\", line 1043, in launch_instance\n      app.start()\n    File \"/Users/pratikhotchandani/opt/anaconda3/envs/tensorflow/lib/python3.10/site-packages/ipykernel/kernelapp.py\", line 725, in start\n      self.io_loop.start()\n    File \"/Users/pratikhotchandani/opt/anaconda3/envs/tensorflow/lib/python3.10/site-packages/tornado/platform/asyncio.py\", line 215, in start\n      self.asyncio_loop.run_forever()\n    File \"/Users/pratikhotchandani/opt/anaconda3/envs/tensorflow/lib/python3.10/asyncio/base_events.py\", line 603, in run_forever\n      self._run_once()\n    File \"/Users/pratikhotchandani/opt/anaconda3/envs/tensorflow/lib/python3.10/asyncio/base_events.py\", line 1906, in _run_once\n      handle._run()\n    File \"/Users/pratikhotchandani/opt/anaconda3/envs/tensorflow/lib/python3.10/asyncio/events.py\", line 80, in _run\n      self._context.run(self._callback, *self._args)\n    File \"/Users/pratikhotchandani/opt/anaconda3/envs/tensorflow/lib/python3.10/site-packages/ipykernel/kernelbase.py\", line 513, in dispatch_queue\n      await self.process_one()\n    File \"/Users/pratikhotchandani/opt/anaconda3/envs/tensorflow/lib/python3.10/site-packages/ipykernel/kernelbase.py\", line 502, in process_one\n      await dispatch(*args)\n    File \"/Users/pratikhotchandani/opt/anaconda3/envs/tensorflow/lib/python3.10/site-packages/ipykernel/kernelbase.py\", line 409, in dispatch_shell\n      await result\n    File \"/Users/pratikhotchandani/opt/anaconda3/envs/tensorflow/lib/python3.10/site-packages/ipykernel/kernelbase.py\", line 729, in execute_request\n      reply_content = await reply_content\n    File \"/Users/pratikhotchandani/opt/anaconda3/envs/tensorflow/lib/python3.10/site-packages/ipykernel/ipkernel.py\", line 422, in do_execute\n      res = shell.run_cell(\n    File \"/Users/pratikhotchandani/opt/anaconda3/envs/tensorflow/lib/python3.10/site-packages/ipykernel/zmqshell.py\", line 540, in run_cell\n      return super().run_cell(*args, **kwargs)\n    File \"/Users/pratikhotchandani/opt/anaconda3/envs/tensorflow/lib/python3.10/site-packages/IPython/core/interactiveshell.py\", line 2961, in run_cell\n      result = self._run_cell(\n    File \"/Users/pratikhotchandani/opt/anaconda3/envs/tensorflow/lib/python3.10/site-packages/IPython/core/interactiveshell.py\", line 3016, in _run_cell\n      result = runner(coro)\n    File \"/Users/pratikhotchandani/opt/anaconda3/envs/tensorflow/lib/python3.10/site-packages/IPython/core/async_helpers.py\", line 129, in _pseudo_sync_runner\n      coro.send(None)\n    File \"/Users/pratikhotchandani/opt/anaconda3/envs/tensorflow/lib/python3.10/site-packages/IPython/core/interactiveshell.py\", line 3221, in run_cell_async\n      has_raised = await self.run_ast_nodes(code_ast.body, cell_name,\n    File \"/Users/pratikhotchandani/opt/anaconda3/envs/tensorflow/lib/python3.10/site-packages/IPython/core/interactiveshell.py\", line 3400, in run_ast_nodes\n      if await self.run_code(code, result, async_=asy):\n    File \"/Users/pratikhotchandani/opt/anaconda3/envs/tensorflow/lib/python3.10/site-packages/IPython/core/interactiveshell.py\", line 3460, in run_code\n      exec(code_obj, self.user_global_ns, self.user_ns)\n    File \"/var/folders/dq/pg0mssxn6yzdwtcdrwnt0bs80000gn/T/ipykernel_7312/1363398751.py\", line 1, in <module>\n      history_selu = model_selu.fit(x_train,y_train,\n    File \"/Users/pratikhotchandani/opt/anaconda3/envs/tensorflow/lib/python3.10/site-packages/keras/utils/traceback_utils.py\", line 64, in error_handler\n      return fn(*args, **kwargs)\n    File \"/Users/pratikhotchandani/opt/anaconda3/envs/tensorflow/lib/python3.10/site-packages/keras/engine/training.py\", line 1409, in fit\n      tmp_logs = self.train_function(iterator)\n    File \"/Users/pratikhotchandani/opt/anaconda3/envs/tensorflow/lib/python3.10/site-packages/keras/engine/training.py\", line 1051, in train_function\n      return step_function(self, iterator)\n    File \"/Users/pratikhotchandani/opt/anaconda3/envs/tensorflow/lib/python3.10/site-packages/keras/engine/training.py\", line 1040, in step_function\n      outputs = model.distribute_strategy.run(run_step, args=(data,))\n    File \"/Users/pratikhotchandani/opt/anaconda3/envs/tensorflow/lib/python3.10/site-packages/keras/engine/training.py\", line 1030, in run_step\n      outputs = model.train_step(data)\n    File \"/Users/pratikhotchandani/opt/anaconda3/envs/tensorflow/lib/python3.10/site-packages/keras/engine/training.py\", line 894, in train_step\n      return self.compute_metrics(x, y, y_pred, sample_weight)\n    File \"/Users/pratikhotchandani/opt/anaconda3/envs/tensorflow/lib/python3.10/site-packages/keras/engine/training.py\", line 987, in compute_metrics\n      self.compiled_metrics.update_state(y, y_pred, sample_weight)\n    File \"/Users/pratikhotchandani/opt/anaconda3/envs/tensorflow/lib/python3.10/site-packages/keras/engine/compile_utils.py\", line 501, in update_state\n      metric_obj.update_state(y_t, y_p, sample_weight=mask)\n    File \"/Users/pratikhotchandani/opt/anaconda3/envs/tensorflow/lib/python3.10/site-packages/keras/utils/metrics_utils.py\", line 70, in decorated\n      update_op = update_state_fn(*args, **kwargs)\n    File \"/Users/pratikhotchandani/opt/anaconda3/envs/tensorflow/lib/python3.10/site-packages/keras/metrics/base_metric.py\", line 140, in update_state_fn\n      return ag_update_state(*args, **kwargs)\n    File \"/Users/pratikhotchandani/opt/anaconda3/envs/tensorflow/lib/python3.10/site-packages/keras/metrics/metrics.py\", line 818, in update_state\n      return metrics_utils.update_confusion_matrix_variables(\n    File \"/Users/pratikhotchandani/opt/anaconda3/envs/tensorflow/lib/python3.10/site-packages/keras/utils/metrics_utils.py\", line 602, in update_confusion_matrix_variables\n      tf.debugging.assert_greater_equal(\nNode: 'assert_greater_equal/Assert/AssertGuard/Assert'\nDetected at node 'assert_greater_equal/Assert/AssertGuard/Assert' defined at (most recent call last):\n    File \"/Users/pratikhotchandani/opt/anaconda3/envs/tensorflow/lib/python3.10/runpy.py\", line 196, in _run_module_as_main\n      return _run_code(code, main_globals, None,\n    File \"/Users/pratikhotchandani/opt/anaconda3/envs/tensorflow/lib/python3.10/runpy.py\", line 86, in _run_code\n      exec(code, run_globals)\n    File \"/Users/pratikhotchandani/opt/anaconda3/envs/tensorflow/lib/python3.10/site-packages/ipykernel_launcher.py\", line 17, in <module>\n      app.launch_new_instance()\n    File \"/Users/pratikhotchandani/opt/anaconda3/envs/tensorflow/lib/python3.10/site-packages/traitlets/config/application.py\", line 1043, in launch_instance\n      app.start()\n    File \"/Users/pratikhotchandani/opt/anaconda3/envs/tensorflow/lib/python3.10/site-packages/ipykernel/kernelapp.py\", line 725, in start\n      self.io_loop.start()\n    File \"/Users/pratikhotchandani/opt/anaconda3/envs/tensorflow/lib/python3.10/site-packages/tornado/platform/asyncio.py\", line 215, in start\n      self.asyncio_loop.run_forever()\n    File \"/Users/pratikhotchandani/opt/anaconda3/envs/tensorflow/lib/python3.10/asyncio/base_events.py\", line 603, in run_forever\n      self._run_once()\n    File \"/Users/pratikhotchandani/opt/anaconda3/envs/tensorflow/lib/python3.10/asyncio/base_events.py\", line 1906, in _run_once\n      handle._run()\n    File \"/Users/pratikhotchandani/opt/anaconda3/envs/tensorflow/lib/python3.10/asyncio/events.py\", line 80, in _run\n      self._context.run(self._callback, *self._args)\n    File \"/Users/pratikhotchandani/opt/anaconda3/envs/tensorflow/lib/python3.10/site-packages/ipykernel/kernelbase.py\", line 513, in dispatch_queue\n      await self.process_one()\n    File \"/Users/pratikhotchandani/opt/anaconda3/envs/tensorflow/lib/python3.10/site-packages/ipykernel/kernelbase.py\", line 502, in process_one\n      await dispatch(*args)\n    File \"/Users/pratikhotchandani/opt/anaconda3/envs/tensorflow/lib/python3.10/site-packages/ipykernel/kernelbase.py\", line 409, in dispatch_shell\n      await result\n    File \"/Users/pratikhotchandani/opt/anaconda3/envs/tensorflow/lib/python3.10/site-packages/ipykernel/kernelbase.py\", line 729, in execute_request\n      reply_content = await reply_content\n    File \"/Users/pratikhotchandani/opt/anaconda3/envs/tensorflow/lib/python3.10/site-packages/ipykernel/ipkernel.py\", line 422, in do_execute\n      res = shell.run_cell(\n    File \"/Users/pratikhotchandani/opt/anaconda3/envs/tensorflow/lib/python3.10/site-packages/ipykernel/zmqshell.py\", line 540, in run_cell\n      return super().run_cell(*args, **kwargs)\n    File \"/Users/pratikhotchandani/opt/anaconda3/envs/tensorflow/lib/python3.10/site-packages/IPython/core/interactiveshell.py\", line 2961, in run_cell\n      result = self._run_cell(\n    File \"/Users/pratikhotchandani/opt/anaconda3/envs/tensorflow/lib/python3.10/site-packages/IPython/core/interactiveshell.py\", line 3016, in _run_cell\n      result = runner(coro)\n    File \"/Users/pratikhotchandani/opt/anaconda3/envs/tensorflow/lib/python3.10/site-packages/IPython/core/async_helpers.py\", line 129, in _pseudo_sync_runner\n      coro.send(None)\n    File \"/Users/pratikhotchandani/opt/anaconda3/envs/tensorflow/lib/python3.10/site-packages/IPython/core/interactiveshell.py\", line 3221, in run_cell_async\n      has_raised = await self.run_ast_nodes(code_ast.body, cell_name,\n    File \"/Users/pratikhotchandani/opt/anaconda3/envs/tensorflow/lib/python3.10/site-packages/IPython/core/interactiveshell.py\", line 3400, in run_ast_nodes\n      if await self.run_code(code, result, async_=asy):\n    File \"/Users/pratikhotchandani/opt/anaconda3/envs/tensorflow/lib/python3.10/site-packages/IPython/core/interactiveshell.py\", line 3460, in run_code\n      exec(code_obj, self.user_global_ns, self.user_ns)\n    File \"/var/folders/dq/pg0mssxn6yzdwtcdrwnt0bs80000gn/T/ipykernel_7312/1363398751.py\", line 1, in <module>\n      history_selu = model_selu.fit(x_train,y_train,\n    File \"/Users/pratikhotchandani/opt/anaconda3/envs/tensorflow/lib/python3.10/site-packages/keras/utils/traceback_utils.py\", line 64, in error_handler\n      return fn(*args, **kwargs)\n    File \"/Users/pratikhotchandani/opt/anaconda3/envs/tensorflow/lib/python3.10/site-packages/keras/engine/training.py\", line 1409, in fit\n      tmp_logs = self.train_function(iterator)\n    File \"/Users/pratikhotchandani/opt/anaconda3/envs/tensorflow/lib/python3.10/site-packages/keras/engine/training.py\", line 1051, in train_function\n      return step_function(self, iterator)\n    File \"/Users/pratikhotchandani/opt/anaconda3/envs/tensorflow/lib/python3.10/site-packages/keras/engine/training.py\", line 1040, in step_function\n      outputs = model.distribute_strategy.run(run_step, args=(data,))\n    File \"/Users/pratikhotchandani/opt/anaconda3/envs/tensorflow/lib/python3.10/site-packages/keras/engine/training.py\", line 1030, in run_step\n      outputs = model.train_step(data)\n    File \"/Users/pratikhotchandani/opt/anaconda3/envs/tensorflow/lib/python3.10/site-packages/keras/engine/training.py\", line 894, in train_step\n      return self.compute_metrics(x, y, y_pred, sample_weight)\n    File \"/Users/pratikhotchandani/opt/anaconda3/envs/tensorflow/lib/python3.10/site-packages/keras/engine/training.py\", line 987, in compute_metrics\n      self.compiled_metrics.update_state(y, y_pred, sample_weight)\n    File \"/Users/pratikhotchandani/opt/anaconda3/envs/tensorflow/lib/python3.10/site-packages/keras/engine/compile_utils.py\", line 501, in update_state\n      metric_obj.update_state(y_t, y_p, sample_weight=mask)\n    File \"/Users/pratikhotchandani/opt/anaconda3/envs/tensorflow/lib/python3.10/site-packages/keras/utils/metrics_utils.py\", line 70, in decorated\n      update_op = update_state_fn(*args, **kwargs)\n    File \"/Users/pratikhotchandani/opt/anaconda3/envs/tensorflow/lib/python3.10/site-packages/keras/metrics/base_metric.py\", line 140, in update_state_fn\n      return ag_update_state(*args, **kwargs)\n    File \"/Users/pratikhotchandani/opt/anaconda3/envs/tensorflow/lib/python3.10/site-packages/keras/metrics/metrics.py\", line 818, in update_state\n      return metrics_utils.update_confusion_matrix_variables(\n    File \"/Users/pratikhotchandani/opt/anaconda3/envs/tensorflow/lib/python3.10/site-packages/keras/utils/metrics_utils.py\", line 602, in update_confusion_matrix_variables\n      tf.debugging.assert_greater_equal(\nNode: 'assert_greater_equal/Assert/AssertGuard/Assert'\n2 root error(s) found.\n  (0) INVALID_ARGUMENT:  assertion failed: [predictions must be >= 0] [Condition x >= y did not hold element-wise:] [x (sequential_11/outputLayer/Selu:0) = ] [[-0.055710189 -1.12699664 -0.91311866...]...] [y (Cast_4/x:0) = ] [0]\n\t [[{{node assert_greater_equal/Assert/AssertGuard/Assert}}]]\n\t [[assert_greater_equal_1/Assert/AssertGuard/branch_executed/_29/_135]]\n  (1) INVALID_ARGUMENT:  assertion failed: [predictions must be >= 0] [Condition x >= y did not hold element-wise:] [x (sequential_11/outputLayer/Selu:0) = ] [[-0.055710189 -1.12699664 -0.91311866...]...] [y (Cast_4/x:0) = ] [0]\n\t [[{{node assert_greater_equal/Assert/AssertGuard/Assert}}]]\n0 successful operations.\n0 derived errors ignored. [Op:__inference_train_function_734287]"
     ]
    }
   ],
   "source": [
    "history_selu = model_selu.fit(x_train,y_train, \n",
    "              epochs=50,batch_size = 128,\n",
    "              validation_data=(x_test, y_test))"
   ]
  },
  {
   "cell_type": "markdown",
   "id": "e14a9332",
   "metadata": {},
   "source": []
  }
 ],
 "metadata": {
  "kernelspec": {
   "display_name": "Python 3.10 (tensorflow)",
   "language": "python",
   "name": "tensorflow"
  },
  "language_info": {
   "codemirror_mode": {
    "name": "ipython",
    "version": 3
   },
   "file_extension": ".py",
   "mimetype": "text/x-python",
   "name": "python",
   "nbconvert_exporter": "python",
   "pygments_lexer": "ipython3",
   "version": "3.10.9"
  }
 },
 "nbformat": 4,
 "nbformat_minor": 5
}
