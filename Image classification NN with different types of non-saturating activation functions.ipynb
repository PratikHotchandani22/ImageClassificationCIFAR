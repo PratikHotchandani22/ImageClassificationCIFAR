{
 "cells": [
  {
   "cell_type": "code",
   "execution_count": 1,
   "id": "d562ecd7",
   "metadata": {},
   "outputs": [],
   "source": [
    "import pandas as pd\n",
    "import numpy as np\n",
    "import matplotlib.pyplot as plt\n",
    "import tensorflow as tf\n",
    "from sklearn.linear_model import LogisticRegression\n",
    "from keras.models import Sequential\n",
    "from tensorflow.keras.layers import InputLayer\n",
    "from keras.layers import Dense, Flatten\n",
    "from sklearn.svm import SVC\n",
    "from sklearn.metrics import accuracy_score\n",
    "import keras\n",
    "from keras.datasets import cifar10\n",
    "\n",
    "from sklearn.metrics import classification_report,confusion_matrix\n",
    "from tensorflow.keras.preprocessing.image import ImageDataGenerator\n",
    "\n",
    "from keras.models import Sequential\n",
    "from keras.layers import Dense, Activation, Flatten, Conv2D, MaxPooling2D, Dropout\n",
    "\n",
    "from keras.regularizers import l1, l2\n",
    "\n",
    "from tensorflow.keras.layers import LeakyReLU"
   ]
  },
  {
   "cell_type": "code",
   "execution_count": 2,
   "id": "6a6afa64",
   "metadata": {},
   "outputs": [
    {
     "name": "stdout",
     "output_type": "stream",
     "text": [
      "x_train shape: (50000, 32, 32, 3)\n",
      "50000 train samples\n",
      "10000 test samples\n"
     ]
    }
   ],
   "source": [
    "# define num_class\n",
    "num_classes = 10\n",
    "\n",
    "# load dataset keras will download cifar-10 datset\n",
    "(x_train, y_train), (x_test, y_test) = cifar10.load_data()  \n",
    "\n",
    "print('x_train shape:', x_train.shape)\n",
    "print(x_train.shape[0], 'train samples')\n",
    "print(x_test.shape[0], 'test samples')\n"
   ]
  },
  {
   "cell_type": "code",
   "execution_count": 3,
   "id": "b828fab5",
   "metadata": {},
   "outputs": [],
   "source": [
    "# Converting class vectors to binary class matrices.\n",
    "y_train = keras.utils.np_utils.to_categorical(y_train, num_classes)\n",
    "y_test = keras.utils.np_utils.to_categorical(y_test, num_classes)"
   ]
  },
  {
   "cell_type": "code",
   "execution_count": 4,
   "id": "d51e82a8",
   "metadata": {},
   "outputs": [],
   "source": [
    "x_train = x_train.astype('float32') / 255.0\n",
    "x_test = x_test.astype('float32') / 255.0"
   ]
  },
  {
   "cell_type": "code",
   "execution_count": 6,
   "id": "96d7bf33",
   "metadata": {},
   "outputs": [
    {
     "name": "stdout",
     "output_type": "stream",
     "text": [
      "Metal device set to: Apple M1 Pro\n"
     ]
    },
    {
     "name": "stderr",
     "output_type": "stream",
     "text": [
      "2023-05-13 14:12:12.522366: I tensorflow/core/common_runtime/pluggable_device/pluggable_device_factory.cc:305] Could not identify NUMA node of platform GPU ID 0, defaulting to 0. Your kernel may not have been built with NUMA support.\n",
      "2023-05-13 14:12:12.522647: I tensorflow/core/common_runtime/pluggable_device/pluggable_device_factory.cc:271] Created TensorFlow device (/job:localhost/replica:0/task:0/device:GPU:0 with 0 MB memory) -> physical PluggableDevice (device: 0, name: METAL, pci bus id: <undefined>)\n"
     ]
    }
   ],
   "source": [
    "# standardizing the input features\n",
    "# Calculate the mean and standard deviation of the training set\n",
    "mean = tf.reduce_mean(x_train, axis=(0, 1, 2))\n",
    "std = tf.math.reduce_std(x_train, axis=(0, 1, 2))\n",
    "\n",
    "# Standardize the input features using mean and standard deviation\n",
    "x_train = (x_train - mean) / std\n",
    "x_test = (x_test - mean) / std"
   ]
  },
  {
   "cell_type": "markdown",
   "id": "ae053d57",
   "metadata": {},
   "source": [
    "# Models"
   ]
  },
  {
   "cell_type": "markdown",
   "id": "0ef778b6",
   "metadata": {},
   "source": [
    "### Relu activation function"
   ]
  },
  {
   "cell_type": "code",
   "execution_count": null,
   "id": "c4522468",
   "metadata": {},
   "outputs": [],
   "source": [
    "# Designing the layer architecture of the DNN model\n",
    "LAYERS = [\n",
    "          tf.keras.layers.Flatten(input_shape=[32, 32,3], name=\"inputLayer\"),\n",
    "          tf.keras.layers.Dense(300, activation=\"relu\", name=\"hiddenLayer1\"),\n",
    "          tf.keras.layers.Dense(200, activation=\"relu\", name=\"hiddenLayer2\"),\n",
    "          tf.keras.layers.Dense(100, activation=\"relu\", name=\"hiddenLayer3\"),\n",
    "          tf.keras.layers.Dense(10, activation=\"softmax\", name=\"outputLayer\"),\n",
    "]"
   ]
  },
  {
   "cell_type": "code",
   "execution_count": null,
   "id": "890cae06",
   "metadata": {},
   "outputs": [],
   "source": [
    "model_relu = tf.keras.models.Sequential(LAYERS)"
   ]
  },
  {
   "cell_type": "code",
   "execution_count": null,
   "id": "6225858e",
   "metadata": {},
   "outputs": [],
   "source": [
    "METRICS = [\n",
    "    'accuracy',\n",
    "    tf.keras.metrics.Precision(name='precision'),\n",
    "    tf.keras.metrics.Recall(name='recall')\n",
    "]\n",
    "\n",
    "model_relu.compile(optimizer='adam', loss='categorical_crossentropy', metrics=METRICS)"
   ]
  },
  {
   "cell_type": "code",
   "execution_count": null,
   "id": "60c39d40",
   "metadata": {},
   "outputs": [],
   "source": [
    "history_relu = model_relu.fit(x_train,y_train, \n",
    "              epochs=50,batch_size = 128,\n",
    "              validation_data=(x_test, y_test))"
   ]
  },
  {
   "cell_type": "code",
   "execution_count": null,
   "id": "39a2c049",
   "metadata": {},
   "outputs": [],
   "source": [
    "model_relu.evaluate(x_test, y_test)"
   ]
  },
  {
   "cell_type": "markdown",
   "id": "687eec43",
   "metadata": {},
   "source": [
    "Training accuracy: 71%\n",
    "Testing accuracy: 51.38%"
   ]
  },
  {
   "cell_type": "markdown",
   "id": "ac42a4cb",
   "metadata": {},
   "source": [
    "### Leaky-relu activation function"
   ]
  },
  {
   "cell_type": "code",
   "execution_count": null,
   "id": "84eb07e9",
   "metadata": {},
   "outputs": [],
   "source": [
    "# Designing the layer architecture of the DNN model\n",
    "LAYERS = [\n",
    "          tf.keras.layers.Flatten(input_shape=[32, 32,3], name=\"inputLayer\"),\n",
    "          tf.keras.layers.Dense(300, activation=tf.keras.layers.LeakyReLU(alpha=0.01), name=\"hiddenLayer1\"),\n",
    "          tf.keras.layers.Dense(200, activation=tf.keras.layers.LeakyReLU(alpha=0.01), name=\"hiddenLayer2\"),\n",
    "          tf.keras.layers.Dense(100, activation=tf.keras.layers.LeakyReLU(alpha=0.01), name=\"hiddenLayer3\"),\n",
    "          tf.keras.layers.Dense(10, activation=\"softmax\", name=\"outputLayer\"),\n",
    "]"
   ]
  },
  {
   "cell_type": "code",
   "execution_count": null,
   "id": "41a0d317",
   "metadata": {},
   "outputs": [],
   "source": [
    "model_Leakyrelu = tf.keras.models.Sequential(LAYERS)"
   ]
  },
  {
   "cell_type": "code",
   "execution_count": null,
   "id": "08173d7b",
   "metadata": {},
   "outputs": [],
   "source": [
    "METRICS = [\n",
    "    'accuracy',\n",
    "    tf.keras.metrics.Precision(name='precision'),\n",
    "    tf.keras.metrics.Recall(name='recall')\n",
    "]\n",
    "\n",
    "model_Leakyrelu.compile(optimizer='adam', loss='categorical_crossentropy', metrics=METRICS)"
   ]
  },
  {
   "cell_type": "code",
   "execution_count": null,
   "id": "cf99fd59",
   "metadata": {},
   "outputs": [],
   "source": [
    "history_Leakyrelu = model_Leakyrelu.fit(x_train,y_train, \n",
    "              epochs=50,batch_size = 128,\n",
    "              validation_data=(x_test, y_test))"
   ]
  },
  {
   "cell_type": "code",
   "execution_count": null,
   "id": "2fcbfd4c",
   "metadata": {},
   "outputs": [],
   "source": [
    "model_Leakyrelu.evaluate(x_test, y_test)"
   ]
  },
  {
   "cell_type": "markdown",
   "id": "334cb790",
   "metadata": {},
   "source": [
    "Training accuracy: 74.25%\n",
    "Testing accuracy: 50.3%"
   ]
  },
  {
   "cell_type": "markdown",
   "id": "87e9eea3",
   "metadata": {},
   "source": [
    "### Randomized Leaky Relu"
   ]
  },
  {
   "cell_type": "code",
   "execution_count": null,
   "id": "fd1b5af3",
   "metadata": {},
   "outputs": [],
   "source": [
    "# Custom layer for randomized Leaky ReLU activation\n",
    "class RandomizedLeakyReLU(tf.keras.layers.Layer):\n",
    "    def __init__(self, **kwargs):\n",
    "        super(RandomizedLeakyReLU, self).__init__(**kwargs)\n",
    "\n",
    "    def call(self, inputs):\n",
    "        alpha = tf.random.uniform(shape=tf.shape(inputs), minval=0.01, maxval=0.2)\n",
    "        return tf.maximum(alpha * inputs, inputs)\n",
    "\n",
    "# Modify the layers to use randomized Leaky ReLU activation\n",
    "LAYERS = [\n",
    "    tf.keras.layers.Flatten(input_shape=[32, 32, 3], name=\"inputLayer\"),\n",
    "    tf.keras.layers.Dense(300, name=\"hiddenLayer1\"),\n",
    "    RandomizedLeakyReLU(name=\"hiddenLayer1_activation\"),\n",
    "    tf.keras.layers.Dense(200, name=\"hiddenLayer2\"),\n",
    "    RandomizedLeakyReLU(name=\"hiddenLayer2_activation\"),\n",
    "    tf.keras.layers.Dense(100, name=\"hiddenLayer3\"),\n",
    "    RandomizedLeakyReLU(name=\"hiddenLayer3_activation\"),\n",
    "    tf.keras.layers.Dense(10, activation=\"softmax\", name=\"outputLayer\")\n",
    "]"
   ]
  },
  {
   "cell_type": "code",
   "execution_count": null,
   "id": "3b283af2",
   "metadata": {
    "scrolled": true
   },
   "outputs": [],
   "source": [
    "model_RandomizedLeakyrelu = tf.keras.models.Sequential(LAYERS)"
   ]
  },
  {
   "cell_type": "code",
   "execution_count": null,
   "id": "3cc08475",
   "metadata": {},
   "outputs": [],
   "source": [
    "METRICS = [\n",
    "    'accuracy',\n",
    "    tf.keras.metrics.Precision(name='precision'),\n",
    "    tf.keras.metrics.Recall(name='recall')\n",
    "]\n",
    "\n",
    "model_RandomizedLeakyrelu.compile(optimizer='adam', loss='categorical_crossentropy', metrics=METRICS)"
   ]
  },
  {
   "cell_type": "code",
   "execution_count": null,
   "id": "63ec25ef",
   "metadata": {},
   "outputs": [],
   "source": [
    "history_RandomizedLeakyrelu = model_RandomizedLeakyrelu.fit(x_train,y_train, \n",
    "              epochs=50,batch_size = 128,\n",
    "              validation_data=(x_test, y_test))"
   ]
  },
  {
   "cell_type": "code",
   "execution_count": null,
   "id": "e12fd443",
   "metadata": {},
   "outputs": [],
   "source": [
    "model_RandomizedLeakyrelu.evaluate(x_test, y_test)"
   ]
  },
  {
   "cell_type": "markdown",
   "id": "97101931",
   "metadata": {},
   "source": [
    "Training accuracy: 74%\n",
    "Testing Accuracy: 54.26%"
   ]
  },
  {
   "cell_type": "markdown",
   "id": "8600f051",
   "metadata": {},
   "source": [
    "### Parametric Leaky Relu"
   ]
  },
  {
   "cell_type": "code",
   "execution_count": null,
   "id": "e02d67c7",
   "metadata": {},
   "outputs": [],
   "source": [
    "\n",
    "# Modify the layers to use Parametric Leaky ReLU activation\n",
    "LAYERS = [\n",
    "    tf.keras.layers.Flatten(input_shape=[32, 32, 3], name=\"inputLayer\"),\n",
    "    tf.keras.layers.Dense(300, name=\"hiddenLayer1\"),\n",
    "    tf.keras.layers.PReLU(name=\"hiddenLayer1_activation\"),\n",
    "    tf.keras.layers.Dense(200, name=\"hiddenLayer2\"),\n",
    "    tf.keras.layers.PReLU(name=\"hiddenLayer2_activation\"),\n",
    "    tf.keras.layers.Dense(100, name=\"hiddenLayer3\"),\n",
    "    tf.keras.layers.PReLU(name=\"hiddenLayer3_activation\"),\n",
    "    tf.keras.layers.Dense(10, activation=\"softmax\", name=\"outputLayer\")\n",
    "]"
   ]
  },
  {
   "cell_type": "code",
   "execution_count": null,
   "id": "5c4571ab",
   "metadata": {},
   "outputs": [],
   "source": [
    "model_ParaLeakyrelu = tf.keras.models.Sequential(LAYERS)"
   ]
  },
  {
   "cell_type": "code",
   "execution_count": null,
   "id": "eecd82f5",
   "metadata": {},
   "outputs": [],
   "source": [
    "METRICS = [\n",
    "    'accuracy',\n",
    "    tf.keras.metrics.Precision(name='precision'),\n",
    "    tf.keras.metrics.Recall(name='recall')\n",
    "]\n",
    "\n",
    "model_ParaLeakyrelu.compile(optimizer='adam', loss='categorical_crossentropy', metrics=METRICS)"
   ]
  },
  {
   "cell_type": "code",
   "execution_count": null,
   "id": "88a0d89f",
   "metadata": {},
   "outputs": [],
   "source": [
    "history_ParaLeakyrelu = model_ParaLeakyrelu.fit(x_train,y_train, \n",
    "              epochs=50,batch_size = 128,\n",
    "              validation_data=(x_test, y_test))"
   ]
  },
  {
   "cell_type": "code",
   "execution_count": null,
   "id": "10658b2c",
   "metadata": {},
   "outputs": [],
   "source": [
    "model_ParaLeakyrelu.evaluate(x_test, y_test)"
   ]
  },
  {
   "cell_type": "markdown",
   "id": "90b43d92",
   "metadata": {},
   "source": [
    "training accuracy: 75.88%\n",
    "testing accuracy: 51.1%"
   ]
  },
  {
   "cell_type": "markdown",
   "id": "1961319e",
   "metadata": {},
   "source": [
    "### Exponential Linear Unit"
   ]
  },
  {
   "cell_type": "code",
   "execution_count": null,
   "id": "152f8606",
   "metadata": {},
   "outputs": [],
   "source": [
    "# Modify the layers to use ELU activation\n",
    "LAYERS = [\n",
    "    tf.keras.layers.Flatten(input_shape=[32, 32, 3], name=\"inputLayer\"),\n",
    "    tf.keras.layers.Dense(300, activation=\"elu\", name=\"hiddenLayer1\"),\n",
    "    tf.keras.layers.Dense(200, activation=\"elu\", name=\"hiddenLayer2\"),\n",
    "    tf.keras.layers.Dense(100, activation=\"elu\", name=\"hiddenLayer3\"),\n",
    "    tf.keras.layers.Dense(10, activation=\"softmax\", name=\"outputLayer\")\n",
    "]"
   ]
  },
  {
   "cell_type": "code",
   "execution_count": null,
   "id": "dbbd46ed",
   "metadata": {},
   "outputs": [],
   "source": [
    "model_elu = tf.keras.models.Sequential(LAYERS)"
   ]
  },
  {
   "cell_type": "code",
   "execution_count": null,
   "id": "d71337c1",
   "metadata": {},
   "outputs": [],
   "source": [
    "METRICS = [\n",
    "    'accuracy',\n",
    "    tf.keras.metrics.Precision(name='precision'),\n",
    "    tf.keras.metrics.Recall(name='recall')\n",
    "]\n",
    "\n",
    "model_elu.compile(optimizer='adam', loss='categorical_crossentropy', metrics=METRICS)"
   ]
  },
  {
   "cell_type": "code",
   "execution_count": null,
   "id": "ccdfb1ad",
   "metadata": {},
   "outputs": [],
   "source": [
    "history_elu = model_elu.fit(x_train,y_train, \n",
    "              epochs=50,batch_size = 128,\n",
    "              validation_data=(x_test, y_test))"
   ]
  },
  {
   "cell_type": "code",
   "execution_count": null,
   "id": "bbf68674",
   "metadata": {},
   "outputs": [],
   "source": [
    "model_elu.evaluate(x_test, y_test)"
   ]
  },
  {
   "cell_type": "markdown",
   "id": "db95b765",
   "metadata": {},
   "source": [
    "training accuracy: 82%\n",
    "testing accuracy: 51.2%"
   ]
  },
  {
   "cell_type": "markdown",
   "id": "bc6489a6",
   "metadata": {},
   "source": [
    "### SELU"
   ]
  },
  {
   "cell_type": "code",
   "execution_count": null,
   "id": "8f133b14",
   "metadata": {},
   "outputs": [],
   "source": [
    "# Modify the layers to use ELU activation\n",
    "LAYERS = [\n",
    "    tf.keras.layers.Flatten(input_shape=[32, 32, 3], name=\"inputLayer\"),\n",
    "    tf.keras.layers.Dense(300, activation=\"selu\", kernel_initializer = \"lecun_normal\" ,name=\"hiddenLayer1\"),\n",
    "    tf.keras.layers.Dense(200, activation=\"selu\", kernel_initializer = \"lecun_normal\" , name=\"hiddenLayer2\"),\n",
    "    tf.keras.layers.Dense(100, activation=\"selu\", kernel_initializer = \"lecun_normal\" , name=\"hiddenLayer3\"),\n",
    "    tf.keras.layers.Dense(10, activation=\"selu\", kernel_initializer = \"lecun_normal\" , name=\"outputLayer\")\n",
    "]"
   ]
  },
  {
   "cell_type": "code",
   "execution_count": null,
   "id": "a5ddc0fc",
   "metadata": {},
   "outputs": [],
   "source": [
    "model_selu = tf.keras.models.Sequential(LAYERS)"
   ]
  },
  {
   "cell_type": "code",
   "execution_count": null,
   "id": "bbdc76dc",
   "metadata": {},
   "outputs": [],
   "source": [
    "METRICS = [\n",
    "    'accuracy',\n",
    "    tf.keras.metrics.Precision(name='precision'),\n",
    "    tf.keras.metrics.Recall(name='recall')\n",
    "]\n",
    "\n",
    "model_selu.compile(optimizer='adam', loss='categorical_crossentropy', metrics=METRICS)"
   ]
  },
  {
   "cell_type": "code",
   "execution_count": null,
   "id": "c8441304",
   "metadata": {},
   "outputs": [],
   "source": [
    "history_selu = model_selu.fit(x_train,y_train, \n",
    "              epochs=50,batch_size = 128,\n",
    "              validation_data=(x_test, y_test))"
   ]
  },
  {
   "cell_type": "markdown",
   "id": "37560fdd",
   "metadata": {},
   "source": [
    "### Batch normalization"
   ]
  },
  {
   "cell_type": "code",
   "execution_count": null,
   "id": "34e0085a",
   "metadata": {},
   "outputs": [],
   "source": [
    "model_bn = keras.models.Sequential([\n",
    "    keras. layers.Flatten(input_shape= [32,32,3]),\n",
    "    keras. layers. BatchNormalization(), \n",
    "    keras. layers.Dense(300, kernel_initializer=\"he_normal\", use_bias=False),\n",
    "    keras.layers.BatchNormalization(), \n",
    "    keras. layers.Activation(\"elu\"),\n",
    "    keras. layers. Dense(100, kernel_initializer=\"he_normal\", use_bias=False), \n",
    "    keras. layers.Activation(\"elu\"), \n",
    "    keras. layers.BatchNormalization(), \n",
    "    keras.layers.Dense(10, activation=\"softmax\")\n",
    "])"
   ]
  },
  {
   "cell_type": "code",
   "execution_count": null,
   "id": "8512a8ea",
   "metadata": {},
   "outputs": [],
   "source": [
    "METRICS = [\n",
    "    'accuracy',\n",
    "    tf.keras.metrics.Precision(name='precision'),\n",
    "    tf.keras.metrics.Recall(name='recall')\n",
    "]\n",
    "\n",
    "model_bn.compile(optimizer='adam', loss='categorical_crossentropy', metrics=METRICS)"
   ]
  },
  {
   "cell_type": "code",
   "execution_count": null,
   "id": "13e100df",
   "metadata": {},
   "outputs": [],
   "source": [
    "history_bn = model_bn.fit(x_train,y_train, \n",
    "              epochs=50,batch_size = 128,\n",
    "              validation_data=(x_test, y_test))"
   ]
  },
  {
   "cell_type": "code",
   "execution_count": null,
   "id": "5e953895",
   "metadata": {},
   "outputs": [],
   "source": [
    "model_bn.evaluate(x_test, y_test)"
   ]
  },
  {
   "cell_type": "markdown",
   "id": "4f4216c6",
   "metadata": {},
   "source": [
    "Training accuracy: 91%\n",
    "Testing accuracy: 52.3%"
   ]
  },
  {
   "cell_type": "markdown",
   "id": "c4c26ddc",
   "metadata": {},
   "source": [
    "## Learning rate Scheduler"
   ]
  },
  {
   "cell_type": "markdown",
   "id": "0c37ccd7",
   "metadata": {},
   "source": [
    "1. Exponential decay"
   ]
  },
  {
   "cell_type": "code",
   "execution_count": null,
   "id": "e9382603",
   "metadata": {},
   "outputs": [],
   "source": [
    "def exponential_decay(epoch,lr):\n",
    "    return lr*0.1**(1/20)\n"
   ]
  },
  {
   "cell_type": "code",
   "execution_count": null,
   "id": "e97ea460",
   "metadata": {},
   "outputs": [],
   "source": [
    "lr_scheduler = keras.callbacks.LearningRateScheduler(exponential_decay)\n",
    "history_bn2 = model_bn.fit(x_train,y_train,\n",
    "                          epochs=50,batch_size=32,\n",
    "                          validation_data=(x_test,y_test),\n",
    "                          callbacks=[lr_scheduler])"
   ]
  },
  {
   "cell_type": "code",
   "execution_count": null,
   "id": "37011e66",
   "metadata": {},
   "outputs": [],
   "source": [
    "model_bn.evaluate(x_test, y_test)"
   ]
  },
  {
   "cell_type": "markdown",
   "id": "ae1227a3",
   "metadata": {},
   "source": [
    "Training accuracy: 74%\n",
    "Testing accuracy: 55.36%"
   ]
  },
  {
   "cell_type": "markdown",
   "id": "020f160e",
   "metadata": {},
   "source": [
    "2. Performance Scheduling"
   ]
  },
  {
   "cell_type": "code",
   "execution_count": null,
   "id": "3debae3c",
   "metadata": {},
   "outputs": [],
   "source": [
    "lr_performanceScheduler = keras.callbacks.ReduceLROnPlateau(factor=0.5,patience=5)"
   ]
  },
  {
   "cell_type": "code",
   "execution_count": null,
   "id": "c12be595",
   "metadata": {},
   "outputs": [],
   "source": [
    "history_bn3 = model_bn.fit(x_train,y_train,\n",
    "                          epochs=50,batch_size=32,\n",
    "                          validation_data=(x_test,y_test),\n",
    "                          callbacks=[lr_performanceScheduler])"
   ]
  },
  {
   "cell_type": "code",
   "execution_count": null,
   "id": "ce14a610",
   "metadata": {},
   "outputs": [],
   "source": [
    "model_bn.evaluate(x_test, y_test)"
   ]
  },
  {
   "cell_type": "markdown",
   "id": "24889af3",
   "metadata": {},
   "source": [
    "Training Accuracy: 81%\n",
    "Testing Accuracy: 55.6%\n"
   ]
  },
  {
   "cell_type": "markdown",
   "id": "12d38331",
   "metadata": {},
   "source": [
    "### Fixing Overfitting"
   ]
  },
  {
   "cell_type": "markdown",
   "id": "0eb63b54",
   "metadata": {},
   "source": [
    "#### 1. L1 and L2 regularizers"
   ]
  },
  {
   "cell_type": "code",
   "execution_count": null,
   "id": "43a3e37e",
   "metadata": {},
   "outputs": [],
   "source": [
    "model_bn_l1_l2 = keras.models.Sequential([\n",
    "    keras. layers.Flatten(input_shape= [32,32,3]),\n",
    "    keras. layers. BatchNormalization(), \n",
    "    keras. layers.Dense(300, kernel_initializer=\"he_normal\", use_bias=False,kernel_regularizer = keras.regularizers.l1_l2(0.01)),\n",
    "    keras.layers.BatchNormalization(), \n",
    "    keras. layers.Activation(\"elu\"),\n",
    "    keras. layers. Dense(100, kernel_initializer=\"he_normal\", use_bias=False,kernel_regularizer = keras.regularizers.l1_l2(0.01)), \n",
    "    keras. layers.Activation(\"elu\"), \n",
    "    keras. layers.BatchNormalization(), \n",
    "    keras.layers.Dense(10, activation=\"softmax\")\n",
    "])"
   ]
  },
  {
   "cell_type": "code",
   "execution_count": null,
   "id": "636ed379",
   "metadata": {},
   "outputs": [],
   "source": [
    "METRICS = [\n",
    "    'accuracy',\n",
    "    tf.keras.metrics.Precision(name='precision'),\n",
    "    tf.keras.metrics.Recall(name='recall')\n",
    "]\n",
    "\n",
    "model_bn_l1_l2.compile(optimizer='adam', loss='categorical_crossentropy', metrics=METRICS)"
   ]
  },
  {
   "cell_type": "code",
   "execution_count": null,
   "id": "baff7b75",
   "metadata": {},
   "outputs": [],
   "source": [
    "history_bn_l1_l2 = model_bn_l1_l2.fit(x_train,y_train, \n",
    "              epochs=50,batch_size = 32,\n",
    "              validation_data=(x_test, y_test))"
   ]
  },
  {
   "cell_type": "code",
   "execution_count": null,
   "id": "07ef1b27",
   "metadata": {},
   "outputs": [],
   "source": [
    "model_bn_l1_l2.evaluate(x_test,y_test)"
   ]
  },
  {
   "cell_type": "markdown",
   "id": "8603608c",
   "metadata": {},
   "source": [
    "Training Accuracy: 35%\n",
    "Testing Accuracy: 35.6%"
   ]
  },
  {
   "cell_type": "markdown",
   "id": "7b488041",
   "metadata": {},
   "source": [
    "#### 2. Dropout technique"
   ]
  },
  {
   "cell_type": "markdown",
   "id": "83e1fafa",
   "metadata": {},
   "source": [
    "We will force dropout technique to be active during both training and validation, this is to get the exact idea if the model is overfitting or not.\n",
    "\n",
    "Also we will add dropout layer only after the last hidden layer, since this is followed by most architectures."
   ]
  },
  {
   "cell_type": "code",
   "execution_count": null,
   "id": "5e661fd9",
   "metadata": {},
   "outputs": [],
   "source": [
    "model_bn_dropout = keras.models.Sequential([\n",
    "    keras. layers.Flatten(input_shape= [32,32,3]),\n",
    "    keras. layers. BatchNormalization(), \n",
    "    keras. layers.Dense(300, kernel_initializer=\"he_normal\", use_bias=False),\n",
    "    keras.layers.BatchNormalization(), \n",
    "    keras. layers.Activation(\"elu\"),\n",
    "    keras. layers. Dense(100, kernel_initializer=\"he_normal\", use_bias=False), \n",
    "    keras. layers.Activation(\"elu\"), \n",
    "    keras. layers.BatchNormalization(), \n",
    "    keras.layers.Dropout(rate=0.5),\n",
    "    keras.layers.Dense(10, activation=\"softmax\")\n",
    "])"
   ]
  },
  {
   "cell_type": "code",
   "execution_count": null,
   "id": "f1fee18a",
   "metadata": {},
   "outputs": [],
   "source": [
    "METRICS = [\n",
    "    'accuracy',\n",
    "    tf.keras.metrics.Precision(name='precision'),\n",
    "    tf.keras.metrics.Recall(name='recall')\n",
    "]\n",
    "\n",
    "model_bn_dropout.compile(optimizer='adam', loss='categorical_crossentropy', metrics=METRICS)"
   ]
  },
  {
   "cell_type": "code",
   "execution_count": null,
   "id": "02f9bde9",
   "metadata": {},
   "outputs": [],
   "source": [
    "with keras.backend.learning_phase_scope(1):\n",
    "    history_bn_dropout = model_bn_dropout.fit(x_train,y_train, \n",
    "                  epochs=50,batch_size = 32,\n",
    "                  validation_data=(x_test, y_test))"
   ]
  },
  {
   "cell_type": "code",
   "execution_count": null,
   "id": "ad93a0e3",
   "metadata": {},
   "outputs": [],
   "source": [
    "model_bn_dropout.evaluate(x_test,y_test)"
   ]
  },
  {
   "cell_type": "markdown",
   "id": "041269c5",
   "metadata": {},
   "source": [
    "### Final model by default DNN configurations"
   ]
  },
  {
   "cell_type": "markdown",
   "id": "58f0107e",
   "metadata": {},
   "source": [
    "1. Kernel_initializer = LeCun Initialization\n",
    "2. Activation function: SELU\n",
    "3. Normalization = none\n",
    "4. regularization = early stopping\n",
    "5. optimizer = nadam\n",
    "6. learning rate scheduler = performance scheduling"
   ]
  },
  {
   "cell_type": "code",
   "execution_count": 12,
   "id": "6031e827",
   "metadata": {},
   "outputs": [],
   "source": [
    "model = keras.models.Sequential([\n",
    "    keras.layers.Flatten(input_shape=[32,32,3]),\n",
    "    keras.layers.Dense(300, activation=\"selu\", kernel_initializer=\"lecun_normal\"),\n",
    "    keras.layers.Dense(100, activation=\"selu\", kernel_initializer=\"lecun_normal\"),\n",
    "    keras.layers.Dense(10, activation=\"softmax\")\n",
    "])\n",
    "model.compile(loss=\"sparse_categorical_crossentropy\", optimizer=\"nadam\", metrics=[\"accuracy\"])"
   ]
  },
  {
   "cell_type": "code",
   "execution_count": 13,
   "id": "99f26288",
   "metadata": {},
   "outputs": [],
   "source": [
    "early_stopping_cb = keras.callbacks.EarlyStopping(patience=10,\n",
    "                                                  restore_best_weights=True)"
   ]
  },
  {
   "cell_type": "code",
   "execution_count": 14,
   "id": "434380be",
   "metadata": {},
   "outputs": [],
   "source": [
    "lr_performanceScheduler = keras.callbacks.ReduceLROnPlateau(factor=0.5,patience=5)"
   ]
  },
  {
   "cell_type": "code",
   "execution_count": 15,
   "id": "e6a3e53e",
   "metadata": {},
   "outputs": [
    {
     "name": "stdout",
     "output_type": "stream",
     "text": [
      "Epoch 1/50\n"
     ]
    },
    {
     "name": "stderr",
     "output_type": "stream",
     "text": [
      "2023-05-13 14:13:03.598431: W tensorflow/core/platform/profile_utils/cpu_utils.cc:128] Failed to get CPU frequency: 0 Hz\n",
      "2023-05-13 14:13:03.936929: I tensorflow/core/grappler/optimizers/custom_graph_optimizer_registry.cc:113] Plugin optimizer for device_type GPU is enabled.\n"
     ]
    },
    {
     "ename": "InvalidArgumentError",
     "evalue": "Graph execution error:\n\nDetected at node 'sparse_categorical_crossentropy/SparseSoftmaxCrossEntropyWithLogits/SparseSoftmaxCrossEntropyWithLogits' defined at (most recent call last):\n    File \"/Users/pratikhotchandani/opt/anaconda3/envs/tensorflow/lib/python3.10/runpy.py\", line 196, in _run_module_as_main\n      return _run_code(code, main_globals, None,\n    File \"/Users/pratikhotchandani/opt/anaconda3/envs/tensorflow/lib/python3.10/runpy.py\", line 86, in _run_code\n      exec(code, run_globals)\n    File \"/Users/pratikhotchandani/opt/anaconda3/envs/tensorflow/lib/python3.10/site-packages/ipykernel_launcher.py\", line 17, in <module>\n      app.launch_new_instance()\n    File \"/Users/pratikhotchandani/opt/anaconda3/envs/tensorflow/lib/python3.10/site-packages/traitlets/config/application.py\", line 1043, in launch_instance\n      app.start()\n    File \"/Users/pratikhotchandani/opt/anaconda3/envs/tensorflow/lib/python3.10/site-packages/ipykernel/kernelapp.py\", line 725, in start\n      self.io_loop.start()\n    File \"/Users/pratikhotchandani/opt/anaconda3/envs/tensorflow/lib/python3.10/site-packages/tornado/platform/asyncio.py\", line 215, in start\n      self.asyncio_loop.run_forever()\n    File \"/Users/pratikhotchandani/opt/anaconda3/envs/tensorflow/lib/python3.10/asyncio/base_events.py\", line 603, in run_forever\n      self._run_once()\n    File \"/Users/pratikhotchandani/opt/anaconda3/envs/tensorflow/lib/python3.10/asyncio/base_events.py\", line 1906, in _run_once\n      handle._run()\n    File \"/Users/pratikhotchandani/opt/anaconda3/envs/tensorflow/lib/python3.10/asyncio/events.py\", line 80, in _run\n      self._context.run(self._callback, *self._args)\n    File \"/Users/pratikhotchandani/opt/anaconda3/envs/tensorflow/lib/python3.10/site-packages/ipykernel/kernelbase.py\", line 513, in dispatch_queue\n      await self.process_one()\n    File \"/Users/pratikhotchandani/opt/anaconda3/envs/tensorflow/lib/python3.10/site-packages/ipykernel/kernelbase.py\", line 502, in process_one\n      await dispatch(*args)\n    File \"/Users/pratikhotchandani/opt/anaconda3/envs/tensorflow/lib/python3.10/site-packages/ipykernel/kernelbase.py\", line 409, in dispatch_shell\n      await result\n    File \"/Users/pratikhotchandani/opt/anaconda3/envs/tensorflow/lib/python3.10/site-packages/ipykernel/kernelbase.py\", line 729, in execute_request\n      reply_content = await reply_content\n    File \"/Users/pratikhotchandani/opt/anaconda3/envs/tensorflow/lib/python3.10/site-packages/ipykernel/ipkernel.py\", line 422, in do_execute\n      res = shell.run_cell(\n    File \"/Users/pratikhotchandani/opt/anaconda3/envs/tensorflow/lib/python3.10/site-packages/ipykernel/zmqshell.py\", line 540, in run_cell\n      return super().run_cell(*args, **kwargs)\n    File \"/Users/pratikhotchandani/opt/anaconda3/envs/tensorflow/lib/python3.10/site-packages/IPython/core/interactiveshell.py\", line 2961, in run_cell\n      result = self._run_cell(\n    File \"/Users/pratikhotchandani/opt/anaconda3/envs/tensorflow/lib/python3.10/site-packages/IPython/core/interactiveshell.py\", line 3016, in _run_cell\n      result = runner(coro)\n    File \"/Users/pratikhotchandani/opt/anaconda3/envs/tensorflow/lib/python3.10/site-packages/IPython/core/async_helpers.py\", line 129, in _pseudo_sync_runner\n      coro.send(None)\n    File \"/Users/pratikhotchandani/opt/anaconda3/envs/tensorflow/lib/python3.10/site-packages/IPython/core/interactiveshell.py\", line 3221, in run_cell_async\n      has_raised = await self.run_ast_nodes(code_ast.body, cell_name,\n    File \"/Users/pratikhotchandani/opt/anaconda3/envs/tensorflow/lib/python3.10/site-packages/IPython/core/interactiveshell.py\", line 3400, in run_ast_nodes\n      if await self.run_code(code, result, async_=asy):\n    File \"/Users/pratikhotchandani/opt/anaconda3/envs/tensorflow/lib/python3.10/site-packages/IPython/core/interactiveshell.py\", line 3460, in run_code\n      exec(code_obj, self.user_global_ns, self.user_ns)\n    File \"/var/folders/dq/pg0mssxn6yzdwtcdrwnt0bs80000gn/T/ipykernel_34806/125144999.py\", line 1, in <module>\n      history_finalDNN = model.fit(x_train,y_train,\n    File \"/Users/pratikhotchandani/opt/anaconda3/envs/tensorflow/lib/python3.10/site-packages/keras/utils/traceback_utils.py\", line 64, in error_handler\n      return fn(*args, **kwargs)\n    File \"/Users/pratikhotchandani/opt/anaconda3/envs/tensorflow/lib/python3.10/site-packages/keras/engine/training.py\", line 1409, in fit\n      tmp_logs = self.train_function(iterator)\n    File \"/Users/pratikhotchandani/opt/anaconda3/envs/tensorflow/lib/python3.10/site-packages/keras/engine/training.py\", line 1051, in train_function\n      return step_function(self, iterator)\n    File \"/Users/pratikhotchandani/opt/anaconda3/envs/tensorflow/lib/python3.10/site-packages/keras/engine/training.py\", line 1040, in step_function\n      outputs = model.distribute_strategy.run(run_step, args=(data,))\n    File \"/Users/pratikhotchandani/opt/anaconda3/envs/tensorflow/lib/python3.10/site-packages/keras/engine/training.py\", line 1030, in run_step\n      outputs = model.train_step(data)\n    File \"/Users/pratikhotchandani/opt/anaconda3/envs/tensorflow/lib/python3.10/site-packages/keras/engine/training.py\", line 890, in train_step\n      loss = self.compute_loss(x, y, y_pred, sample_weight)\n    File \"/Users/pratikhotchandani/opt/anaconda3/envs/tensorflow/lib/python3.10/site-packages/keras/engine/training.py\", line 948, in compute_loss\n      return self.compiled_loss(\n    File \"/Users/pratikhotchandani/opt/anaconda3/envs/tensorflow/lib/python3.10/site-packages/keras/engine/compile_utils.py\", line 201, in __call__\n      loss_value = loss_obj(y_t, y_p, sample_weight=sw)\n    File \"/Users/pratikhotchandani/opt/anaconda3/envs/tensorflow/lib/python3.10/site-packages/keras/losses.py\", line 139, in __call__\n      losses = call_fn(y_true, y_pred)\n    File \"/Users/pratikhotchandani/opt/anaconda3/envs/tensorflow/lib/python3.10/site-packages/keras/losses.py\", line 243, in call\n      return ag_fn(y_true, y_pred, **self._fn_kwargs)\n    File \"/Users/pratikhotchandani/opt/anaconda3/envs/tensorflow/lib/python3.10/site-packages/keras/losses.py\", line 1860, in sparse_categorical_crossentropy\n      return backend.sparse_categorical_crossentropy(\n    File \"/Users/pratikhotchandani/opt/anaconda3/envs/tensorflow/lib/python3.10/site-packages/keras/backend.py\", line 5238, in sparse_categorical_crossentropy\n      res = tf.nn.sparse_softmax_cross_entropy_with_logits(\nNode: 'sparse_categorical_crossentropy/SparseSoftmaxCrossEntropyWithLogits/SparseSoftmaxCrossEntropyWithLogits'\nDetected at node 'sparse_categorical_crossentropy/SparseSoftmaxCrossEntropyWithLogits/SparseSoftmaxCrossEntropyWithLogits' defined at (most recent call last):\n    File \"/Users/pratikhotchandani/opt/anaconda3/envs/tensorflow/lib/python3.10/runpy.py\", line 196, in _run_module_as_main\n      return _run_code(code, main_globals, None,\n    File \"/Users/pratikhotchandani/opt/anaconda3/envs/tensorflow/lib/python3.10/runpy.py\", line 86, in _run_code\n      exec(code, run_globals)\n    File \"/Users/pratikhotchandani/opt/anaconda3/envs/tensorflow/lib/python3.10/site-packages/ipykernel_launcher.py\", line 17, in <module>\n      app.launch_new_instance()\n    File \"/Users/pratikhotchandani/opt/anaconda3/envs/tensorflow/lib/python3.10/site-packages/traitlets/config/application.py\", line 1043, in launch_instance\n      app.start()\n    File \"/Users/pratikhotchandani/opt/anaconda3/envs/tensorflow/lib/python3.10/site-packages/ipykernel/kernelapp.py\", line 725, in start\n      self.io_loop.start()\n    File \"/Users/pratikhotchandani/opt/anaconda3/envs/tensorflow/lib/python3.10/site-packages/tornado/platform/asyncio.py\", line 215, in start\n      self.asyncio_loop.run_forever()\n    File \"/Users/pratikhotchandani/opt/anaconda3/envs/tensorflow/lib/python3.10/asyncio/base_events.py\", line 603, in run_forever\n      self._run_once()\n    File \"/Users/pratikhotchandani/opt/anaconda3/envs/tensorflow/lib/python3.10/asyncio/base_events.py\", line 1906, in _run_once\n      handle._run()\n    File \"/Users/pratikhotchandani/opt/anaconda3/envs/tensorflow/lib/python3.10/asyncio/events.py\", line 80, in _run\n      self._context.run(self._callback, *self._args)\n    File \"/Users/pratikhotchandani/opt/anaconda3/envs/tensorflow/lib/python3.10/site-packages/ipykernel/kernelbase.py\", line 513, in dispatch_queue\n      await self.process_one()\n    File \"/Users/pratikhotchandani/opt/anaconda3/envs/tensorflow/lib/python3.10/site-packages/ipykernel/kernelbase.py\", line 502, in process_one\n      await dispatch(*args)\n    File \"/Users/pratikhotchandani/opt/anaconda3/envs/tensorflow/lib/python3.10/site-packages/ipykernel/kernelbase.py\", line 409, in dispatch_shell\n      await result\n    File \"/Users/pratikhotchandani/opt/anaconda3/envs/tensorflow/lib/python3.10/site-packages/ipykernel/kernelbase.py\", line 729, in execute_request\n      reply_content = await reply_content\n    File \"/Users/pratikhotchandani/opt/anaconda3/envs/tensorflow/lib/python3.10/site-packages/ipykernel/ipkernel.py\", line 422, in do_execute\n      res = shell.run_cell(\n    File \"/Users/pratikhotchandani/opt/anaconda3/envs/tensorflow/lib/python3.10/site-packages/ipykernel/zmqshell.py\", line 540, in run_cell\n      return super().run_cell(*args, **kwargs)\n    File \"/Users/pratikhotchandani/opt/anaconda3/envs/tensorflow/lib/python3.10/site-packages/IPython/core/interactiveshell.py\", line 2961, in run_cell\n      result = self._run_cell(\n    File \"/Users/pratikhotchandani/opt/anaconda3/envs/tensorflow/lib/python3.10/site-packages/IPython/core/interactiveshell.py\", line 3016, in _run_cell\n      result = runner(coro)\n    File \"/Users/pratikhotchandani/opt/anaconda3/envs/tensorflow/lib/python3.10/site-packages/IPython/core/async_helpers.py\", line 129, in _pseudo_sync_runner\n      coro.send(None)\n    File \"/Users/pratikhotchandani/opt/anaconda3/envs/tensorflow/lib/python3.10/site-packages/IPython/core/interactiveshell.py\", line 3221, in run_cell_async\n      has_raised = await self.run_ast_nodes(code_ast.body, cell_name,\n    File \"/Users/pratikhotchandani/opt/anaconda3/envs/tensorflow/lib/python3.10/site-packages/IPython/core/interactiveshell.py\", line 3400, in run_ast_nodes\n      if await self.run_code(code, result, async_=asy):\n    File \"/Users/pratikhotchandani/opt/anaconda3/envs/tensorflow/lib/python3.10/site-packages/IPython/core/interactiveshell.py\", line 3460, in run_code\n      exec(code_obj, self.user_global_ns, self.user_ns)\n    File \"/var/folders/dq/pg0mssxn6yzdwtcdrwnt0bs80000gn/T/ipykernel_34806/125144999.py\", line 1, in <module>\n      history_finalDNN = model.fit(x_train,y_train,\n    File \"/Users/pratikhotchandani/opt/anaconda3/envs/tensorflow/lib/python3.10/site-packages/keras/utils/traceback_utils.py\", line 64, in error_handler\n      return fn(*args, **kwargs)\n    File \"/Users/pratikhotchandani/opt/anaconda3/envs/tensorflow/lib/python3.10/site-packages/keras/engine/training.py\", line 1409, in fit\n      tmp_logs = self.train_function(iterator)\n    File \"/Users/pratikhotchandani/opt/anaconda3/envs/tensorflow/lib/python3.10/site-packages/keras/engine/training.py\", line 1051, in train_function\n      return step_function(self, iterator)\n    File \"/Users/pratikhotchandani/opt/anaconda3/envs/tensorflow/lib/python3.10/site-packages/keras/engine/training.py\", line 1040, in step_function\n      outputs = model.distribute_strategy.run(run_step, args=(data,))\n    File \"/Users/pratikhotchandani/opt/anaconda3/envs/tensorflow/lib/python3.10/site-packages/keras/engine/training.py\", line 1030, in run_step\n      outputs = model.train_step(data)\n    File \"/Users/pratikhotchandani/opt/anaconda3/envs/tensorflow/lib/python3.10/site-packages/keras/engine/training.py\", line 890, in train_step\n      loss = self.compute_loss(x, y, y_pred, sample_weight)\n    File \"/Users/pratikhotchandani/opt/anaconda3/envs/tensorflow/lib/python3.10/site-packages/keras/engine/training.py\", line 948, in compute_loss\n      return self.compiled_loss(\n    File \"/Users/pratikhotchandani/opt/anaconda3/envs/tensorflow/lib/python3.10/site-packages/keras/engine/compile_utils.py\", line 201, in __call__\n      loss_value = loss_obj(y_t, y_p, sample_weight=sw)\n    File \"/Users/pratikhotchandani/opt/anaconda3/envs/tensorflow/lib/python3.10/site-packages/keras/losses.py\", line 139, in __call__\n      losses = call_fn(y_true, y_pred)\n    File \"/Users/pratikhotchandani/opt/anaconda3/envs/tensorflow/lib/python3.10/site-packages/keras/losses.py\", line 243, in call\n      return ag_fn(y_true, y_pred, **self._fn_kwargs)\n    File \"/Users/pratikhotchandani/opt/anaconda3/envs/tensorflow/lib/python3.10/site-packages/keras/losses.py\", line 1860, in sparse_categorical_crossentropy\n      return backend.sparse_categorical_crossentropy(\n    File \"/Users/pratikhotchandani/opt/anaconda3/envs/tensorflow/lib/python3.10/site-packages/keras/backend.py\", line 5238, in sparse_categorical_crossentropy\n      res = tf.nn.sparse_softmax_cross_entropy_with_logits(\nNode: 'sparse_categorical_crossentropy/SparseSoftmaxCrossEntropyWithLogits/SparseSoftmaxCrossEntropyWithLogits'\n2 root error(s) found.\n  (0) INVALID_ARGUMENT:  logits and labels must have the same first dimension, got logits shape [32,10] and labels shape [320]\n\t [[{{node sparse_categorical_crossentropy/SparseSoftmaxCrossEntropyWithLogits/SparseSoftmaxCrossEntropyWithLogits}}]]\n\t [[gradient_tape/sequential_1/dense_4/MatMul/MatMul/_42]]\n  (1) INVALID_ARGUMENT:  logits and labels must have the same first dimension, got logits shape [32,10] and labels shape [320]\n\t [[{{node sparse_categorical_crossentropy/SparseSoftmaxCrossEntropyWithLogits/SparseSoftmaxCrossEntropyWithLogits}}]]\n0 successful operations.\n0 derived errors ignored. [Op:__inference_train_function_1104]",
     "output_type": "error",
     "traceback": [
      "\u001b[0;31m---------------------------------------------------------------------------\u001b[0m",
      "\u001b[0;31mInvalidArgumentError\u001b[0m                      Traceback (most recent call last)",
      "Cell \u001b[0;32mIn[15], line 1\u001b[0m\n\u001b[0;32m----> 1\u001b[0m history_finalDNN \u001b[38;5;241m=\u001b[39m \u001b[43mmodel\u001b[49m\u001b[38;5;241;43m.\u001b[39;49m\u001b[43mfit\u001b[49m\u001b[43m(\u001b[49m\u001b[43mx_train\u001b[49m\u001b[43m,\u001b[49m\u001b[43my_train\u001b[49m\u001b[43m,\u001b[49m\n\u001b[1;32m      2\u001b[0m \u001b[43m                          \u001b[49m\u001b[43mepochs\u001b[49m\u001b[38;5;241;43m=\u001b[39;49m\u001b[38;5;241;43m50\u001b[39;49m\u001b[43m,\u001b[49m\u001b[43mbatch_size\u001b[49m\u001b[38;5;241;43m=\u001b[39;49m\u001b[38;5;241;43m32\u001b[39;49m\u001b[43m,\u001b[49m\n\u001b[1;32m      3\u001b[0m \u001b[43m                          \u001b[49m\u001b[43mvalidation_data\u001b[49m\u001b[38;5;241;43m=\u001b[39;49m\u001b[43m(\u001b[49m\u001b[43mx_test\u001b[49m\u001b[43m,\u001b[49m\u001b[43my_test\u001b[49m\u001b[43m)\u001b[49m\u001b[43m,\u001b[49m\n\u001b[1;32m      4\u001b[0m \u001b[43m                          \u001b[49m\u001b[43mcallbacks\u001b[49m\u001b[38;5;241;43m=\u001b[39;49m\u001b[43m[\u001b[49m\u001b[43mlr_performanceScheduler\u001b[49m\u001b[43m,\u001b[49m\u001b[43m \u001b[49m\u001b[43mearly_stopping_cb\u001b[49m\u001b[43m]\u001b[49m\u001b[43m)\u001b[49m\n",
      "File \u001b[0;32m~/opt/anaconda3/envs/tensorflow/lib/python3.10/site-packages/keras/utils/traceback_utils.py:67\u001b[0m, in \u001b[0;36mfilter_traceback.<locals>.error_handler\u001b[0;34m(*args, **kwargs)\u001b[0m\n\u001b[1;32m     65\u001b[0m \u001b[38;5;28;01mexcept\u001b[39;00m \u001b[38;5;167;01mException\u001b[39;00m \u001b[38;5;28;01mas\u001b[39;00m e:  \u001b[38;5;66;03m# pylint: disable=broad-except\u001b[39;00m\n\u001b[1;32m     66\u001b[0m   filtered_tb \u001b[38;5;241m=\u001b[39m _process_traceback_frames(e\u001b[38;5;241m.\u001b[39m__traceback__)\n\u001b[0;32m---> 67\u001b[0m   \u001b[38;5;28;01mraise\u001b[39;00m e\u001b[38;5;241m.\u001b[39mwith_traceback(filtered_tb) \u001b[38;5;28;01mfrom\u001b[39;00m \u001b[38;5;28mNone\u001b[39m\n\u001b[1;32m     68\u001b[0m \u001b[38;5;28;01mfinally\u001b[39;00m:\n\u001b[1;32m     69\u001b[0m   \u001b[38;5;28;01mdel\u001b[39;00m filtered_tb\n",
      "File \u001b[0;32m~/opt/anaconda3/envs/tensorflow/lib/python3.10/site-packages/tensorflow/python/eager/execute.py:54\u001b[0m, in \u001b[0;36mquick_execute\u001b[0;34m(op_name, num_outputs, inputs, attrs, ctx, name)\u001b[0m\n\u001b[1;32m     52\u001b[0m \u001b[38;5;28;01mtry\u001b[39;00m:\n\u001b[1;32m     53\u001b[0m   ctx\u001b[38;5;241m.\u001b[39mensure_initialized()\n\u001b[0;32m---> 54\u001b[0m   tensors \u001b[38;5;241m=\u001b[39m pywrap_tfe\u001b[38;5;241m.\u001b[39mTFE_Py_Execute(ctx\u001b[38;5;241m.\u001b[39m_handle, device_name, op_name,\n\u001b[1;32m     55\u001b[0m                                       inputs, attrs, num_outputs)\n\u001b[1;32m     56\u001b[0m \u001b[38;5;28;01mexcept\u001b[39;00m core\u001b[38;5;241m.\u001b[39m_NotOkStatusException \u001b[38;5;28;01mas\u001b[39;00m e:\n\u001b[1;32m     57\u001b[0m   \u001b[38;5;28;01mif\u001b[39;00m name \u001b[38;5;129;01mis\u001b[39;00m \u001b[38;5;129;01mnot\u001b[39;00m \u001b[38;5;28;01mNone\u001b[39;00m:\n",
      "\u001b[0;31mInvalidArgumentError\u001b[0m: Graph execution error:\n\nDetected at node 'sparse_categorical_crossentropy/SparseSoftmaxCrossEntropyWithLogits/SparseSoftmaxCrossEntropyWithLogits' defined at (most recent call last):\n    File \"/Users/pratikhotchandani/opt/anaconda3/envs/tensorflow/lib/python3.10/runpy.py\", line 196, in _run_module_as_main\n      return _run_code(code, main_globals, None,\n    File \"/Users/pratikhotchandani/opt/anaconda3/envs/tensorflow/lib/python3.10/runpy.py\", line 86, in _run_code\n      exec(code, run_globals)\n    File \"/Users/pratikhotchandani/opt/anaconda3/envs/tensorflow/lib/python3.10/site-packages/ipykernel_launcher.py\", line 17, in <module>\n      app.launch_new_instance()\n    File \"/Users/pratikhotchandani/opt/anaconda3/envs/tensorflow/lib/python3.10/site-packages/traitlets/config/application.py\", line 1043, in launch_instance\n      app.start()\n    File \"/Users/pratikhotchandani/opt/anaconda3/envs/tensorflow/lib/python3.10/site-packages/ipykernel/kernelapp.py\", line 725, in start\n      self.io_loop.start()\n    File \"/Users/pratikhotchandani/opt/anaconda3/envs/tensorflow/lib/python3.10/site-packages/tornado/platform/asyncio.py\", line 215, in start\n      self.asyncio_loop.run_forever()\n    File \"/Users/pratikhotchandani/opt/anaconda3/envs/tensorflow/lib/python3.10/asyncio/base_events.py\", line 603, in run_forever\n      self._run_once()\n    File \"/Users/pratikhotchandani/opt/anaconda3/envs/tensorflow/lib/python3.10/asyncio/base_events.py\", line 1906, in _run_once\n      handle._run()\n    File \"/Users/pratikhotchandani/opt/anaconda3/envs/tensorflow/lib/python3.10/asyncio/events.py\", line 80, in _run\n      self._context.run(self._callback, *self._args)\n    File \"/Users/pratikhotchandani/opt/anaconda3/envs/tensorflow/lib/python3.10/site-packages/ipykernel/kernelbase.py\", line 513, in dispatch_queue\n      await self.process_one()\n    File \"/Users/pratikhotchandani/opt/anaconda3/envs/tensorflow/lib/python3.10/site-packages/ipykernel/kernelbase.py\", line 502, in process_one\n      await dispatch(*args)\n    File \"/Users/pratikhotchandani/opt/anaconda3/envs/tensorflow/lib/python3.10/site-packages/ipykernel/kernelbase.py\", line 409, in dispatch_shell\n      await result\n    File \"/Users/pratikhotchandani/opt/anaconda3/envs/tensorflow/lib/python3.10/site-packages/ipykernel/kernelbase.py\", line 729, in execute_request\n      reply_content = await reply_content\n    File \"/Users/pratikhotchandani/opt/anaconda3/envs/tensorflow/lib/python3.10/site-packages/ipykernel/ipkernel.py\", line 422, in do_execute\n      res = shell.run_cell(\n    File \"/Users/pratikhotchandani/opt/anaconda3/envs/tensorflow/lib/python3.10/site-packages/ipykernel/zmqshell.py\", line 540, in run_cell\n      return super().run_cell(*args, **kwargs)\n    File \"/Users/pratikhotchandani/opt/anaconda3/envs/tensorflow/lib/python3.10/site-packages/IPython/core/interactiveshell.py\", line 2961, in run_cell\n      result = self._run_cell(\n    File \"/Users/pratikhotchandani/opt/anaconda3/envs/tensorflow/lib/python3.10/site-packages/IPython/core/interactiveshell.py\", line 3016, in _run_cell\n      result = runner(coro)\n    File \"/Users/pratikhotchandani/opt/anaconda3/envs/tensorflow/lib/python3.10/site-packages/IPython/core/async_helpers.py\", line 129, in _pseudo_sync_runner\n      coro.send(None)\n    File \"/Users/pratikhotchandani/opt/anaconda3/envs/tensorflow/lib/python3.10/site-packages/IPython/core/interactiveshell.py\", line 3221, in run_cell_async\n      has_raised = await self.run_ast_nodes(code_ast.body, cell_name,\n    File \"/Users/pratikhotchandani/opt/anaconda3/envs/tensorflow/lib/python3.10/site-packages/IPython/core/interactiveshell.py\", line 3400, in run_ast_nodes\n      if await self.run_code(code, result, async_=asy):\n    File \"/Users/pratikhotchandani/opt/anaconda3/envs/tensorflow/lib/python3.10/site-packages/IPython/core/interactiveshell.py\", line 3460, in run_code\n      exec(code_obj, self.user_global_ns, self.user_ns)\n    File \"/var/folders/dq/pg0mssxn6yzdwtcdrwnt0bs80000gn/T/ipykernel_34806/125144999.py\", line 1, in <module>\n      history_finalDNN = model.fit(x_train,y_train,\n    File \"/Users/pratikhotchandani/opt/anaconda3/envs/tensorflow/lib/python3.10/site-packages/keras/utils/traceback_utils.py\", line 64, in error_handler\n      return fn(*args, **kwargs)\n    File \"/Users/pratikhotchandani/opt/anaconda3/envs/tensorflow/lib/python3.10/site-packages/keras/engine/training.py\", line 1409, in fit\n      tmp_logs = self.train_function(iterator)\n    File \"/Users/pratikhotchandani/opt/anaconda3/envs/tensorflow/lib/python3.10/site-packages/keras/engine/training.py\", line 1051, in train_function\n      return step_function(self, iterator)\n    File \"/Users/pratikhotchandani/opt/anaconda3/envs/tensorflow/lib/python3.10/site-packages/keras/engine/training.py\", line 1040, in step_function\n      outputs = model.distribute_strategy.run(run_step, args=(data,))\n    File \"/Users/pratikhotchandani/opt/anaconda3/envs/tensorflow/lib/python3.10/site-packages/keras/engine/training.py\", line 1030, in run_step\n      outputs = model.train_step(data)\n    File \"/Users/pratikhotchandani/opt/anaconda3/envs/tensorflow/lib/python3.10/site-packages/keras/engine/training.py\", line 890, in train_step\n      loss = self.compute_loss(x, y, y_pred, sample_weight)\n    File \"/Users/pratikhotchandani/opt/anaconda3/envs/tensorflow/lib/python3.10/site-packages/keras/engine/training.py\", line 948, in compute_loss\n      return self.compiled_loss(\n    File \"/Users/pratikhotchandani/opt/anaconda3/envs/tensorflow/lib/python3.10/site-packages/keras/engine/compile_utils.py\", line 201, in __call__\n      loss_value = loss_obj(y_t, y_p, sample_weight=sw)\n    File \"/Users/pratikhotchandani/opt/anaconda3/envs/tensorflow/lib/python3.10/site-packages/keras/losses.py\", line 139, in __call__\n      losses = call_fn(y_true, y_pred)\n    File \"/Users/pratikhotchandani/opt/anaconda3/envs/tensorflow/lib/python3.10/site-packages/keras/losses.py\", line 243, in call\n      return ag_fn(y_true, y_pred, **self._fn_kwargs)\n    File \"/Users/pratikhotchandani/opt/anaconda3/envs/tensorflow/lib/python3.10/site-packages/keras/losses.py\", line 1860, in sparse_categorical_crossentropy\n      return backend.sparse_categorical_crossentropy(\n    File \"/Users/pratikhotchandani/opt/anaconda3/envs/tensorflow/lib/python3.10/site-packages/keras/backend.py\", line 5238, in sparse_categorical_crossentropy\n      res = tf.nn.sparse_softmax_cross_entropy_with_logits(\nNode: 'sparse_categorical_crossentropy/SparseSoftmaxCrossEntropyWithLogits/SparseSoftmaxCrossEntropyWithLogits'\nDetected at node 'sparse_categorical_crossentropy/SparseSoftmaxCrossEntropyWithLogits/SparseSoftmaxCrossEntropyWithLogits' defined at (most recent call last):\n    File \"/Users/pratikhotchandani/opt/anaconda3/envs/tensorflow/lib/python3.10/runpy.py\", line 196, in _run_module_as_main\n      return _run_code(code, main_globals, None,\n    File \"/Users/pratikhotchandani/opt/anaconda3/envs/tensorflow/lib/python3.10/runpy.py\", line 86, in _run_code\n      exec(code, run_globals)\n    File \"/Users/pratikhotchandani/opt/anaconda3/envs/tensorflow/lib/python3.10/site-packages/ipykernel_launcher.py\", line 17, in <module>\n      app.launch_new_instance()\n    File \"/Users/pratikhotchandani/opt/anaconda3/envs/tensorflow/lib/python3.10/site-packages/traitlets/config/application.py\", line 1043, in launch_instance\n      app.start()\n    File \"/Users/pratikhotchandani/opt/anaconda3/envs/tensorflow/lib/python3.10/site-packages/ipykernel/kernelapp.py\", line 725, in start\n      self.io_loop.start()\n    File \"/Users/pratikhotchandani/opt/anaconda3/envs/tensorflow/lib/python3.10/site-packages/tornado/platform/asyncio.py\", line 215, in start\n      self.asyncio_loop.run_forever()\n    File \"/Users/pratikhotchandani/opt/anaconda3/envs/tensorflow/lib/python3.10/asyncio/base_events.py\", line 603, in run_forever\n      self._run_once()\n    File \"/Users/pratikhotchandani/opt/anaconda3/envs/tensorflow/lib/python3.10/asyncio/base_events.py\", line 1906, in _run_once\n      handle._run()\n    File \"/Users/pratikhotchandani/opt/anaconda3/envs/tensorflow/lib/python3.10/asyncio/events.py\", line 80, in _run\n      self._context.run(self._callback, *self._args)\n    File \"/Users/pratikhotchandani/opt/anaconda3/envs/tensorflow/lib/python3.10/site-packages/ipykernel/kernelbase.py\", line 513, in dispatch_queue\n      await self.process_one()\n    File \"/Users/pratikhotchandani/opt/anaconda3/envs/tensorflow/lib/python3.10/site-packages/ipykernel/kernelbase.py\", line 502, in process_one\n      await dispatch(*args)\n    File \"/Users/pratikhotchandani/opt/anaconda3/envs/tensorflow/lib/python3.10/site-packages/ipykernel/kernelbase.py\", line 409, in dispatch_shell\n      await result\n    File \"/Users/pratikhotchandani/opt/anaconda3/envs/tensorflow/lib/python3.10/site-packages/ipykernel/kernelbase.py\", line 729, in execute_request\n      reply_content = await reply_content\n    File \"/Users/pratikhotchandani/opt/anaconda3/envs/tensorflow/lib/python3.10/site-packages/ipykernel/ipkernel.py\", line 422, in do_execute\n      res = shell.run_cell(\n    File \"/Users/pratikhotchandani/opt/anaconda3/envs/tensorflow/lib/python3.10/site-packages/ipykernel/zmqshell.py\", line 540, in run_cell\n      return super().run_cell(*args, **kwargs)\n    File \"/Users/pratikhotchandani/opt/anaconda3/envs/tensorflow/lib/python3.10/site-packages/IPython/core/interactiveshell.py\", line 2961, in run_cell\n      result = self._run_cell(\n    File \"/Users/pratikhotchandani/opt/anaconda3/envs/tensorflow/lib/python3.10/site-packages/IPython/core/interactiveshell.py\", line 3016, in _run_cell\n      result = runner(coro)\n    File \"/Users/pratikhotchandani/opt/anaconda3/envs/tensorflow/lib/python3.10/site-packages/IPython/core/async_helpers.py\", line 129, in _pseudo_sync_runner\n      coro.send(None)\n    File \"/Users/pratikhotchandani/opt/anaconda3/envs/tensorflow/lib/python3.10/site-packages/IPython/core/interactiveshell.py\", line 3221, in run_cell_async\n      has_raised = await self.run_ast_nodes(code_ast.body, cell_name,\n    File \"/Users/pratikhotchandani/opt/anaconda3/envs/tensorflow/lib/python3.10/site-packages/IPython/core/interactiveshell.py\", line 3400, in run_ast_nodes\n      if await self.run_code(code, result, async_=asy):\n    File \"/Users/pratikhotchandani/opt/anaconda3/envs/tensorflow/lib/python3.10/site-packages/IPython/core/interactiveshell.py\", line 3460, in run_code\n      exec(code_obj, self.user_global_ns, self.user_ns)\n    File \"/var/folders/dq/pg0mssxn6yzdwtcdrwnt0bs80000gn/T/ipykernel_34806/125144999.py\", line 1, in <module>\n      history_finalDNN = model.fit(x_train,y_train,\n    File \"/Users/pratikhotchandani/opt/anaconda3/envs/tensorflow/lib/python3.10/site-packages/keras/utils/traceback_utils.py\", line 64, in error_handler\n      return fn(*args, **kwargs)\n    File \"/Users/pratikhotchandani/opt/anaconda3/envs/tensorflow/lib/python3.10/site-packages/keras/engine/training.py\", line 1409, in fit\n      tmp_logs = self.train_function(iterator)\n    File \"/Users/pratikhotchandani/opt/anaconda3/envs/tensorflow/lib/python3.10/site-packages/keras/engine/training.py\", line 1051, in train_function\n      return step_function(self, iterator)\n    File \"/Users/pratikhotchandani/opt/anaconda3/envs/tensorflow/lib/python3.10/site-packages/keras/engine/training.py\", line 1040, in step_function\n      outputs = model.distribute_strategy.run(run_step, args=(data,))\n    File \"/Users/pratikhotchandani/opt/anaconda3/envs/tensorflow/lib/python3.10/site-packages/keras/engine/training.py\", line 1030, in run_step\n      outputs = model.train_step(data)\n    File \"/Users/pratikhotchandani/opt/anaconda3/envs/tensorflow/lib/python3.10/site-packages/keras/engine/training.py\", line 890, in train_step\n      loss = self.compute_loss(x, y, y_pred, sample_weight)\n    File \"/Users/pratikhotchandani/opt/anaconda3/envs/tensorflow/lib/python3.10/site-packages/keras/engine/training.py\", line 948, in compute_loss\n      return self.compiled_loss(\n    File \"/Users/pratikhotchandani/opt/anaconda3/envs/tensorflow/lib/python3.10/site-packages/keras/engine/compile_utils.py\", line 201, in __call__\n      loss_value = loss_obj(y_t, y_p, sample_weight=sw)\n    File \"/Users/pratikhotchandani/opt/anaconda3/envs/tensorflow/lib/python3.10/site-packages/keras/losses.py\", line 139, in __call__\n      losses = call_fn(y_true, y_pred)\n    File \"/Users/pratikhotchandani/opt/anaconda3/envs/tensorflow/lib/python3.10/site-packages/keras/losses.py\", line 243, in call\n      return ag_fn(y_true, y_pred, **self._fn_kwargs)\n    File \"/Users/pratikhotchandani/opt/anaconda3/envs/tensorflow/lib/python3.10/site-packages/keras/losses.py\", line 1860, in sparse_categorical_crossentropy\n      return backend.sparse_categorical_crossentropy(\n    File \"/Users/pratikhotchandani/opt/anaconda3/envs/tensorflow/lib/python3.10/site-packages/keras/backend.py\", line 5238, in sparse_categorical_crossentropy\n      res = tf.nn.sparse_softmax_cross_entropy_with_logits(\nNode: 'sparse_categorical_crossentropy/SparseSoftmaxCrossEntropyWithLogits/SparseSoftmaxCrossEntropyWithLogits'\n2 root error(s) found.\n  (0) INVALID_ARGUMENT:  logits and labels must have the same first dimension, got logits shape [32,10] and labels shape [320]\n\t [[{{node sparse_categorical_crossentropy/SparseSoftmaxCrossEntropyWithLogits/SparseSoftmaxCrossEntropyWithLogits}}]]\n\t [[gradient_tape/sequential_1/dense_4/MatMul/MatMul/_42]]\n  (1) INVALID_ARGUMENT:  logits and labels must have the same first dimension, got logits shape [32,10] and labels shape [320]\n\t [[{{node sparse_categorical_crossentropy/SparseSoftmaxCrossEntropyWithLogits/SparseSoftmaxCrossEntropyWithLogits}}]]\n0 successful operations.\n0 derived errors ignored. [Op:__inference_train_function_1104]"
     ]
    }
   ],
   "source": [
    "history_finalDNN = model.fit(x_train,y_train,\n",
    "                          epochs=50,batch_size=32,\n",
    "                          validation_data=(x_test,y_test),\n",
    "                          callbacks=[lr_performanceScheduler, early_stopping_cb])"
   ]
  },
  {
   "cell_type": "code",
   "execution_count": null,
   "id": "c3b698c1",
   "metadata": {},
   "outputs": [],
   "source": []
  }
 ],
 "metadata": {
  "kernelspec": {
   "display_name": "Python 3.10 (tensorflow)",
   "language": "python",
   "name": "tensorflow"
  },
  "language_info": {
   "codemirror_mode": {
    "name": "ipython",
    "version": 3
   },
   "file_extension": ".py",
   "mimetype": "text/x-python",
   "name": "python",
   "nbconvert_exporter": "python",
   "pygments_lexer": "ipython3",
   "version": "3.10.9"
  }
 },
 "nbformat": 4,
 "nbformat_minor": 5
}
