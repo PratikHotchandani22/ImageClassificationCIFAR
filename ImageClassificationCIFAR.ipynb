{
  "cells": [
    {
      "cell_type": "markdown",
      "id": "a038bde7",
      "metadata": {
        "id": "a038bde7"
      },
      "source": [
        "### 1. Loading necessary dependencies"
      ]
    },
    {
      "cell_type": "code",
      "execution_count": null,
      "id": "38ca5967",
      "metadata": {
        "id": "38ca5967"
      },
      "outputs": [],
      "source": [
        "import pandas as pd\n",
        "import numpy as np\n",
        "import matplotlib.pyplot as plt\n",
        "import tensorflow as tf\n",
        "from sklearn.linear_model import LogisticRegression\n",
        "from keras.models import Sequential\n",
        "from tensorflow.keras.layers import InputLayer\n",
        "from keras.layers import Dense, Flatten\n",
        "from sklearn.svm import SVC\n",
        "from sklearn.metrics import accuracy_score\n",
        "import keras\n",
        "from keras.datasets import cifar10\n",
        "\n",
        "from sklearn.metrics import classification_report,confusion_matrix\n",
        "from tensorflow.keras.preprocessing.image import ImageDataGenerator\n",
        "\n",
        "from keras.models import Sequential\n",
        "from keras.layers import Dense, Activation, Flatten, Conv2D, MaxPooling2D, Dropout\n",
        "\n",
        "from keras.regularizers import l1, l2\n",
        "from tensorflow.keras.layers import LeakyReLU\n"
      ]
    },
    {
      "cell_type": "markdown",
      "id": "d272ddc4",
      "metadata": {
        "id": "d272ddc4"
      },
      "source": [
        "### 2. Loading CIFAR-10 dataset"
      ]
    },
    {
      "cell_type": "code",
      "execution_count": null,
      "id": "bf40f08c",
      "metadata": {
        "colab": {
          "base_uri": "https://localhost:8080/"
        },
        "id": "bf40f08c",
        "outputId": "439928fa-7ba4-4d93-8988-63d6973e3359"
      },
      "outputs": [
        {
          "output_type": "stream",
          "name": "stdout",
          "text": [
            "Downloading data from https://www.cs.toronto.edu/~kriz/cifar-10-python.tar.gz\n",
            "170498071/170498071 [==============================] - 13s 0us/step\n",
            "x_train shape: (50000, 32, 32, 3)\n",
            "50000 train samples\n",
            "10000 test samples\n"
          ]
        }
      ],
      "source": [
        "# define num_class\n",
        "num_classes = 10\n",
        "\n",
        "# load dataset keras will download cifar-10 datset\n",
        "(x_train, y_train), (x_test, y_test) = cifar10.load_data()  \n",
        "\n",
        "print('x_train shape:', x_train.shape)\n",
        "print(x_train.shape[0], 'train samples')\n",
        "print(x_test.shape[0], 'test samples')\n"
      ]
    },
    {
      "cell_type": "markdown",
      "id": "c087e5ad",
      "metadata": {
        "id": "c087e5ad"
      },
      "source": [
        "### 3. Data preprocessing"
      ]
    },
    {
      "cell_type": "markdown",
      "id": "9fb5610f",
      "metadata": {
        "id": "9fb5610f"
      },
      "source": [
        "The reason we need to convert class vectors to binary class matrices when using categorical crossentropy loss function is because the loss function requires the ground truth labels to be in a one-hot encoding format.\n",
        "\n",
        "In other words, the categorical crossentropy loss function compares the predicted probabilities for each class with a one-hot encoding of the true class labels. The one-hot encoding is a binary vector where each element corresponds to a possible class and has a value of either 0 or 1, indicating whether the sample belongs to that class or not."
      ]
    },
    {
      "cell_type": "code",
      "execution_count": null,
      "id": "182f07a9",
      "metadata": {
        "id": "182f07a9"
      },
      "outputs": [],
      "source": [
        "# Converting class vectors to binary class matrices.\n",
        "y_train = keras.utils.np_utils.to_categorical(y_train, num_classes)\n",
        "y_test = keras.utils.np_utils.to_categorical(y_test, num_classes)"
      ]
    },
    {
      "cell_type": "markdown",
      "id": "7e74317c",
      "metadata": {
        "id": "7e74317c"
      },
      "source": [
        "Normalizing pixel values between 0 and 1 is a common preprocessing step in deep learning, especially for image classification tasks. This is because it can help improve the performance and stability of the model by ensuring that the input data has a similar scale and range."
      ]
    },
    {
      "cell_type": "code",
      "execution_count": null,
      "id": "758ce4ac",
      "metadata": {
        "id": "758ce4ac"
      },
      "outputs": [],
      "source": [
        "x_train = x_train.astype('float32') / 255.0\n",
        "x_test = x_test.astype('float32') / 255.0"
      ]
    },
    {
      "cell_type": "markdown",
      "id": "3e6da886",
      "metadata": {
        "id": "3e6da886"
      },
      "source": [
        "### 4. Exploratory Data Analysis"
      ]
    },
    {
      "cell_type": "code",
      "execution_count": null,
      "id": "357fdac2",
      "metadata": {
        "colab": {
          "base_uri": "https://localhost:8080/"
        },
        "id": "357fdac2",
        "outputId": "30f8c99f-7ef4-404a-9267-731d420bd41f"
      },
      "outputs": [
        {
          "output_type": "execute_result",
          "data": {
            "text/plain": [
              "((50000, 1), (10000, 1))"
            ]
          },
          "metadata": {},
          "execution_count": 4
        }
      ],
      "source": [
        "# Y-Train and Y-Test dataset\n",
        "y_train.shape,y_test.shape"
      ]
    },
    {
      "cell_type": "code",
      "execution_count": null,
      "id": "0ca090a1",
      "metadata": {
        "colab": {
          "base_uri": "https://localhost:8080/",
          "height": 448
        },
        "id": "0ca090a1",
        "outputId": "0f48029e-2081-45dc-eb76-bdc94dc1999c"
      },
      "outputs": [
        {
          "output_type": "execute_result",
          "data": {
            "text/plain": [
              "<matplotlib.image.AxesImage at 0x7fd70143eee0>"
            ]
          },
          "metadata": {},
          "execution_count": 5
        },
        {
          "output_type": "display_data",
          "data": {
            "text/plain": [
              "<Figure size 640x480 with 1 Axes>"
            ],
            "image/png": "[encoded data removed]"
          },
          "metadata": {}
        }
      ],
      "source": [
        "# Let's try to plot the image from the pixel values of x_train dataset.\n",
        "plt.imshow(x_train[55])"
      ]
    },
    {
      "cell_type": "markdown",
      "id": "1061f0a8",
      "metadata": {
        "id": "1061f0a8"
      },
      "source": [
        "Finding the total number of images for each class:"
      ]
    },
    {
      "cell_type": "code",
      "execution_count": null,
      "id": "9e02a431",
      "metadata": {
        "colab": {
          "base_uri": "https://localhost:8080/"
        },
        "id": "9e02a431",
        "outputId": "0ec9fd4b-6180-40f5-8842-b81a4e4f7568"
      },
      "outputs": [
        {
          "output_type": "stream",
          "name": "stdout",
          "text": [
            "Number of samples for Airplane class are : 6137\n",
            "Number of samples for Automobile class are : 6108\n",
            "Number of samples for Bird class are : 6144\n",
            "Number of samples for Cat class are : 6144\n",
            "Number of samples for Deer class are : 6133\n",
            "Number of samples for Dog class are : 6142\n",
            "Number of samples for Frog class are : 6139\n",
            "Number of samples for Horse class are : 6144\n",
            "Number of samples for Ship class are : 6144\n",
            "Number of samples for Truck class are : 6144\n"
          ]
        }
      ],
      "source": [
        "# set names to the classes \n",
        "names = ['Airplane','Automobile','Bird','Cat','Deer',\n",
        "               'Dog','Frog','Horse','Ship','Truck']\n",
        "\n",
        "# see the number of images in each class\n",
        "for i in range(10):\n",
        "    print(f'Number of samples for {names[i]} class are : {np.count_nonzero(x_train[i]) + np.count_nonzero(x_test[i])}')"
      ]
    },
    {
      "cell_type": "code",
      "execution_count": null,
      "id": "2d2dd986",
      "metadata": {
        "colab": {
          "base_uri": "https://localhost:8080/",
          "height": 507
        },
        "id": "2d2dd986",
        "outputId": "92da03a1-fa5f-4e46-b412-0a75c5324536"
      },
      "outputs": [
        {
          "output_type": "display_data",
          "data": {
            "text/plain": [
              "<Figure size 1200x1000 with 12 Axes>"
            ],
            "image/png": "[encoded data removed]"
          },
          "metadata": {}
        }
      ],
      "source": [
        "# Some photos with its labels\n",
        "plt.figure(figsize=(12,10))\n",
        "for i in range(12):\n",
        "    plt.subplot(5,4,i+1)\n",
        "    plt.xticks([])\n",
        "    plt.yticks([])\n",
        "    plt.imshow(x_train[i])\n",
        "    plt.xlabel(names[y_train[i][0]])"
      ]
    },
    {
      "cell_type": "markdown",
      "id": "e5a280fb",
      "metadata": {
        "id": "e5a280fb"
      },
      "source": [
        "To solve the classification problem of CIFAR-10 dataset, there are several methods that we can use, such as:\n",
        "\n",
        "1. Logistic Regression\n",
        "2. Support Vector Machine (SVM) w/ kernel\n",
        "3. SVM w/o kernel\n",
        "4. Deep Neural Network (DNN) w/ Convolution Layer (CNN)\n",
        "5. DNN w/o convolution layer\n",
        "\n",
        "For this project, I have used two methods.\n",
        "\n",
        "a] DNN without convolution layer.\n",
        "b] DNN with convolution layer."
      ]
    },
    {
      "cell_type": "markdown",
      "id": "845bce1a",
      "metadata": {
        "id": "845bce1a"
      },
      "source": [
        "For both of these methods, we will develop multiple models with different layer structures and different hyperparameters.\n",
        "\n",
        "To compare which model is better, we will plot accuracy and loss plots."
      ]
    },
    {
      "cell_type": "markdown",
      "id": "ad5373f4",
      "metadata": {
        "id": "ad5373f4"
      },
      "source": [
        "### 5. Building Models"
      ]
    },
    {
      "cell_type": "markdown",
      "id": "a890a05d",
      "metadata": {
        "id": "a890a05d"
      },
      "source": [
        "### Method 1 - Deep Neural Network Without Convolution layer\n",
        "\n",
        "Deep neural networks (DNNs) without convolution layers can be used for image classification tasks, but their performance may not be as good as those with convolutional layers. Convolutional layers are specifically designed to extract spatial features from images, which is crucial for image classification.\n",
        "\n",
        "However, there may be some scenarios where using DNNs without convolution layers could be useful. For example, if the images being classified have very low resolution or are very small, the use of convolutional layers may not be as effective. In these cases, a DNN without convolutional layers may be a more appropriate choice.\n",
        "\n",
        "Additionally, using DNNs without convolution layers could be beneficial if the dataset being used for classification has very limited training data. DNNs without convolutional layers tend to have fewer parameters than their convolutional counterparts, making them less prone to overfitting when training data is limited.\n",
        "\n",
        "Overall, while using DNNs without convolution layers for image classification tasks may be feasible in some scenarios, it is important to consider the specific characteristics of the dataset and the images being classified before deciding on the best approach."
      ]
    },
    {
      "cell_type": "markdown",
      "id": "98dbf09b",
      "metadata": {
        "id": "98dbf09b"
      },
      "source": [
        "#### Model_1\n",
        "1 input flatten layer, 3 hidden layers and 1 output layer using softmax activation function."
      ]
    },
    {
      "cell_type": "code",
      "execution_count": null,
      "id": "a17c6d8e",
      "metadata": {
        "id": "a17c6d8e"
      },
      "outputs": [],
      "source": [
        "# Designing the layer architecture of the DNN model\n",
        "LAYERS = [\n",
        "          tf.keras.layers.Flatten(input_shape=[32, 32,3], name=\"inputLayer\"),\n",
        "          tf.keras.layers.Dense(300, activation=\"relu\", name=\"hiddenLayer1\"),\n",
        "          tf.keras.layers.Dense(200, activation=\"relu\", name=\"hiddenLayer2\"),\n",
        "          tf.keras.layers.Dense(100, activation=\"relu\", name=\"hiddenLayer3\"),\n",
        "          tf.keras.layers.Dense(10, activation=\"softmax\", name=\"outputLayer\"),\n",
        "]"
      ]
    },
    {
      "cell_type": "code",
      "execution_count": null,
      "id": "24b33610",
      "metadata": {
        "id": "24b33610"
      },
      "outputs": [],
      "source": [
        "# creating model object using the sequential Api of keras.\n",
        "model_DNN1 = tf.keras.models.Sequential(LAYERS)"
      ]
    },
    {
      "cell_type": "code",
      "execution_count": null,
      "id": "4e8aa4e3",
      "metadata": {
        "colab": {
          "base_uri": "https://localhost:8080/"
        },
        "id": "4e8aa4e3",
        "outputId": "f6ca71f8-87ec-4097-d014-d5e49575826e"
      },
      "outputs": [
        {
          "output_type": "stream",
          "name": "stdout",
          "text": [
            "Model: \"sequential_9\"\n",
            "_________________________________________________________________\n",
            " Layer (type)                Output Shape              Param #   \n",
            "=================================================================\n",
            " inputLayer (Flatten)        (None, 3072)              0         \n",
            "                                                                 \n",
            " hiddenLayer1 (Dense)        (None, 300)               921900    \n",
            "                                                                 \n",
            " hiddenLayer2 (Dense)        (None, 200)               60200     \n",
            "                                                                 \n",
            " hiddenLayer3 (Dense)        (None, 100)               20100     \n",
            "                                                                 \n",
            " outputLayer (Dense)         (None, 10)                1010      \n",
            "                                                                 \n",
            "=================================================================\n",
            "Total params: 1,003,210\n",
            "Trainable params: 1,003,210\n",
            "Non-trainable params: 0\n",
            "_________________________________________________________________\n"
          ]
        }
      ],
      "source": [
        "# The summary function helps to visualize the output shape for each layer and also the total number of parameters to be trained (weights + bias)\n",
        "model_DNN1.summary()"
      ]
    },
    {
      "cell_type": "markdown",
      "id": "f5b5e83f",
      "metadata": {
        "id": "f5b5e83f"
      },
      "source": [
        "We use accuracy, precision, and recall as metrics after each epoch in deep neural networks (DNNs) to evaluate the performance of the model and monitor its progress during training.\n",
        "\n",
        "Accuracy measures the proportion of correctly classified examples out of the total number of examples. It gives an overall picture of how well the model is performing and is useful for balanced datasets where the classes are roughly equally represented.\n",
        "\n",
        "Precision measures the proportion of true positives (correctly predicted positives) out of the total number of positive predictions. It is useful when we want to minimize false positives, such as in medical diagnosis where a false positive result could lead to unnecessary medical procedures.\n",
        "\n",
        "Recall measures the proportion of true positives out of the total number of actual positives. It is useful when we want to minimize false negatives, such as in fraud detection where a false negative result could lead to financial losses.\n",
        "\n",
        "Together, accuracy, precision, and recall provide a comprehensive view of the model's performance in terms of both correct and incorrect classifications. By monitoring these metrics after each epoch during training, we can identify potential issues such as overfitting, underfitting, or class imbalance, and make adjustments to the model or training process accordingly."
      ]
    },
    {
      "cell_type": "code",
      "execution_count": null,
      "id": "813b87b2",
      "metadata": {
        "id": "813b87b2"
      },
      "outputs": [],
      "source": [
        "METRICS = [\n",
        "    'accuracy',\n",
        "    tf.keras.metrics.Precision(name='precision'),\n",
        "    tf.keras.metrics.Recall(name='recall')\n",
        "]"
      ]
    },
    {
      "cell_type": "markdown",
      "id": "c9ca5d8e",
      "metadata": {
        "id": "c9ca5d8e"
      },
      "source": [
        "Adam is an optimization algorithm that can be used instead of the classical stochastic gradient descent procedure to update network weights iterative based in training data.\n",
        "\n",
        "\"categorical_crossentropy\" is Used as a loss function for multi-class classification model where there are two or more output labels. The output label is assigned one-hot category encoding value in form of 0s and 1."
      ]
    },
    {
      "cell_type": "code",
      "execution_count": null,
      "id": "e396c3ab",
      "metadata": {
        "id": "e396c3ab"
      },
      "outputs": [],
      "source": [
        "model_DNN1.compile(optimizer='adam', loss='categorical_crossentropy', metrics=METRICS)"
      ]
    },
    {
      "cell_type": "markdown",
      "id": "dc464926",
      "metadata": {
        "id": "dc464926"
      },
      "source": [
        "The number of epochs is a hyperparameter that defines the number times that the learning algorithm will work through the entire training dataset. Setting Epochs = 50 means that the algorithm wil work through the entire training dataset 50 times.\n",
        "\n",
        "Batch size refers to the number of examples (i.e., data points) that are processed in one forward/backward pass. Setting batch_size = 128 means that during training, the DNN will process 128 examples at a time in each forward and backward pass."
      ]
    },
    {
      "cell_type": "code",
      "execution_count": null,
      "id": "2bb1d5ed",
      "metadata": {
        "colab": {
          "base_uri": "https://localhost:8080/"
        },
        "id": "2bb1d5ed",
        "outputId": "ff0cceaf-f797-4016-9322-b998b163ec7e"
      },
      "outputs": [
        {
          "output_type": "stream",
          "name": "stdout",
          "text": [
            "Epoch 1/50\n",
            "391/391 [==============================] - 4s 6ms/step - loss: 1.8999 - accuracy: 0.3112 - precision: 0.5997 - recall: 0.0560 - val_loss: 1.7607 - val_accuracy: 0.3817 - val_precision: 0.6119 - val_recall: 0.1192\n",
            "Epoch 2/50\n",
            "391/391 [==============================] - 3s 7ms/step - loss: 1.6794 - accuracy: 0.3953 - precision: 0.6403 - recall: 0.1413 - val_loss: 1.6456 - val_accuracy: 0.4119 - val_precision: 0.6505 - val_recall: 0.1586\n",
            "Epoch 3/50\n",
            "391/391 [==============================] - 2s 5ms/step - loss: 1.5977 - accuracy: 0.4257 - precision: 0.6588 - recall: 0.1865 - val_loss: 1.5417 - val_accuracy: 0.4527 - val_precision: 0.6769 - val_recall: 0.2235\n",
            "Epoch 4/50\n",
            "391/391 [==============================] - 2s 5ms/step - loss: 1.5403 - accuracy: 0.4495 - precision: 0.6653 - recall: 0.2199 - val_loss: 1.6383 - val_accuracy: 0.4146 - val_precision: 0.6591 - val_recall: 0.1823\n",
            "Epoch 5/50\n",
            "391/391 [==============================] - 2s 5ms/step - loss: 1.4974 - accuracy: 0.4633 - precision: 0.6719 - recall: 0.2399 - val_loss: 1.5070 - val_accuracy: 0.4686 - val_precision: 0.6603 - val_recall: 0.2721\n",
            "Epoch 6/50\n",
            "391/391 [==============================] - 2s 5ms/step - loss: 1.4589 - accuracy: 0.4790 - precision: 0.6850 - recall: 0.2607 - val_loss: 1.5196 - val_accuracy: 0.4512 - val_precision: 0.6379 - val_recall: 0.2507\n",
            "Epoch 7/50\n",
            "391/391 [==============================] - 2s 6ms/step - loss: 1.4283 - accuracy: 0.4909 - precision: 0.6866 - recall: 0.2771 - val_loss: 1.5460 - val_accuracy: 0.4632 - val_precision: 0.6348 - val_recall: 0.2873\n",
            "Epoch 8/50\n",
            "391/391 [==============================] - 3s 7ms/step - loss: 1.4011 - accuracy: 0.4988 - precision: 0.6921 - recall: 0.2887 - val_loss: 1.4399 - val_accuracy: 0.4890 - val_precision: 0.6622 - val_recall: 0.3093\n",
            "Epoch 9/50\n",
            "391/391 [==============================] - 2s 5ms/step - loss: 1.3790 - accuracy: 0.5065 - precision: 0.6996 - recall: 0.3062 - val_loss: 1.4756 - val_accuracy: 0.4756 - val_precision: 0.6667 - val_recall: 0.2938\n",
            "Epoch 10/50\n",
            "391/391 [==============================] - 2s 5ms/step - loss: 1.3491 - accuracy: 0.5203 - precision: 0.7086 - recall: 0.3233 - val_loss: 1.4140 - val_accuracy: 0.4926 - val_precision: 0.6840 - val_recall: 0.2952\n",
            "Epoch 11/50\n",
            "391/391 [==============================] - 2s 5ms/step - loss: 1.3328 - accuracy: 0.5251 - precision: 0.7061 - recall: 0.3317 - val_loss: 1.4643 - val_accuracy: 0.4832 - val_precision: 0.6446 - val_recall: 0.3156\n",
            "Epoch 12/50\n",
            "391/391 [==============================] - 2s 5ms/step - loss: 1.3119 - accuracy: 0.5303 - precision: 0.7081 - recall: 0.3411 - val_loss: 1.4222 - val_accuracy: 0.4975 - val_precision: 0.6810 - val_recall: 0.3067\n",
            "Epoch 13/50\n",
            "391/391 [==============================] - 3s 7ms/step - loss: 1.2869 - accuracy: 0.5399 - precision: 0.7174 - recall: 0.3558 - val_loss: 1.4081 - val_accuracy: 0.5018 - val_precision: 0.6708 - val_recall: 0.3386\n",
            "Epoch 14/50\n",
            "391/391 [==============================] - 2s 6ms/step - loss: 1.2611 - accuracy: 0.5507 - precision: 0.7223 - recall: 0.3715 - val_loss: 1.3757 - val_accuracy: 0.5195 - val_precision: 0.6722 - val_recall: 0.3534\n",
            "Epoch 15/50\n",
            "391/391 [==============================] - 3s 7ms/step - loss: 1.2515 - accuracy: 0.5535 - precision: 0.7205 - recall: 0.3756 - val_loss: 1.3931 - val_accuracy: 0.5103 - val_precision: 0.6727 - val_recall: 0.3480\n",
            "Epoch 16/50\n",
            "391/391 [==============================] - 2s 5ms/step - loss: 1.2378 - accuracy: 0.5595 - precision: 0.7242 - recall: 0.3822 - val_loss: 1.4025 - val_accuracy: 0.5073 - val_precision: 0.6663 - val_recall: 0.3286\n",
            "Epoch 17/50\n",
            "391/391 [==============================] - 2s 5ms/step - loss: 1.2181 - accuracy: 0.5660 - precision: 0.7292 - recall: 0.3946 - val_loss: 1.4000 - val_accuracy: 0.5006 - val_precision: 0.6563 - val_recall: 0.3504\n",
            "Epoch 18/50\n",
            "391/391 [==============================] - 2s 6ms/step - loss: 1.1980 - accuracy: 0.5734 - precision: 0.7315 - recall: 0.4053 - val_loss: 1.3862 - val_accuracy: 0.5123 - val_precision: 0.6579 - val_recall: 0.3602\n",
            "Epoch 19/50\n",
            "391/391 [==============================] - 3s 6ms/step - loss: 1.1811 - accuracy: 0.5784 - precision: 0.7337 - recall: 0.4141 - val_loss: 1.4025 - val_accuracy: 0.5058 - val_precision: 0.6593 - val_recall: 0.3443\n",
            "Epoch 20/50\n",
            "391/391 [==============================] - 2s 5ms/step - loss: 1.1587 - accuracy: 0.5873 - precision: 0.7400 - recall: 0.4260 - val_loss: 1.3902 - val_accuracy: 0.5137 - val_precision: 0.6607 - val_recall: 0.3714\n",
            "Epoch 21/50\n",
            "391/391 [==============================] - 2s 5ms/step - loss: 1.1367 - accuracy: 0.5951 - precision: 0.7454 - recall: 0.4397 - val_loss: 1.4672 - val_accuracy: 0.4900 - val_precision: 0.6192 - val_recall: 0.3637\n",
            "Epoch 22/50\n",
            "391/391 [==============================] - 2s 5ms/step - loss: 1.1261 - accuracy: 0.5963 - precision: 0.7427 - recall: 0.4473 - val_loss: 1.4171 - val_accuracy: 0.5075 - val_precision: 0.6517 - val_recall: 0.3721\n",
            "Epoch 23/50\n",
            "391/391 [==============================] - 2s 5ms/step - loss: 1.1095 - accuracy: 0.6029 - precision: 0.7479 - recall: 0.4548 - val_loss: 1.3754 - val_accuracy: 0.5233 - val_precision: 0.6671 - val_recall: 0.3855\n",
            "Epoch 24/50\n",
            "391/391 [==============================] - 2s 6ms/step - loss: 1.0860 - accuracy: 0.6128 - precision: 0.7540 - recall: 0.4666 - val_loss: 1.4302 - val_accuracy: 0.5079 - val_precision: 0.6408 - val_recall: 0.3741\n",
            "Epoch 25/50\n",
            "391/391 [==============================] - 2s 6ms/step - loss: 1.0804 - accuracy: 0.6132 - precision: 0.7546 - recall: 0.4679 - val_loss: 1.3976 - val_accuracy: 0.5203 - val_precision: 0.6407 - val_recall: 0.4001\n",
            "Epoch 26/50\n",
            "391/391 [==============================] - 2s 5ms/step - loss: 1.0666 - accuracy: 0.6183 - precision: 0.7531 - recall: 0.4789 - val_loss: 1.4366 - val_accuracy: 0.5118 - val_precision: 0.6326 - val_recall: 0.3939\n",
            "Epoch 27/50\n",
            "391/391 [==============================] - 2s 5ms/step - loss: 1.0569 - accuracy: 0.6216 - precision: 0.7565 - recall: 0.4821 - val_loss: 1.4138 - val_accuracy: 0.5270 - val_precision: 0.6497 - val_recall: 0.4071\n",
            "Epoch 28/50\n",
            "391/391 [==============================] - 2s 5ms/step - loss: 1.0403 - accuracy: 0.6277 - precision: 0.7627 - recall: 0.4936 - val_loss: 1.4232 - val_accuracy: 0.5158 - val_precision: 0.6426 - val_recall: 0.3856\n",
            "Epoch 29/50\n",
            "391/391 [==============================] - 2s 5ms/step - loss: 1.0221 - accuracy: 0.6356 - precision: 0.7654 - recall: 0.5006 - val_loss: 1.4314 - val_accuracy: 0.5140 - val_precision: 0.6392 - val_recall: 0.3928\n",
            "Epoch 30/50\n",
            "391/391 [==============================] - 3s 8ms/step - loss: 1.0099 - accuracy: 0.6386 - precision: 0.7641 - recall: 0.5065 - val_loss: 1.4501 - val_accuracy: 0.5179 - val_precision: 0.6296 - val_recall: 0.4116\n",
            "Epoch 31/50\n",
            "391/391 [==============================] - 2s 5ms/step - loss: 0.9948 - accuracy: 0.6470 - precision: 0.7698 - recall: 0.5183 - val_loss: 1.4495 - val_accuracy: 0.5127 - val_precision: 0.6310 - val_recall: 0.3988\n",
            "Epoch 32/50\n",
            "391/391 [==============================] - 2s 5ms/step - loss: 0.9828 - accuracy: 0.6487 - precision: 0.7707 - recall: 0.5226 - val_loss: 1.4751 - val_accuracy: 0.5117 - val_precision: 0.6260 - val_recall: 0.3984\n",
            "Epoch 33/50\n",
            "391/391 [==============================] - 2s 5ms/step - loss: 0.9682 - accuracy: 0.6543 - precision: 0.7755 - recall: 0.5326 - val_loss: 1.4621 - val_accuracy: 0.5182 - val_precision: 0.6220 - val_recall: 0.4144\n",
            "Epoch 34/50\n",
            "391/391 [==============================] - 2s 5ms/step - loss: 0.9545 - accuracy: 0.6594 - precision: 0.7764 - recall: 0.5388 - val_loss: 1.5290 - val_accuracy: 0.5144 - val_precision: 0.6130 - val_recall: 0.4262\n",
            "Epoch 35/50\n",
            "391/391 [==============================] - 2s 6ms/step - loss: 0.9503 - accuracy: 0.6604 - precision: 0.7748 - recall: 0.5421 - val_loss: 1.5016 - val_accuracy: 0.5142 - val_precision: 0.6172 - val_recall: 0.4149\n",
            "Epoch 36/50\n",
            "391/391 [==============================] - 2s 6ms/step - loss: 0.9370 - accuracy: 0.6629 - precision: 0.7790 - recall: 0.5487 - val_loss: 1.5011 - val_accuracy: 0.5155 - val_precision: 0.6197 - val_recall: 0.4223\n",
            "Epoch 37/50\n",
            "391/391 [==============================] - 2s 5ms/step - loss: 0.9199 - accuracy: 0.6712 - precision: 0.7841 - recall: 0.5599 - val_loss: 1.5284 - val_accuracy: 0.5158 - val_precision: 0.6141 - val_recall: 0.4210\n",
            "Epoch 38/50\n",
            "391/391 [==============================] - 2s 5ms/step - loss: 0.9076 - accuracy: 0.6749 - precision: 0.7849 - recall: 0.5643 - val_loss: 1.5313 - val_accuracy: 0.5122 - val_precision: 0.6083 - val_recall: 0.4201\n",
            "Epoch 39/50\n",
            "391/391 [==============================] - 2s 5ms/step - loss: 0.8971 - accuracy: 0.6800 - precision: 0.7883 - recall: 0.5701 - val_loss: 1.5269 - val_accuracy: 0.5159 - val_precision: 0.6050 - val_recall: 0.4279\n",
            "Epoch 40/50\n",
            "391/391 [==============================] - 2s 5ms/step - loss: 0.8978 - accuracy: 0.6773 - precision: 0.7835 - recall: 0.5708 - val_loss: 1.5428 - val_accuracy: 0.5104 - val_precision: 0.6133 - val_recall: 0.4149\n",
            "Epoch 41/50\n",
            "391/391 [==============================] - 3s 7ms/step - loss: 0.8848 - accuracy: 0.6819 - precision: 0.7893 - recall: 0.5746 - val_loss: 1.6069 - val_accuracy: 0.5056 - val_precision: 0.5942 - val_recall: 0.4212\n",
            "Epoch 42/50\n",
            "391/391 [==============================] - 2s 5ms/step - loss: 0.8762 - accuracy: 0.6843 - precision: 0.7919 - recall: 0.5818 - val_loss: 1.5364 - val_accuracy: 0.5234 - val_precision: 0.6184 - val_recall: 0.4271\n",
            "Epoch 43/50\n",
            "391/391 [==============================] - 2s 5ms/step - loss: 0.8482 - accuracy: 0.6970 - precision: 0.8023 - recall: 0.5965 - val_loss: 1.6234 - val_accuracy: 0.5073 - val_precision: 0.5886 - val_recall: 0.4262\n",
            "Epoch 44/50\n",
            "391/391 [==============================] - 2s 5ms/step - loss: 0.8558 - accuracy: 0.6935 - precision: 0.7958 - recall: 0.5940 - val_loss: 1.6051 - val_accuracy: 0.5142 - val_precision: 0.5989 - val_recall: 0.4275\n",
            "Epoch 45/50\n",
            "391/391 [==============================] - 2s 5ms/step - loss: 0.8411 - accuracy: 0.6964 - precision: 0.7977 - recall: 0.6001 - val_loss: 1.5742 - val_accuracy: 0.5153 - val_precision: 0.6068 - val_recall: 0.4354\n",
            "Epoch 46/50\n",
            "391/391 [==============================] - 2s 6ms/step - loss: 0.8388 - accuracy: 0.7001 - precision: 0.7967 - recall: 0.6020 - val_loss: 1.6336 - val_accuracy: 0.5073 - val_precision: 0.5905 - val_recall: 0.4197\n",
            "Epoch 47/50\n",
            "391/391 [==============================] - 3s 7ms/step - loss: 0.8210 - accuracy: 0.7069 - precision: 0.8034 - recall: 0.6143 - val_loss: 1.6430 - val_accuracy: 0.5132 - val_precision: 0.5908 - val_recall: 0.4342\n",
            "Epoch 48/50\n",
            "391/391 [==============================] - 2s 5ms/step - loss: 0.8025 - accuracy: 0.7113 - precision: 0.8057 - recall: 0.6219 - val_loss: 1.6810 - val_accuracy: 0.5158 - val_precision: 0.5889 - val_recall: 0.4398\n",
            "Epoch 49/50\n",
            "391/391 [==============================] - 2s 5ms/step - loss: 0.7956 - accuracy: 0.7150 - precision: 0.8108 - recall: 0.6241 - val_loss: 1.6897 - val_accuracy: 0.5125 - val_precision: 0.5854 - val_recall: 0.4361\n",
            "Epoch 50/50\n",
            "391/391 [==============================] - 2s 5ms/step - loss: 0.7932 - accuracy: 0.7129 - precision: 0.8064 - recall: 0.6263 - val_loss: 1.7076 - val_accuracy: 0.5072 - val_precision: 0.5829 - val_recall: 0.4326\n"
          ]
        },
        {
          "output_type": "execute_result",
          "data": {
            "text/plain": [
              "<keras.callbacks.History at 0x7fbdf06389d0>"
            ]
          },
          "metadata": {},
          "execution_count": 48
        }
      ],
      "source": [
        "model_DNN1.fit(x_train,y_train, \n",
        "              epochs=50,batch_size = 128,\n",
        "              validation_data=(x_test, y_test), \n",
        "             )"
      ]
    },
    {
      "cell_type": "markdown",
      "id": "d219b90b",
      "metadata": {
        "id": "d219b90b"
      },
      "source": [
        "For model_1, we achieved training accuracy of 71%"
      ]
    },
    {
      "cell_type": "code",
      "source": [
        "model_DNN1.evaluate(x_test, y_test)"
      ],
      "metadata": {
        "colab": {
          "base_uri": "https://localhost:8080/"
        },
        "id": "KJbRQ2FgqQN5",
        "outputId": "ec14dace-79d5-4429-c39c-920d59270f33"
      },
      "id": "KJbRQ2FgqQN5",
      "execution_count": null,
      "outputs": [
        {
          "output_type": "stream",
          "name": "stdout",
          "text": [
            "313/313 [==============================] - 1s 4ms/step - loss: 1.7076 - accuracy: 0.5072 - precision: 0.5829 - recall: 0.4326\n"
          ]
        },
        {
          "output_type": "execute_result",
          "data": {
            "text/plain": [
              "[1.7075748443603516,\n",
              " 0.5072000026702881,\n",
              " 0.5829402804374695,\n",
              " 0.4325999915599823]"
            ]
          },
          "metadata": {},
          "execution_count": 49
        }
      ]
    },
    {
      "cell_type": "markdown",
      "source": [
        "Testing accuracy: 50.7%, looks like a case of overfitting.\n",
        "\n",
        "The accuracy, loss plots should tell the same."
      ],
      "metadata": {
        "id": "qsdgfYanqSOn"
      },
      "id": "qsdgfYanqSOn"
    },
    {
      "cell_type": "code",
      "source": [
        "history = model_DNN1.history.history\n",
        "df=pd.DataFrame(model_DNN1.history.history)\n",
        "df[['accuracy','val_accuracy']].plot()"
      ],
      "metadata": {
        "colab": {
          "base_uri": "https://localhost:8080/",
          "height": 353
        },
        "id": "IC4t-lDnqdmB",
        "outputId": "31382d8e-365c-496e-d659-c25b18f121fe"
      },
      "id": "IC4t-lDnqdmB",
      "execution_count": null,
      "outputs": [
        {
          "output_type": "error",
          "ename": "KeyError",
          "evalue": "ignored",
          "traceback": [
            "\u001b[0;31m---------------------------------------------------------------------------\u001b[0m",
            "\u001b[0;31mKeyError\u001b[0m                                  Traceback (most recent call last)",
            "\u001b[0;32m<ipython-input-50-cd40883cbec1>\u001b[0m in \u001b[0;36m<cell line: 3>\u001b[0;34m()\u001b[0m\n\u001b[1;32m      1\u001b[0m \u001b[0mhistory\u001b[0m \u001b[0;34m=\u001b[0m \u001b[0mmodel_DNN1\u001b[0m\u001b[0;34m.\u001b[0m\u001b[0mhistory\u001b[0m\u001b[0;34m.\u001b[0m\u001b[0mhistory\u001b[0m\u001b[0;34m\u001b[0m\u001b[0;34m\u001b[0m\u001b[0m\n\u001b[1;32m      2\u001b[0m \u001b[0mdf\u001b[0m\u001b[0;34m=\u001b[0m\u001b[0mpd\u001b[0m\u001b[0;34m.\u001b[0m\u001b[0mDataFrame\u001b[0m\u001b[0;34m(\u001b[0m\u001b[0mmodel_DNN1\u001b[0m\u001b[0;34m.\u001b[0m\u001b[0mhistory\u001b[0m\u001b[0;34m.\u001b[0m\u001b[0mhistory\u001b[0m\u001b[0;34m)\u001b[0m\u001b[0;34m\u001b[0m\u001b[0;34m\u001b[0m\u001b[0m\n\u001b[0;32m----> 3\u001b[0;31m \u001b[0mdf\u001b[0m\u001b[0;34m[\u001b[0m\u001b[0;34m[\u001b[0m\u001b[0;34m'accuracy'\u001b[0m\u001b[0;34m,\u001b[0m\u001b[0;34m'val_accuracy'\u001b[0m\u001b[0;34m]\u001b[0m\u001b[0;34m]\u001b[0m\u001b[0;34m.\u001b[0m\u001b[0mplot\u001b[0m\u001b[0;34m(\u001b[0m\u001b[0;34m)\u001b[0m\u001b[0;34m\u001b[0m\u001b[0;34m\u001b[0m\u001b[0m\n\u001b[0m",
            "\u001b[0;32m/usr/local/lib/python3.9/dist-packages/pandas/core/frame.py\u001b[0m in \u001b[0;36m__getitem__\u001b[0;34m(self, key)\u001b[0m\n\u001b[1;32m   3811\u001b[0m             \u001b[0;32mif\u001b[0m \u001b[0mis_iterator\u001b[0m\u001b[0;34m(\u001b[0m\u001b[0mkey\u001b[0m\u001b[0;34m)\u001b[0m\u001b[0;34m:\u001b[0m\u001b[0;34m\u001b[0m\u001b[0;34m\u001b[0m\u001b[0m\n\u001b[1;32m   3812\u001b[0m                 \u001b[0mkey\u001b[0m \u001b[0;34m=\u001b[0m \u001b[0mlist\u001b[0m\u001b[0;34m(\u001b[0m\u001b[0mkey\u001b[0m\u001b[0;34m)\u001b[0m\u001b[0;34m\u001b[0m\u001b[0;34m\u001b[0m\u001b[0m\n\u001b[0;32m-> 3813\u001b[0;31m             \u001b[0mindexer\u001b[0m \u001b[0;34m=\u001b[0m \u001b[0mself\u001b[0m\u001b[0;34m.\u001b[0m\u001b[0mcolumns\u001b[0m\u001b[0;34m.\u001b[0m\u001b[0m_get_indexer_strict\u001b[0m\u001b[0;34m(\u001b[0m\u001b[0mkey\u001b[0m\u001b[0;34m,\u001b[0m \u001b[0;34m\"columns\"\u001b[0m\u001b[0;34m)\u001b[0m\u001b[0;34m[\u001b[0m\u001b[0;36m1\u001b[0m\u001b[0;34m]\u001b[0m\u001b[0;34m\u001b[0m\u001b[0;34m\u001b[0m\u001b[0m\n\u001b[0m\u001b[1;32m   3814\u001b[0m \u001b[0;34m\u001b[0m\u001b[0m\n\u001b[1;32m   3815\u001b[0m         \u001b[0;31m# take() does not accept boolean indexers\u001b[0m\u001b[0;34m\u001b[0m\u001b[0;34m\u001b[0m\u001b[0m\n",
            "\u001b[0;32m/usr/local/lib/python3.9/dist-packages/pandas/core/indexes/base.py\u001b[0m in \u001b[0;36m_get_indexer_strict\u001b[0;34m(self, key, axis_name)\u001b[0m\n\u001b[1;32m   6068\u001b[0m             \u001b[0mkeyarr\u001b[0m\u001b[0;34m,\u001b[0m \u001b[0mindexer\u001b[0m\u001b[0;34m,\u001b[0m \u001b[0mnew_indexer\u001b[0m \u001b[0;34m=\u001b[0m \u001b[0mself\u001b[0m\u001b[0;34m.\u001b[0m\u001b[0m_reindex_non_unique\u001b[0m\u001b[0;34m(\u001b[0m\u001b[0mkeyarr\u001b[0m\u001b[0;34m)\u001b[0m\u001b[0;34m\u001b[0m\u001b[0;34m\u001b[0m\u001b[0m\n\u001b[1;32m   6069\u001b[0m \u001b[0;34m\u001b[0m\u001b[0m\n\u001b[0;32m-> 6070\u001b[0;31m         \u001b[0mself\u001b[0m\u001b[0;34m.\u001b[0m\u001b[0m_raise_if_missing\u001b[0m\u001b[0;34m(\u001b[0m\u001b[0mkeyarr\u001b[0m\u001b[0;34m,\u001b[0m \u001b[0mindexer\u001b[0m\u001b[0;34m,\u001b[0m \u001b[0maxis_name\u001b[0m\u001b[0;34m)\u001b[0m\u001b[0;34m\u001b[0m\u001b[0;34m\u001b[0m\u001b[0m\n\u001b[0m\u001b[1;32m   6071\u001b[0m \u001b[0;34m\u001b[0m\u001b[0m\n\u001b[1;32m   6072\u001b[0m         \u001b[0mkeyarr\u001b[0m \u001b[0;34m=\u001b[0m \u001b[0mself\u001b[0m\u001b[0;34m.\u001b[0m\u001b[0mtake\u001b[0m\u001b[0;34m(\u001b[0m\u001b[0mindexer\u001b[0m\u001b[0;34m)\u001b[0m\u001b[0;34m\u001b[0m\u001b[0;34m\u001b[0m\u001b[0m\n",
            "\u001b[0;32m/usr/local/lib/python3.9/dist-packages/pandas/core/indexes/base.py\u001b[0m in \u001b[0;36m_raise_if_missing\u001b[0;34m(self, key, indexer, axis_name)\u001b[0m\n\u001b[1;32m   6128\u001b[0m                 \u001b[0;32mif\u001b[0m \u001b[0muse_interval_msg\u001b[0m\u001b[0;34m:\u001b[0m\u001b[0;34m\u001b[0m\u001b[0;34m\u001b[0m\u001b[0m\n\u001b[1;32m   6129\u001b[0m                     \u001b[0mkey\u001b[0m \u001b[0;34m=\u001b[0m \u001b[0mlist\u001b[0m\u001b[0;34m(\u001b[0m\u001b[0mkey\u001b[0m\u001b[0;34m)\u001b[0m\u001b[0;34m\u001b[0m\u001b[0;34m\u001b[0m\u001b[0m\n\u001b[0;32m-> 6130\u001b[0;31m                 \u001b[0;32mraise\u001b[0m \u001b[0mKeyError\u001b[0m\u001b[0;34m(\u001b[0m\u001b[0;34mf\"None of [{key}] are in the [{axis_name}]\"\u001b[0m\u001b[0;34m)\u001b[0m\u001b[0;34m\u001b[0m\u001b[0;34m\u001b[0m\u001b[0m\n\u001b[0m\u001b[1;32m   6131\u001b[0m \u001b[0;34m\u001b[0m\u001b[0m\n\u001b[1;32m   6132\u001b[0m             \u001b[0mnot_found\u001b[0m \u001b[0;34m=\u001b[0m \u001b[0mlist\u001b[0m\u001b[0;34m(\u001b[0m\u001b[0mensure_index\u001b[0m\u001b[0;34m(\u001b[0m\u001b[0mkey\u001b[0m\u001b[0;34m)\u001b[0m\u001b[0;34m[\u001b[0m\u001b[0mmissing_mask\u001b[0m\u001b[0;34m.\u001b[0m\u001b[0mnonzero\u001b[0m\u001b[0;34m(\u001b[0m\u001b[0;34m)\u001b[0m\u001b[0;34m[\u001b[0m\u001b[0;36m0\u001b[0m\u001b[0;34m]\u001b[0m\u001b[0;34m]\u001b[0m\u001b[0;34m.\u001b[0m\u001b[0munique\u001b[0m\u001b[0;34m(\u001b[0m\u001b[0;34m)\u001b[0m\u001b[0;34m)\u001b[0m\u001b[0;34m\u001b[0m\u001b[0;34m\u001b[0m\u001b[0m\n",
            "\u001b[0;31mKeyError\u001b[0m: \"None of [Index(['accuracy', 'val_accuracy'], dtype='object')] are in the [columns]\""
          ]
        }
      ]
    },
    {
      "cell_type": "markdown",
      "id": "f4bc2159",
      "metadata": {
        "id": "f4bc2159"
      },
      "source": [
        "#### Model_2\n",
        "In this model, we will add a function 'schedule' to use dynamic learning rate. Dynamic learning rate, also known as learning rate scheduling, can be a useful technique for improving the performance of deep neural networks during training. The learning rate determines the step size that the optimizer takes during gradient descent to update the model weights. A suitable learning rate can help the optimizer converge to the minimum of the loss function faster and achieve better performance."
      ]
    },
    {
      "cell_type": "code",
      "execution_count": null,
      "id": "9cd56a0f",
      "metadata": {
        "id": "9cd56a0f"
      },
      "outputs": [],
      "source": [
        "model_DNN2 = tf.keras.models.Sequential(LAYERS)"
      ]
    },
    {
      "cell_type": "code",
      "execution_count": null,
      "id": "234d7441",
      "metadata": {
        "id": "234d7441"
      },
      "outputs": [],
      "source": [
        "# function that outputs dynamic learning rate\n",
        "def schedule(epoch):\n",
        "    if epoch < 10:\n",
        "        return 0.001\n",
        "    else:\n",
        "        return 0.0001"
      ]
    },
    {
      "cell_type": "code",
      "execution_count": null,
      "id": "678d186f",
      "metadata": {
        "id": "678d186f"
      },
      "outputs": [],
      "source": [
        "# trying to create another DNN model with dynamic learning rate.\n",
        "lr_callback = tf.keras.callbacks.LearningRateScheduler(schedule)\n",
        "optimizer = tf.keras.optimizers.Adam(learning_rate=0.001)\n",
        "model_DNN2.compile(optimizer=optimizer, loss='categorical_crossentropy', metrics=['accuracy'])"
      ]
    },
    {
      "cell_type": "code",
      "execution_count": null,
      "id": "4656837a",
      "metadata": {
        "id": "4656837a"
      },
      "outputs": [],
      "source": [
        "# adding callbacks to use dynamic learning rate\n",
        "model_DNN2.fit(x_train,y_train, \n",
        "              epochs=50,batch_size = 128,\n",
        "              validation_data=(x_test, y_test), callbacks=[lr_callback]\n",
        "             )"
      ]
    },
    {
      "cell_type": "markdown",
      "id": "117a27e9",
      "metadata": {
        "id": "117a27e9"
      },
      "source": [
        "For model_2, we achieved training accuracy of 52.6%.\n",
        "\n",
        "We can see that on adding dynamic learning rate, the accuracy improved by 1%."
      ]
    },
    {
      "cell_type": "markdown",
      "id": "a4f75de1",
      "metadata": {
        "id": "a4f75de1"
      },
      "source": [
        "#### Useful plots\n",
        "Plots for Model_1 (vanilla DNN, i.e without dynamic learning rate)"
      ]
    },
    {
      "cell_type": "code",
      "execution_count": null,
      "id": "724dbdfa",
      "metadata": {
        "id": "724dbdfa"
      },
      "outputs": [],
      "source": []
    },
    {
      "cell_type": "code",
      "execution_count": null,
      "id": "94a7a15c",
      "metadata": {
        "id": "94a7a15c"
      },
      "outputs": [],
      "source": [
        "df[['loss','val_loss']].plot()"
      ]
    },
    {
      "cell_type": "markdown",
      "id": "291d0254",
      "metadata": {
        "id": "291d0254"
      },
      "source": [
        "Plots for Model_2 (model with dynamic learning rate)"
      ]
    },
    {
      "cell_type": "code",
      "execution_count": null,
      "id": "a102e5da",
      "metadata": {
        "id": "a102e5da"
      },
      "outputs": [],
      "source": [
        "history = model_DNN2.history.history\n",
        "df2=pd.DataFrame(model_DNN2.history.history)\n",
        "df2[['accuracy','val_accuracy']].plot()"
      ]
    },
    {
      "cell_type": "code",
      "execution_count": null,
      "id": "5201b689",
      "metadata": {
        "id": "5201b689"
      },
      "outputs": [],
      "source": [
        "df2[['loss','val_loss']].plot()"
      ]
    },
    {
      "cell_type": "markdown",
      "id": "d96cec1a",
      "metadata": {
        "id": "d96cec1a"
      },
      "source": [
        "#### Let's try to get the performance of both these models on test dataset."
      ]
    },
    {
      "cell_type": "code",
      "execution_count": null,
      "id": "e46d7fe5",
      "metadata": {
        "id": "e46d7fe5"
      },
      "outputs": [],
      "source": []
    },
    {
      "cell_type": "code",
      "execution_count": null,
      "id": "75197123",
      "metadata": {
        "id": "75197123"
      },
      "outputs": [],
      "source": [
        "model_DNN2.evaluate(x_test, y_test)"
      ]
    },
    {
      "cell_type": "markdown",
      "id": "d4a27b10",
      "metadata": {
        "id": "d4a27b10"
      },
      "source": [
        "#### Let's see if we can do some changes in the layer structure to achieve more accuracy."
      ]
    },
    {
      "cell_type": "markdown",
      "id": "a88df575",
      "metadata": {
        "id": "a88df575"
      },
      "source": [
        "#### Model_3"
      ]
    },
    {
      "cell_type": "markdown",
      "id": "e65cd408",
      "metadata": {
        "id": "e65cd408"
      },
      "source": [
        "Here, we have added normalization layer after each dense layer.\n",
        "\n",
        "Normalization layers are commonly used to improve the performance and stability of the model during training. These layers can be added before or after the activation function, depending on the specific architecture and goals of the model. However, adding normalization layers after the activation function is generally more common and has several advantages."
      ]
    },
    {
      "cell_type": "code",
      "execution_count": null,
      "id": "1191c63a",
      "metadata": {
        "id": "1191c63a"
      },
      "outputs": [],
      "source": [
        "LAYERS = [\n",
        "          tf.keras.layers.Flatten(input_shape=[32, 32, 3], name=\"inputLayer\"),\n",
        "          tf.keras.layers.Dense(300, activation=\"relu\", name=\"hiddenLayer1\"),\n",
        "          tf.keras.layers.BatchNormalization(),\n",
        "          tf.keras.layers.Dense(200, activation=\"relu\", name=\"hiddenLayer2\"),\n",
        "          tf.keras.layers.BatchNormalization(),\n",
        "          tf.keras.layers.Dense(100, activation=\"relu\", name=\"hiddenLayer3\"),\n",
        "          tf.keras.layers.BatchNormalization(),\n",
        "          tf.keras.layers.Dense(10, activation=\"softmax\", name=\"outputLayer\"),\n",
        "]\n",
        "\n",
        "model_DNN3 = tf.keras.models.Sequential(LAYERS)"
      ]
    },
    {
      "cell_type": "code",
      "execution_count": null,
      "id": "c31c3b04",
      "metadata": {
        "id": "c31c3b04"
      },
      "outputs": [],
      "source": [
        "model_DNN3.summary()"
      ]
    },
    {
      "cell_type": "code",
      "execution_count": null,
      "id": "58976e0c",
      "metadata": {
        "id": "58976e0c"
      },
      "outputs": [],
      "source": [
        "METRICS = [\n",
        "    'accuracy',\n",
        "    tf.keras.metrics.Precision(name='precision'),\n",
        "    tf.keras.metrics.Recall(name='recall')\n",
        "]\n",
        "model_DNN3.compile(optimizer='adam', loss='categorical_crossentropy', metrics=METRICS)"
      ]
    },
    {
      "cell_type": "code",
      "execution_count": null,
      "id": "0cf23a47",
      "metadata": {
        "id": "0cf23a47"
      },
      "outputs": [],
      "source": [
        "model_DNN3.fit(x_train,y_train, \n",
        "              epochs=50,batch_size = 128,\n",
        "              validation_data=(x_test, y_test), \n",
        "             )"
      ]
    },
    {
      "cell_type": "markdown",
      "id": "22beed0f",
      "metadata": {
        "id": "22beed0f"
      },
      "source": [
        "For model_3, achieved training accuracy of 86.3%"
      ]
    },
    {
      "cell_type": "markdown",
      "id": "1f66bf4b",
      "metadata": {
        "id": "1f66bf4b"
      },
      "source": [
        "#### Model_4\n",
        "This is the updated version of model_2, here I have added batch normalization layer after each activation function.\n",
        "\n",
        "This model differs from model_3 by having dynamic activation function."
      ]
    },
    {
      "cell_type": "code",
      "execution_count": null,
      "id": "e068ea6f",
      "metadata": {
        "id": "e068ea6f"
      },
      "outputs": [],
      "source": [
        "LAYERS = [\n",
        "          tf.keras.layers.Flatten(input_shape=[32, 32, 3], name=\"inputLayer\"),\n",
        "          tf.keras.layers.Dense(300, activation=\"relu\", name=\"hiddenLayer1\"),\n",
        "          tf.keras.layers.BatchNormalization(),\n",
        "          tf.keras.layers.Dense(200, activation=\"relu\", name=\"hiddenLayer2\"),\n",
        "          tf.keras.layers.BatchNormalization(),\n",
        "          tf.keras.layers.Dense(100, activation=\"relu\", name=\"hiddenLayer3\"),\n",
        "          tf.keras.layers.BatchNormalization(),\n",
        "          tf.keras.layers.Dense(10, activation=\"softmax\", name=\"outputLayer\"),\n",
        "]\n",
        "\n",
        "model_DNN4 = tf.keras.models.Sequential(LAYERS)"
      ]
    },
    {
      "cell_type": "code",
      "execution_count": null,
      "id": "8ae62ef9",
      "metadata": {
        "id": "8ae62ef9"
      },
      "outputs": [],
      "source": [
        "model_DNN4.summary()"
      ]
    },
    {
      "cell_type": "code",
      "execution_count": null,
      "id": "fcd87f8a",
      "metadata": {
        "id": "fcd87f8a"
      },
      "outputs": [],
      "source": [
        "lr_callback = tf.keras.callbacks.LearningRateScheduler(schedule)\n",
        "optimizer = tf.keras.optimizers.Adam(learning_rate=0.001)\n",
        "model_DNN4.compile(optimizer=optimizer, loss='categorical_crossentropy', metrics=['accuracy'])"
      ]
    },
    {
      "cell_type": "code",
      "execution_count": null,
      "id": "18c30cae",
      "metadata": {
        "id": "18c30cae"
      },
      "outputs": [],
      "source": [
        "model_DNN4.fit(x_train,y_train, \n",
        "              epochs=50,batch_size = 128,\n",
        "              validation_data=(x_test, y_test), callbacks=[lr_callback]\n",
        "             )"
      ]
    },
    {
      "cell_type": "markdown",
      "id": "97f83b1e",
      "metadata": {
        "id": "97f83b1e"
      },
      "source": [
        "For model_4, achieved training accuracy of 76.4%."
      ]
    },
    {
      "cell_type": "markdown",
      "id": "1d389517",
      "metadata": {
        "id": "1d389517"
      },
      "source": [
        "#### Useful plots"
      ]
    },
    {
      "cell_type": "markdown",
      "id": "c2fbc725",
      "metadata": {
        "id": "c2fbc725"
      },
      "source": [
        "Plots for Model_3 (vanilla DNN with batch normalization layer, i.e without dynamic learning rate)"
      ]
    },
    {
      "cell_type": "code",
      "execution_count": null,
      "id": "f16599fb",
      "metadata": {
        "id": "f16599fb"
      },
      "outputs": [],
      "source": [
        "history = model_DNN3.history.history\n",
        "df3=pd.DataFrame(model_DNN3.history.history)\n",
        "df3[['accuracy','val_accuracy']].plot()"
      ]
    },
    {
      "cell_type": "code",
      "execution_count": null,
      "id": "87143f95",
      "metadata": {
        "id": "87143f95"
      },
      "outputs": [],
      "source": [
        "df3[['loss','val_loss']].plot()"
      ]
    },
    {
      "cell_type": "markdown",
      "id": "c9798b14",
      "metadata": {
        "id": "c9798b14"
      },
      "source": [
        "Plots for Model_4 (model with dynamic learning rate and batch normalization layer)"
      ]
    },
    {
      "cell_type": "code",
      "execution_count": null,
      "id": "99e9e688",
      "metadata": {
        "id": "99e9e688"
      },
      "outputs": [],
      "source": [
        "history = model_DNN4.history.history\n",
        "df4=pd.DataFrame(model_DNN4.history.history)\n",
        "df4[['accuracy','val_accuracy']].plot()"
      ]
    },
    {
      "cell_type": "code",
      "execution_count": null,
      "id": "83e02473",
      "metadata": {
        "id": "83e02473"
      },
      "outputs": [],
      "source": [
        "df4[['loss','val_loss']].plot()"
      ]
    },
    {
      "cell_type": "markdown",
      "id": "0b9d54ae",
      "metadata": {
        "id": "0b9d54ae"
      },
      "source": [
        "#### Now let's evaluate these models in test data set."
      ]
    },
    {
      "cell_type": "code",
      "execution_count": null,
      "id": "5283e210",
      "metadata": {
        "id": "5283e210"
      },
      "outputs": [],
      "source": [
        "model_DNN3.evaluate(x_test, y_test)"
      ]
    },
    {
      "cell_type": "markdown",
      "id": "ed8a7fa4",
      "metadata": {
        "id": "ed8a7fa4"
      },
      "source": [
        "For model_3, we achieve test accuracy of 48.7%"
      ]
    },
    {
      "cell_type": "code",
      "execution_count": null,
      "id": "6abf1be1",
      "metadata": {
        "id": "6abf1be1"
      },
      "outputs": [],
      "source": [
        "model_DNN4.evaluate(x_test, y_test)"
      ]
    },
    {
      "cell_type": "markdown",
      "id": "8e502a80",
      "metadata": {
        "id": "8e502a80"
      },
      "source": [
        "For model_4 we achieved test accuracy of 53.8%"
      ]
    },
    {
      "cell_type": "markdown",
      "id": "042b15c1",
      "metadata": {
        "id": "042b15c1"
      },
      "source": [
        "We can see that for Model 3 and Model 4, there was significant overfitting since the test accuracy is less than 20% from the training accuracy.\n",
        "\n",
        "Let's try to reduce the overfitting by adding Dropout layer after each batch normalization layer, we'll see how it affects on both training and test accuracy."
      ]
    },
    {
      "cell_type": "markdown",
      "id": "a037b043",
      "metadata": {
        "id": "a037b043"
      },
      "source": [
        "#### Model_5"
      ]
    },
    {
      "cell_type": "markdown",
      "id": "5371e25d",
      "metadata": {
        "id": "5371e25d"
      },
      "source": [
        "Model_5 is the updated version of model_3, here we have added dropout layer to avoid overfitting."
      ]
    },
    {
      "cell_type": "code",
      "execution_count": null,
      "id": "d7e0dc6c",
      "metadata": {
        "id": "d7e0dc6c"
      },
      "outputs": [],
      "source": [
        "LAYERS = [\n",
        "          tf.keras.layers.Flatten(input_shape=[32, 32, 3], name=\"inputLayer\"),\n",
        "          tf.keras.layers.Dense(300, activation=\"relu\", name=\"hiddenLayer1\"),\n",
        "          tf.keras.layers.BatchNormalization(),\n",
        "          tf.keras.layers.Dropout(0.5),\n",
        "          tf.keras.layers.Dense(200, activation=\"relu\", name=\"hiddenLayer2\"),\n",
        "          tf.keras.layers.BatchNormalization(),\n",
        "          tf.keras.layers.Dropout(0.5),\n",
        "          tf.keras.layers.Dense(100, activation=\"relu\", name=\"hiddenLayer3\"),\n",
        "          tf.keras.layers.BatchNormalization(),\n",
        "          tf.keras.layers.Dropout(0.5),\n",
        "          tf.keras.layers.Dense(10, activation=\"softmax\", name=\"outputLayer\"),\n",
        "]\n",
        "\n",
        "model_DNN5 = tf.keras.models.Sequential(LAYERS)"
      ]
    },
    {
      "cell_type": "code",
      "execution_count": null,
      "id": "6d40054c",
      "metadata": {
        "id": "6d40054c"
      },
      "outputs": [],
      "source": [
        "METRICS = [\n",
        "    'accuracy',\n",
        "    tf.keras.metrics.Precision(name='precision'),\n",
        "    tf.keras.metrics.Recall(name='recall')\n",
        "]\n",
        "model_DNN5.compile(optimizer='adam', loss='categorical_crossentropy', metrics=METRICS)"
      ]
    },
    {
      "cell_type": "code",
      "execution_count": null,
      "id": "06a9ec14",
      "metadata": {
        "id": "06a9ec14"
      },
      "outputs": [],
      "source": [
        "model_DNN5.fit(x_train,y_train, \n",
        "              epochs=50,batch_size = 128,\n",
        "              validation_data=(x_test, y_test), \n",
        "             )"
      ]
    },
    {
      "cell_type": "markdown",
      "id": "ad9ffdb7",
      "metadata": {
        "id": "ad9ffdb7"
      },
      "source": [
        "We achieved training accuracy of 40%. The training accuracy dropped by 46% after adding dropout layer!"
      ]
    },
    {
      "cell_type": "markdown",
      "id": "088b5b9c",
      "metadata": {
        "id": "088b5b9c"
      },
      "source": [
        "#### Model_6"
      ]
    },
    {
      "cell_type": "markdown",
      "id": "3d3319c5",
      "metadata": {
        "id": "3d3319c5"
      },
      "source": [
        "Model_6 is the updated version of model_4 with dropout layer of 0.2 added after first two batch normalization layer."
      ]
    },
    {
      "cell_type": "code",
      "execution_count": null,
      "id": "b4e0d73c",
      "metadata": {
        "id": "b4e0d73c"
      },
      "outputs": [],
      "source": [
        "LAYERS = [\n",
        "          tf.keras.layers.Flatten(input_shape=[32, 32, 3], name=\"inputLayer\"),\n",
        "          tf.keras.layers.Dense(300, activation=\"relu\", name=\"hiddenLayer1\"),\n",
        "          tf.keras.layers.BatchNormalization(),\n",
        "          tf.keras.layers.Dropout(0.2),\n",
        "          tf.keras.layers.Dense(200, activation=\"relu\", name=\"hiddenLayer2\"),\n",
        "          tf.keras.layers.BatchNormalization(),\n",
        "          tf.keras.layers.Dropout(0.2),\n",
        "          tf.keras.layers.Dense(100, activation=\"relu\", name=\"hiddenLayer3\"),\n",
        "          tf.keras.layers.BatchNormalization(),\n",
        "          tf.keras.layers.Dense(10, activation=\"softmax\", name=\"outputLayer\"),\n",
        "]\n",
        "\n",
        "model_DNN6 = tf.keras.models.Sequential(LAYERS)"
      ]
    },
    {
      "cell_type": "code",
      "execution_count": null,
      "id": "3e6813a1",
      "metadata": {
        "id": "3e6813a1"
      },
      "outputs": [],
      "source": [
        "lr_callback = tf.keras.callbacks.LearningRateScheduler(schedule)\n",
        "optimizer = tf.keras.optimizers.Adam(learning_rate=0.001)\n",
        "model_DNN6.compile(optimizer=optimizer, loss='categorical_crossentropy', metrics=['accuracy'])"
      ]
    },
    {
      "cell_type": "code",
      "execution_count": null,
      "id": "25e1d2f4",
      "metadata": {
        "id": "25e1d2f4"
      },
      "outputs": [],
      "source": [
        "model_DNN6.fit(x_train,y_train, \n",
        "              epochs=50,batch_size = 128,\n",
        "              validation_data=(x_test, y_test), callbacks=[lr_callback]\n",
        "             )"
      ]
    },
    {
      "cell_type": "markdown",
      "id": "8646c64f",
      "metadata": {
        "id": "8646c64f"
      },
      "source": [
        "Even for model_6, the training accuracy dropped to 41%. A major drop after adding dropout layer."
      ]
    },
    {
      "cell_type": "markdown",
      "id": "98479eb0",
      "metadata": {
        "id": "98479eb0"
      },
      "source": [
        "#### Useful plots"
      ]
    },
    {
      "cell_type": "markdown",
      "id": "ba424852",
      "metadata": {
        "id": "ba424852"
      },
      "source": [
        "Plots for model_5"
      ]
    },
    {
      "cell_type": "code",
      "execution_count": null,
      "id": "47ccc2db",
      "metadata": {
        "id": "47ccc2db"
      },
      "outputs": [],
      "source": [
        "history = model_DNN5.history.history\n",
        "df5=pd.DataFrame(model_DNN5.history.history)\n",
        "df5[['accuracy','val_accuracy']].plot()"
      ]
    },
    {
      "cell_type": "code",
      "execution_count": null,
      "id": "56248895",
      "metadata": {
        "id": "56248895"
      },
      "outputs": [],
      "source": [
        "df5[['loss','val_loss']].plot()"
      ]
    },
    {
      "cell_type": "markdown",
      "id": "cc21e4c4",
      "metadata": {
        "id": "cc21e4c4"
      },
      "source": [
        "Plots for model_6"
      ]
    },
    {
      "cell_type": "code",
      "execution_count": null,
      "id": "4fa0bf7d",
      "metadata": {
        "id": "4fa0bf7d"
      },
      "outputs": [],
      "source": [
        "history = model_DNN6.history.history\n",
        "df6=pd.DataFrame(model_DNN6.history.history)\n",
        "df6[['accuracy','val_accuracy']].plot()"
      ]
    },
    {
      "cell_type": "code",
      "execution_count": null,
      "id": "d8b362f6",
      "metadata": {
        "id": "d8b362f6"
      },
      "outputs": [],
      "source": [
        "df6[['loss','val_loss']].plot()"
      ]
    },
    {
      "cell_type": "markdown",
      "id": "52abfae8",
      "metadata": {
        "id": "52abfae8"
      },
      "source": [
        "#### Evaluating on test set"
      ]
    },
    {
      "cell_type": "code",
      "execution_count": null,
      "id": "9eb69409",
      "metadata": {
        "id": "9eb69409"
      },
      "outputs": [],
      "source": [
        "model_DNN5.evaluate(x_test, y_test)"
      ]
    },
    {
      "cell_type": "markdown",
      "id": "ede7fcc1",
      "metadata": {
        "id": "ede7fcc1"
      },
      "source": [
        "Model_5 achieved test accuracy of 46.75%."
      ]
    },
    {
      "cell_type": "code",
      "execution_count": null,
      "id": "e2c9f002",
      "metadata": {
        "id": "e2c9f002"
      },
      "outputs": [],
      "source": [
        "model_DNN6.evaluate(x_test, y_test)"
      ]
    },
    {
      "cell_type": "markdown",
      "id": "d71e373e",
      "metadata": {
        "id": "d71e373e"
      },
      "source": [
        "Model_6 achieved test accuracy of 45.5%"
      ]
    },
    {
      "cell_type": "markdown",
      "id": "31ef0120",
      "metadata": {
        "id": "31ef0120"
      },
      "source": [
        "Adding the dropout layer, reduced the overfitting but also reduced the accuracy of the model."
      ]
    },
    {
      "cell_type": "markdown",
      "id": "61e3271b",
      "metadata": {
        "id": "61e3271b"
      },
      "source": [
        "Let's create a final model by adding more layers and keeping dropout of 0.2 twice in the architecture."
      ]
    },
    {
      "cell_type": "markdown",
      "id": "15839b13",
      "metadata": {
        "id": "15839b13"
      },
      "source": [
        "#### final_model_withoutConvolution"
      ]
    },
    {
      "cell_type": "code",
      "execution_count": null,
      "id": "cbfe825c",
      "metadata": {
        "id": "cbfe825c"
      },
      "outputs": [],
      "source": [
        "LAYERS = [\n",
        "          tf.keras.layers.Flatten(input_shape=[32, 32, 3], name=\"inputLayer\"),\n",
        "          tf.keras.layers.Dense(700, activation=\"relu\", name=\"hiddenLayer1\"),\n",
        "          tf.keras.layers.BatchNormalization(),\n",
        "          tf.keras.layers.Dense(400, activation=\"relu\", name=\"hiddenLayer2\"),\n",
        "          tf.keras.layers.BatchNormalization(),\n",
        "          tf.keras.layers.Dropout(0.2),\n",
        "          tf.keras.layers.Dense(300, activation=\"relu\", name=\"hiddenLayer3\"),\n",
        "          tf.keras.layers.BatchNormalization(),\n",
        "          tf.keras.layers.Dense(200, activation=\"relu\", name=\"hiddenLayer4\"),\n",
        "          tf.keras.layers.BatchNormalization(),\n",
        "          tf.keras.layers.Dropout(0.2),\n",
        "          tf.keras.layers.Dense(50, activation=\"relu\", name=\"hiddenLayer5\"),\n",
        "          tf.keras.layers.BatchNormalization(),\n",
        "          tf.keras.layers.Dense(10, activation=\"softmax\", name=\"outputLayer\"),\n",
        "]\n",
        "\n",
        "final_modelDNN = tf.keras.models.Sequential(LAYERS)"
      ]
    },
    {
      "cell_type": "code",
      "execution_count": null,
      "id": "32db67b0",
      "metadata": {
        "id": "32db67b0"
      },
      "outputs": [],
      "source": [
        "METRICS = [\n",
        "    'accuracy',\n",
        "    tf.keras.metrics.Precision(name='precision'),\n",
        "    tf.keras.metrics.Recall(name='recall')\n",
        "]\n",
        "final_modelDNN.compile(optimizer='adam', loss='categorical_crossentropy', metrics=METRICS)"
      ]
    },
    {
      "cell_type": "code",
      "execution_count": null,
      "id": "f31fee9c",
      "metadata": {
        "id": "f31fee9c"
      },
      "outputs": [],
      "source": [
        "final_modelDNN.fit(x_train,y_train, \n",
        "              epochs=50,batch_size = 128,\n",
        "              validation_data=(x_test, y_test), \n",
        "             )"
      ]
    },
    {
      "cell_type": "code",
      "execution_count": null,
      "id": "91f8f079",
      "metadata": {
        "id": "91f8f079"
      },
      "outputs": [],
      "source": [
        "history = final_modelDNN.history.history\n",
        "df_final_modelDNN=pd.DataFrame(final_modelDNN.history.history)\n",
        "df_final_modelDNN[['accuracy','val_accuracy']].plot()"
      ]
    },
    {
      "cell_type": "code",
      "execution_count": null,
      "id": "8f98c93c",
      "metadata": {
        "id": "8f98c93c"
      },
      "outputs": [],
      "source": [
        "df_final_modelDNN[['loss','val_loss']].plot()"
      ]
    },
    {
      "cell_type": "code",
      "execution_count": null,
      "id": "ffffea42",
      "metadata": {
        "id": "ffffea42"
      },
      "outputs": [],
      "source": [
        "final_modelDNN.evaluate(x_test, y_test)"
      ]
    },
    {
      "cell_type": "markdown",
      "id": "edb1eea4",
      "metadata": {
        "id": "edb1eea4"
      },
      "source": [
        "Test Accuracy Achieved - 52.3%"
      ]
    },
    {
      "cell_type": "markdown",
      "id": "a355d7b4",
      "metadata": {
        "id": "a355d7b4"
      },
      "source": [
        "### Method 2 - Deep Neural Network With Convolution layer"
      ]
    },
    {
      "cell_type": "markdown",
      "id": "3aa4aa7c",
      "metadata": {
        "id": "3aa4aa7c"
      },
      "source": [
        "Convolutional neural networks (CNNs) are commonly used for image classification because they are specifically designed to efficiently and effectively process 2D images. CNNs are made up of multiple layers, including convolutional layers, pooling layers, and fully connected layers.\n",
        "\n",
        "The convolutional layers are the most important part of a CNN, as they apply a set of learnable filters to the input image to extract and identify features, such as edges, shapes, and patterns. These filters are typically small in size, and are applied across the entire input image, allowing the model to learn a hierarchy of increasingly complex features at different levels of abstraction.\n",
        "\n",
        "The pooling layers help to reduce the spatial dimensions of the feature maps, which can help to reduce the computational complexity and memory requirements of the model. The most common type of pooling is max pooling, which selects the maximum value within a window of pixels.\n",
        "\n",
        "The fully connected layers are typically used at the end of the CNN to classify the extracted features into different categories. These layers take the flattened output from the previous layers, and use a set of learnable weights and biases to make the final classification decision."
      ]
    },
    {
      "cell_type": "markdown",
      "id": "954e22b3",
      "metadata": {
        "id": "954e22b3"
      },
      "source": [
        "#### Model_CNN1"
      ]
    },
    {
      "cell_type": "markdown",
      "id": "10507c5a",
      "metadata": {
        "id": "10507c5a"
      },
      "source": [
        "Below model has 4 convolution layers with relu activation function followed by maxpooling layer. "
      ]
    },
    {
      "cell_type": "code",
      "execution_count": null,
      "id": "1212a5ab",
      "metadata": {
        "id": "1212a5ab"
      },
      "outputs": [],
      "source": [
        "def firstCNN(input_shape, num_classes):\n",
        "    model = Sequential()\n",
        "\n",
        "    # First convolutional layer\n",
        "    model.add(Conv2D(filters=96, kernel_size=(3, 3), strides=(1, 1), padding='same', input_shape=input_shape))\n",
        "    model.add(Activation('relu'))\n",
        "    model.add(MaxPooling2D(pool_size=(2, 2), strides=(2, 2)))\n",
        "\n",
        "    # Second convolutional layer\n",
        "    model.add(Conv2D(filters=256, kernel_size=(5, 5), strides=(1, 1), padding='same'))\n",
        "    model.add(Activation('relu'))\n",
        "    model.add(MaxPooling2D(pool_size=(2, 2), strides=(2, 2)))\n",
        "\n",
        "    # Third convolutional layer\n",
        "    model.add(Conv2D(filters=384, kernel_size=(3, 3), strides=(1, 1), padding='same'))\n",
        "    model.add(Activation('relu'))\n",
        "\n",
        "    # Fourth convolutional layer\n",
        "    model.add(Conv2D(filters=256, kernel_size=(3, 3), strides=(1, 1), padding='same'))\n",
        "    model.add(Activation('relu'))\n",
        "    model.add(MaxPooling2D(pool_size=(2, 2), strides=(2, 2)))\n",
        "\n",
        "    # Flatten the output of the fifth convolutional layer\n",
        "    model.add(Flatten())\n",
        "\n",
        "    # First fully connected layer\n",
        "    model.add(Dense(units=4096))\n",
        "    model.add(Activation('relu'))\n",
        "    model.add(Dropout(0.5))\n",
        "\n",
        "    # Output layer\n",
        "    model.add(Dense(units=num_classes))\n",
        "    model.add(Activation('softmax'))\n",
        "\n",
        "    return model"
      ]
    },
    {
      "cell_type": "code",
      "execution_count": null,
      "id": "08f94ea9",
      "metadata": {
        "colab": {
          "base_uri": "https://localhost:8080/"
        },
        "id": "08f94ea9",
        "outputId": "f7ac66e1-3d83-4298-da6f-9d637ec66fda"
      },
      "outputs": [
        {
          "output_type": "stream",
          "name": "stdout",
          "text": [
            "Epoch 1/10\n",
            "391/391 [==============================] - 25s 34ms/step - loss: 1.5767 - accuracy: 0.4175 - val_loss: 1.1851 - val_accuracy: 0.5757\n",
            "Epoch 2/10\n",
            "391/391 [==============================] - 12s 32ms/step - loss: 1.0677 - accuracy: 0.6196 - val_loss: 1.0344 - val_accuracy: 0.6331\n",
            "Epoch 3/10\n",
            "391/391 [==============================] - 12s 30ms/step - loss: 0.8549 - accuracy: 0.6989 - val_loss: 0.8434 - val_accuracy: 0.7009\n",
            "Epoch 4/10\n",
            "391/391 [==============================] - 13s 33ms/step - loss: 0.7082 - accuracy: 0.7530 - val_loss: 0.7947 - val_accuracy: 0.7264\n",
            "Epoch 5/10\n",
            "391/391 [==============================] - 12s 31ms/step - loss: 0.5987 - accuracy: 0.7885 - val_loss: 0.7715 - val_accuracy: 0.7427\n",
            "Epoch 6/10\n",
            "391/391 [==============================] - 12s 31ms/step - loss: 0.4986 - accuracy: 0.8240 - val_loss: 0.7486 - val_accuracy: 0.7548\n",
            "Epoch 7/10\n",
            "391/391 [==============================] - 12s 32ms/step - loss: 0.4105 - accuracy: 0.8550 - val_loss: 0.7546 - val_accuracy: 0.7558\n",
            "Epoch 8/10\n",
            "391/391 [==============================] - 12s 32ms/step - loss: 0.3279 - accuracy: 0.8838 - val_loss: 0.7867 - val_accuracy: 0.7615\n",
            "Epoch 9/10\n",
            "391/391 [==============================] - 12s 30ms/step - loss: 0.2722 - accuracy: 0.9043 - val_loss: 0.8612 - val_accuracy: 0.7653\n",
            "Epoch 10/10\n",
            "391/391 [==============================] - 12s 32ms/step - loss: 0.2179 - accuracy: 0.9230 - val_loss: 0.9371 - val_accuracy: 0.7603\n",
            "Test accuracy: 0.7602999806404114\n"
          ]
        }
      ],
      "source": [
        "# Compile the model\n",
        "model_convolution1 = firstCNN(input_shape=(32, 32, 3), num_classes=10)\n",
        "model_convolution1.compile(optimizer='adam', loss='categorical_crossentropy', metrics=['accuracy'])\n",
        "\n",
        "# Train the model\n",
        "history_firstCNN = model_convolution1.fit(x_train, y_train, epochs=10, batch_size=128, validation_data=(x_test, y_test))\n",
        "\n",
        "# Evaluate the model\n",
        "score = model_convolution1.evaluate(x_test, y_test, verbose=0)\n",
        "print('Test accuracy:', score[1])"
      ]
    },
    {
      "cell_type": "markdown",
      "id": "f8b99e70",
      "metadata": {
        "id": "f8b99e70"
      },
      "source": [
        "The training accuracy is 92%, and the test accuracy is 76%. This clearly suggests that the model is overfitting, the validation accuracy and loss plots should also convey the same."
      ]
    },
    {
      "cell_type": "markdown",
      "id": "31b67a08",
      "metadata": {
        "id": "31b67a08"
      },
      "source": [
        "#### Plotting graphs"
      ]
    },
    {
      "cell_type": "code",
      "execution_count": null,
      "id": "1f8873f2",
      "metadata": {
        "id": "1f8873f2"
      },
      "outputs": [],
      "source": [
        "df_ConvolutionCNN1 = pd.DataFrame(history_firstCNN.history)"
      ]
    },
    {
      "cell_type": "code",
      "execution_count": null,
      "id": "c245f6bf",
      "metadata": {
        "colab": {
          "base_uri": "https://localhost:8080/",
          "height": 448
        },
        "id": "c245f6bf",
        "outputId": "bce43a2e-0c29-4ffd-f958-a17eadff719e"
      },
      "outputs": [
        {
          "output_type": "execute_result",
          "data": {
            "text/plain": [
              "<Axes: >"
            ]
          },
          "metadata": {},
          "execution_count": 8
        },
        {
          "output_type": "display_data",
          "data": {
            "text/plain": [
              "<Figure size 640x480 with 1 Axes>"
            ],
            "image/png": "[encoded data removed]"
          },
          "metadata": {}
        }
      ],
      "source": [
        "df_ConvolutionCNN1[['accuracy','val_accuracy']].plot()"
      ]
    },
    {
      "cell_type": "code",
      "execution_count": null,
      "id": "b9a4c478",
      "metadata": {
        "colab": {
          "base_uri": "https://localhost:8080/",
          "height": 448
        },
        "id": "b9a4c478",
        "outputId": "ac37f9a3-d4d2-4784-b79d-83369a0d6e04"
      },
      "outputs": [
        {
          "output_type": "execute_result",
          "data": {
            "text/plain": [
              "<Axes: >"
            ]
          },
          "metadata": {},
          "execution_count": 9
        },
        {
          "output_type": "display_data",
          "data": {
            "text/plain": [
              "<Figure size 640x480 with 1 Axes>"
            ],
            "image/png": "[encoded data removed]"
          },
          "metadata": {}
        }
      ],
      "source": [
        "df_ConvolutionCNN1[['loss','val_loss']].plot()"
      ]
    },
    {
      "cell_type": "markdown",
      "id": "22cb6f22",
      "metadata": {
        "id": "22cb6f22"
      },
      "source": [
        "From the above plots we can say that the model is overfitting."
      ]
    },
    {
      "cell_type": "markdown",
      "id": "96157530",
      "metadata": {
        "id": "96157530"
      },
      "source": [
        "Let's try to reduce overfitting"
      ]
    },
    {
      "cell_type": "markdown",
      "id": "730dcb05",
      "metadata": {
        "id": "730dcb05"
      },
      "source": [
        "1. We can add BatchNormalizaton\n",
        "2. L1 / L2 regularization\n"
      ]
    },
    {
      "cell_type": "code",
      "execution_count": null,
      "id": "7344a9aa",
      "metadata": {
        "id": "7344a9aa"
      },
      "outputs": [],
      "source": [
        "def secondCNN(input_shape, num_classes):\n",
        "    model = Sequential()\n",
        "\n",
        "    # First convolutional layer\n",
        "    model.add(Conv2D(filters=96, kernel_size=(3, 3), strides=(1, 1), padding='same', input_shape=input_shape,kernel_regularizer=l2(0.01)))\n",
        "    model.add(Activation('relu'))\n",
        "    model.add(MaxPooling2D(pool_size=(2, 2), strides=(2, 2)))\n",
        "    model.add(tf.keras.layers.BatchNormalization())\n",
        "\n",
        "    # Second convolutional layer\n",
        "    model.add(Conv2D(filters=256, kernel_size=(5, 5), strides=(1, 1), padding='same',input_shape=input_shape,kernel_regularizer=l2(0.01)))\n",
        "    model.add(Activation('relu'))\n",
        "    model.add(MaxPooling2D(pool_size=(2, 2), strides=(2, 2)))\n",
        "    model.add(tf.keras.layers.BatchNormalization())\n",
        "\n",
        "    # Third convolutional layer\n",
        "    model.add(Conv2D(filters=384, kernel_size=(3, 3), strides=(1, 1), padding='same',input_shape=input_shape,kernel_regularizer=l1(0.01)))\n",
        "    model.add(Activation('relu'))\n",
        "    model.add(tf.keras.layers.BatchNormalization())\n",
        "\n",
        "    # Fourth convolutional layer\n",
        "    model.add(Conv2D(filters=256, kernel_size=(3, 3), strides=(1, 1), padding='same',input_shape=input_shape,kernel_regularizer=l1(0.01)))\n",
        "    model.add(Activation('relu'))\n",
        "    model.add(MaxPooling2D(pool_size=(2, 2), strides=(2, 2)))\n",
        "    model.add(tf.keras.layers.BatchNormalization())\n",
        "\n",
        "    # Flatten the output of the fifth convolutional layer\n",
        "    model.add(Flatten())\n",
        "\n",
        "    # First fully connected layer\n",
        "    model.add(Dense(units=4096))\n",
        "    model.add(Activation('relu'))\n",
        "    model.add(Dropout(0.5))\n",
        "\n",
        "    # Output layer\n",
        "    model.add(Dense(units=num_classes))\n",
        "    model.add(Activation('softmax'))\n",
        "\n",
        "    return model"
      ]
    },
    {
      "cell_type": "code",
      "execution_count": null,
      "id": "f1e70814",
      "metadata": {
        "colab": {
          "base_uri": "https://localhost:8080/"
        },
        "id": "f1e70814",
        "outputId": "61bc6713-ed11-4af0-d507-f82d70adbe9d"
      },
      "outputs": [
        {
          "output_type": "stream",
          "name": "stdout",
          "text": [
            "Epoch 1/10\n",
            "391/391 [==============================] - 17s 34ms/step - loss: 22.6410 - accuracy: 0.3736 - val_loss: 8.7126 - val_accuracy: 0.1008\n",
            "Epoch 2/10\n",
            "391/391 [==============================] - 13s 33ms/step - loss: 6.2326 - accuracy: 0.5034 - val_loss: 5.9346 - val_accuracy: 0.4575\n",
            "Epoch 3/10\n",
            "391/391 [==============================] - 13s 34ms/step - loss: 4.4584 - accuracy: 0.5921 - val_loss: 3.9346 - val_accuracy: 0.5675\n",
            "Epoch 4/10\n",
            "391/391 [==============================] - 13s 33ms/step - loss: 3.5072 - accuracy: 0.6341 - val_loss: 3.8564 - val_accuracy: 0.5348\n",
            "Epoch 5/10\n",
            "391/391 [==============================] - 13s 34ms/step - loss: 3.2474 - accuracy: 0.6623 - val_loss: 3.3687 - val_accuracy: 0.6147\n",
            "Epoch 6/10\n",
            "391/391 [==============================] - 13s 34ms/step - loss: 3.1803 - accuracy: 0.6805 - val_loss: 3.4578 - val_accuracy: 0.6169\n",
            "Epoch 7/10\n",
            "391/391 [==============================] - 14s 36ms/step - loss: 3.1514 - accuracy: 0.7013 - val_loss: 3.3389 - val_accuracy: 0.6406\n",
            "Epoch 8/10\n",
            "391/391 [==============================] - 13s 33ms/step - loss: 3.1332 - accuracy: 0.7154 - val_loss: 3.5056 - val_accuracy: 0.6053\n",
            "Epoch 9/10\n",
            "391/391 [==============================] - 13s 34ms/step - loss: 3.1093 - accuracy: 0.7299 - val_loss: 3.7280 - val_accuracy: 0.5863\n",
            "Epoch 10/10\n",
            "391/391 [==============================] - 13s 33ms/step - loss: 3.0713 - accuracy: 0.7409 - val_loss: 3.4448 - val_accuracy: 0.6353\n",
            "Test accuracy: 0.6352999806404114\n"
          ]
        }
      ],
      "source": [
        "# Compile the model\n",
        "model_convolution2 = secondCNN(input_shape=(32, 32, 3), num_classes=10)\n",
        "model_convolution2.compile(optimizer='adam', loss='categorical_crossentropy', metrics=['accuracy'])\n",
        "\n",
        "# Train the model\n",
        "history_secondCNN = model_convolution2.fit(x_train, y_train, epochs=10, batch_size=128, validation_data=(x_test, y_test))\n",
        "\n",
        "# Evaluate the model\n",
        "score = model_convolution2.evaluate(x_test, y_test, verbose=0)\n",
        "print('Test accuracy:', score[1])"
      ]
    },
    {
      "cell_type": "markdown",
      "source": [
        "With a training accuracy of 74% and test accuracy of 63% we have reduced the overfitting quite a lot, but this was at the expense of less training accuracy."
      ],
      "metadata": {
        "id": "gb_qVJr8dC-V"
      },
      "id": "gb_qVJr8dC-V"
    },
    {
      "cell_type": "code",
      "execution_count": null,
      "id": "c0695500",
      "metadata": {
        "id": "c0695500"
      },
      "outputs": [],
      "source": [
        "df_ConvolutionCNN2 = pd.DataFrame(history_secondCNN.history)"
      ]
    },
    {
      "cell_type": "code",
      "source": [
        "df_ConvolutionCNN2[['accuracy','val_accuracy']].plot()"
      ],
      "metadata": {
        "colab": {
          "base_uri": "https://localhost:8080/",
          "height": 448
        },
        "id": "6eD72JWad4mS",
        "outputId": "160920ef-858c-4d94-b648-7a1d350d486e"
      },
      "id": "6eD72JWad4mS",
      "execution_count": null,
      "outputs": [
        {
          "output_type": "execute_result",
          "data": {
            "text/plain": [
              "<Axes: >"
            ]
          },
          "metadata": {},
          "execution_count": 14
        },
        {
          "output_type": "display_data",
          "data": {
            "text/plain": [
              "<Figure size 640x480 with 1 Axes>"
            ],
            "image/png": "[encoded data removed]"
          },
          "metadata": {}
        }
      ]
    },
    {
      "cell_type": "code",
      "source": [
        "df_ConvolutionCNN2[['loss','val_loss']].plot()"
      ],
      "metadata": {
        "colab": {
          "base_uri": "https://localhost:8080/",
          "height": 448
        },
        "id": "fTHDYXBWd6Z5",
        "outputId": "c3410cf4-a67a-4ad4-b4e2-4a15da8a1aff"
      },
      "id": "fTHDYXBWd6Z5",
      "execution_count": null,
      "outputs": [
        {
          "output_type": "execute_result",
          "data": {
            "text/plain": [
              "<Axes: >"
            ]
          },
          "metadata": {},
          "execution_count": 15
        },
        {
          "output_type": "display_data",
          "data": {
            "text/plain": [
              "<Figure size 640x480 with 1 Axes>"
            ],
            "image/png": "[encoded data removed]"
          },
          "metadata": {}
        }
      ]
    },
    {
      "cell_type": "markdown",
      "source": [
        "### CNN model 3\n",
        "\n",
        "In this model, we have updated the kernel size of layer 2 as 3X3 and also used LeakyRelu activation function instead of relu for all the four convolution layers"
      ],
      "metadata": {
        "id": "xrqrZAJzelwf"
      },
      "id": "xrqrZAJzelwf"
    },
    {
      "cell_type": "code",
      "source": [
        "def thirdCNN(input_shape, num_classes):\n",
        "    model = Sequential()\n",
        "\n",
        "    # First convolutional layer\n",
        "    model.add(Conv2D(filters=96, kernel_size=(3, 3), strides=(1, 1), padding='same', input_shape=input_shape,kernel_regularizer=l2(0.01)))\n",
        "    model.add(LeakyReLU(alpha=0.1))\n",
        "    model.add(MaxPooling2D(pool_size=(2, 2), strides=(2, 2)))\n",
        "    model.add(tf.keras.layers.BatchNormalization())\n",
        "\n",
        "    # Second convolutional layer\n",
        "    model.add(Conv2D(filters=256, kernel_size=(3, 3), strides=(1, 1), padding='same',input_shape=input_shape,kernel_regularizer=l2(0.01)))\n",
        "    model.add(LeakyReLU(alpha=0.1))\n",
        "    model.add(MaxPooling2D(pool_size=(2, 2), strides=(2, 2)))\n",
        "    model.add(tf.keras.layers.BatchNormalization())\n",
        "\n",
        "    # Third convolutional layer\n",
        "    model.add(Conv2D(filters=384, kernel_size=(3, 3), strides=(1, 1), padding='same',input_shape=input_shape,kernel_regularizer=l1(0.01)))\n",
        "    model.add(LeakyReLU(alpha=0.1))\n",
        "    model.add(tf.keras.layers.BatchNormalization())\n",
        "\n",
        "    # Fourth convolutional layer\n",
        "    model.add(Conv2D(filters=256, kernel_size=(3, 3), strides=(1, 1), padding='same',input_shape=input_shape,kernel_regularizer=l1(0.01)))\n",
        "    model.add(LeakyReLU(alpha=0.1))\n",
        "    model.add(MaxPooling2D(pool_size=(2, 2), strides=(2, 2)))\n",
        "    model.add(tf.keras.layers.BatchNormalization())\n",
        "\n",
        "    # Flatten the output of the fifth convolutional layer\n",
        "    model.add(Flatten())\n",
        "\n",
        "    # First fully connected layer\n",
        "    model.add(Dense(units=4096))\n",
        "    model.add(Activation('relu'))\n",
        "    model.add(Dropout(0.5))\n",
        "\n",
        "    # Output layer\n",
        "    model.add(Dense(units=num_classes))\n",
        "    model.add(Activation('softmax'))\n",
        "\n",
        "    return model"
      ],
      "metadata": {
        "id": "VXMYoq86d9Pt"
      },
      "id": "VXMYoq86d9Pt",
      "execution_count": null,
      "outputs": []
    },
    {
      "cell_type": "code",
      "source": [
        "# Compile the model\n",
        "model_convolution3 = thirdCNN(input_shape=(32, 32, 3), num_classes=10)\n",
        "model_convolution3.compile(optimizer='adam', loss='categorical_crossentropy', metrics=['accuracy'])\n",
        "\n",
        "# Train the model\n",
        "history_thirdCNN = model_convolution3.fit(x_train, y_train, epochs=10, batch_size=128, validation_data=(x_test, y_test))\n",
        "\n",
        "# Evaluate the model\n",
        "score = model_convolution3.evaluate(x_test, y_test, verbose=0)\n",
        "print('Test accuracy:', score[1])"
      ],
      "metadata": {
        "colab": {
          "base_uri": "https://localhost:8080/"
        },
        "id": "_0FXcUUSeSL9",
        "outputId": "659e4b17-ee7c-4e5e-a7bf-fa0295b2d358"
      },
      "id": "_0FXcUUSeSL9",
      "execution_count": null,
      "outputs": [
        {
          "output_type": "stream",
          "name": "stdout",
          "text": [
            "Epoch 1/10\n",
            "391/391 [==============================] - 18s 35ms/step - loss: 22.6884 - accuracy: 0.3704 - val_loss: 12.6745 - val_accuracy: 0.1000\n",
            "Epoch 2/10\n",
            "391/391 [==============================] - 14s 35ms/step - loss: 6.9313 - accuracy: 0.4949 - val_loss: 7.4298 - val_accuracy: 0.2668\n",
            "Epoch 3/10\n",
            "391/391 [==============================] - 14s 35ms/step - loss: 5.4037 - accuracy: 0.5724 - val_loss: 5.6329 - val_accuracy: 0.4599\n",
            "Epoch 4/10\n",
            "391/391 [==============================] - 14s 35ms/step - loss: 4.4852 - accuracy: 0.6170 - val_loss: 4.2126 - val_accuracy: 0.5901\n",
            "Epoch 5/10\n",
            "391/391 [==============================] - 13s 34ms/step - loss: 3.6376 - accuracy: 0.6419 - val_loss: 4.3306 - val_accuracy: 0.4519\n",
            "Epoch 6/10\n",
            "391/391 [==============================] - 13s 33ms/step - loss: 3.3638 - accuracy: 0.6636 - val_loss: 4.6790 - val_accuracy: 0.4018\n",
            "Epoch 7/10\n",
            "391/391 [==============================] - 13s 33ms/step - loss: 3.2373 - accuracy: 0.6858 - val_loss: 3.3641 - val_accuracy: 0.6369\n",
            "Epoch 8/10\n",
            "391/391 [==============================] - 13s 33ms/step - loss: 3.2168 - accuracy: 0.7018 - val_loss: 3.3700 - val_accuracy: 0.6573\n",
            "Epoch 9/10\n",
            "391/391 [==============================] - 13s 34ms/step - loss: 3.2046 - accuracy: 0.7169 - val_loss: 3.6104 - val_accuracy: 0.6052\n",
            "Epoch 10/10\n",
            "391/391 [==============================] - 13s 33ms/step - loss: 3.1713 - accuracy: 0.7332 - val_loss: 4.0048 - val_accuracy: 0.5239\n",
            "Test accuracy: 0.5238999724388123\n"
          ]
        }
      ]
    },
    {
      "cell_type": "markdown",
      "source": [
        "Test accuracy: 52.3%\n",
        "Training accuracy of 73.3%"
      ],
      "metadata": {
        "id": "cYCXX2rafHx1"
      },
      "id": "cYCXX2rafHx1"
    },
    {
      "cell_type": "markdown",
      "source": [
        "The testing accuracy dropped!"
      ],
      "metadata": {
        "id": "hiPkF4ZlfPYA"
      },
      "id": "hiPkF4ZlfPYA"
    },
    {
      "cell_type": "code",
      "source": [
        "df_ConvolutionCNN3 = pd.DataFrame(history_thirdCNN.history)"
      ],
      "metadata": {
        "id": "BfLeknSKgX46"
      },
      "id": "BfLeknSKgX46",
      "execution_count": null,
      "outputs": []
    },
    {
      "cell_type": "code",
      "source": [
        "df_ConvolutionCNN3[['accuracy','val_accuracy']].plot()"
      ],
      "metadata": {
        "colab": {
          "base_uri": "https://localhost:8080/",
          "height": 448
        },
        "id": "njnroRS8gdnj",
        "outputId": "8955b3cf-9ea3-441e-9b61-afcd125c3321"
      },
      "id": "njnroRS8gdnj",
      "execution_count": null,
      "outputs": [
        {
          "output_type": "execute_result",
          "data": {
            "text/plain": [
              "<Axes: >"
            ]
          },
          "metadata": {},
          "execution_count": 23
        },
        {
          "output_type": "display_data",
          "data": {
            "text/plain": [
              "<Figure size 640x480 with 1 Axes>"
            ],
            "image/png": "[encoded data removed]"
          },
          "metadata": {}
        }
      ]
    },
    {
      "cell_type": "code",
      "source": [
        "df_ConvolutionCNN3[['loss','val_loss']].plot()"
      ],
      "metadata": {
        "colab": {
          "base_uri": "https://localhost:8080/",
          "height": 448
        },
        "id": "7svj4jWAgf_4",
        "outputId": "486b84ef-4075-40f4-889c-77865a4d532f"
      },
      "id": "7svj4jWAgf_4",
      "execution_count": null,
      "outputs": [
        {
          "output_type": "execute_result",
          "data": {
            "text/plain": [
              "<Axes: >"
            ]
          },
          "metadata": {},
          "execution_count": 24
        },
        {
          "output_type": "display_data",
          "data": {
            "text/plain": [
              "<Figure size 640x480 with 1 Axes>"
            ],
            "image/png": "[encoded data removed]"
          },
          "metadata": {}
        }
      ]
    },
    {
      "cell_type": "markdown",
      "source": [
        "#### Model 4\n",
        "\n",
        "We will add additional convolution layers with higher number of filters.\n",
        "Also added dropout layer in third and fifth activation function with a dropout value of 0.2"
      ],
      "metadata": {
        "id": "GL0vHhGBfUEQ"
      },
      "id": "GL0vHhGBfUEQ"
    },
    {
      "cell_type": "code",
      "source": [
        "def fourthCNN(input_shape, num_classes):\n",
        "    model = Sequential()\n",
        "\n",
        "    # First convolutional layer\n",
        "    model.add(Conv2D(filters=128, kernel_size=(3, 3), strides=(1, 1), padding='same', input_shape=input_shape,kernel_regularizer=l2(0.01)))\n",
        "    model.add(LeakyReLU(alpha=0.1))\n",
        "    model.add(MaxPooling2D(pool_size=(2, 2), strides=(2, 2)))\n",
        "    model.add(tf.keras.layers.BatchNormalization())\n",
        "\n",
        "    # Second convolutional layer\n",
        "    model.add(Conv2D(filters=256, kernel_size=(3, 3), strides=(1, 1), padding='same',input_shape=input_shape,kernel_regularizer=l2(0.01)))\n",
        "    model.add(LeakyReLU(alpha=0.1))\n",
        "    model.add(MaxPooling2D(pool_size=(2, 2), strides=(2, 2)))\n",
        "    model.add(tf.keras.layers.BatchNormalization())\n",
        "\n",
        "    # Third convolutional layer\n",
        "    model.add(Conv2D(filters=512, kernel_size=(3, 3), strides=(1, 1), padding='same',input_shape=input_shape,kernel_regularizer=l2(0.01)))\n",
        "    model.add(LeakyReLU(alpha=0.1))\n",
        "    model.add(tf.keras.layers.BatchNormalization())\n",
        "    model.add(Dropout(0.2))\n",
        "\n",
        "    # Fourth convolutional layer\n",
        "    model.add(Conv2D(filters=256, kernel_size=(3, 3), strides=(1, 1), padding='same',input_shape=input_shape,kernel_regularizer=l2(0.01)))\n",
        "    model.add(LeakyReLU(alpha=0.1))\n",
        "    model.add(MaxPooling2D(pool_size=(2, 2), strides=(2, 2)))\n",
        "    model.add(tf.keras.layers.BatchNormalization())\n",
        "\n",
        "    # Fifth convolutional layer\n",
        "    model.add(Conv2D(filters=512, kernel_size=(3, 3), strides=(1, 1), padding='same',input_shape=input_shape,kernel_regularizer=l1(0.01)))\n",
        "    model.add(LeakyReLU(alpha=0.1))\n",
        "    model.add(MaxPooling2D(pool_size=(2, 2), strides=(2, 2)))\n",
        "    model.add(tf.keras.layers.BatchNormalization())\n",
        "    model.add(Dropout(0.2))\n",
        "\n",
        "    # Flatten the output of the fifth convolutional layer\n",
        "    model.add(Flatten())\n",
        "\n",
        "    # First fully connected layer\n",
        "    model.add(Dense(units=4096))\n",
        "    model.add(Activation('relu'))\n",
        "    model.add(Dropout(0.2))\n",
        "\n",
        "    # Output layer\n",
        "    model.add(Dense(units=num_classes))\n",
        "    model.add(Activation('softmax'))\n",
        "\n",
        "    return model"
      ],
      "metadata": {
        "id": "k7Aogg6WeZvq"
      },
      "id": "k7Aogg6WeZvq",
      "execution_count": null,
      "outputs": []
    },
    {
      "cell_type": "code",
      "source": [
        "# Compile the model\n",
        "model_convolution4 = fourthCNN(input_shape=(32, 32, 3), num_classes=10)\n",
        "model_convolution4.compile(optimizer='adam', loss='categorical_crossentropy', metrics=['accuracy'])\n",
        "\n",
        "# Train the model\n",
        "history_fourthCNN = model_convolution4.fit(x_train, y_train, epochs=10, batch_size=128, validation_data=(x_test, y_test))\n",
        "\n",
        "# Evaluate the model\n",
        "score = model_convolution4.evaluate(x_test, y_test, verbose=0)\n",
        "print('Test accuracy:', score[1])"
      ],
      "metadata": {
        "colab": {
          "base_uri": "https://localhost:8080/"
        },
        "id": "oW_4EcLif2mY",
        "outputId": "c20d03e2-0c6f-49c8-97f5-b16f62ca6542"
      },
      "id": "oW_4EcLif2mY",
      "execution_count": null,
      "outputs": [
        {
          "output_type": "stream",
          "name": "stdout",
          "text": [
            "Epoch 1/10\n",
            "391/391 [==============================] - 27s 51ms/step - loss: 15.6977 - accuracy: 0.4330 - val_loss: 10.7928 - val_accuracy: 0.1000\n",
            "Epoch 2/10\n",
            "391/391 [==============================] - 18s 47ms/step - loss: 5.9318 - accuracy: 0.5433 - val_loss: 7.6404 - val_accuracy: 0.3825\n",
            "Epoch 3/10\n",
            "391/391 [==============================] - 18s 46ms/step - loss: 5.9432 - accuracy: 0.5880 - val_loss: 5.3139 - val_accuracy: 0.5417\n",
            "Epoch 4/10\n",
            "391/391 [==============================] - 18s 47ms/step - loss: 4.9400 - accuracy: 0.6154 - val_loss: 5.3763 - val_accuracy: 0.3848\n",
            "Epoch 5/10\n",
            "391/391 [==============================] - 18s 47ms/step - loss: 4.3369 - accuracy: 0.6344 - val_loss: 5.3137 - val_accuracy: 0.3575\n",
            "Epoch 6/10\n",
            "391/391 [==============================] - 19s 50ms/step - loss: 3.9825 - accuracy: 0.6531 - val_loss: 4.2022 - val_accuracy: 0.5394\n",
            "Epoch 7/10\n",
            "391/391 [==============================] - 19s 48ms/step - loss: 3.7278 - accuracy: 0.6698 - val_loss: 3.9861 - val_accuracy: 0.5844\n",
            "Epoch 8/10\n",
            "391/391 [==============================] - 20s 52ms/step - loss: 3.5221 - accuracy: 0.6889 - val_loss: 3.9083 - val_accuracy: 0.5647\n",
            "Epoch 9/10\n",
            "391/391 [==============================] - 18s 47ms/step - loss: 3.3879 - accuracy: 0.6973 - val_loss: 3.8579 - val_accuracy: 0.5289\n",
            "Epoch 10/10\n",
            "391/391 [==============================] - 18s 46ms/step - loss: 3.2824 - accuracy: 0.7076 - val_loss: 3.6122 - val_accuracy: 0.5886\n",
            "Test accuracy: 0.5885999798774719\n"
          ]
        }
      ]
    },
    {
      "cell_type": "markdown",
      "source": [
        "Training accuracy: 70.76%\n",
        "Test accuracy: 58.8%"
      ],
      "metadata": {
        "id": "aawD4OaGijVQ"
      },
      "id": "aawD4OaGijVQ"
    },
    {
      "cell_type": "code",
      "source": [
        "df_ConvolutionCNN4 = pd.DataFrame(history_fourthCNN.history)"
      ],
      "metadata": {
        "id": "CcyQROEziXpc"
      },
      "id": "CcyQROEziXpc",
      "execution_count": null,
      "outputs": []
    },
    {
      "cell_type": "code",
      "source": [
        "df_ConvolutionCNN4[['accuracy','val_accuracy']].plot()"
      ],
      "metadata": {
        "colab": {
          "base_uri": "https://localhost:8080/",
          "height": 448
        },
        "id": "5W_Jpj6bib5i",
        "outputId": "f97ce142-f59d-48aa-992f-cd2a9199a147"
      },
      "id": "5W_Jpj6bib5i",
      "execution_count": null,
      "outputs": [
        {
          "output_type": "execute_result",
          "data": {
            "text/plain": [
              "<Axes: >"
            ]
          },
          "metadata": {},
          "execution_count": 32
        },
        {
          "output_type": "display_data",
          "data": {
            "text/plain": [
              "<Figure size 640x480 with 1 Axes>"
            ],
            "image/png": "[encoded data removed]"
          },
          "metadata": {}
        }
      ]
    },
    {
      "cell_type": "code",
      "source": [
        "df_ConvolutionCNN4[['loss','val_loss']].plot()"
      ],
      "metadata": {
        "colab": {
          "base_uri": "https://localhost:8080/",
          "height": 448
        },
        "id": "nTW8pMeIiddz",
        "outputId": "d7e7ac3f-85e3-4997-d564-9a70d8d20c8e"
      },
      "id": "nTW8pMeIiddz",
      "execution_count": null,
      "outputs": [
        {
          "output_type": "execute_result",
          "data": {
            "text/plain": [
              "<Axes: >"
            ]
          },
          "metadata": {},
          "execution_count": 33
        },
        {
          "output_type": "display_data",
          "data": {
            "text/plain": [
              "<Figure size 640x480 with 1 Axes>"
            ],
            "image/png": "[encoded data removed]"
          },
          "metadata": {}
        }
      ]
    },
    {
      "cell_type": "markdown",
      "source": [
        "#### Model 5\n",
        "\n",
        "In this model, we'll change the architecture of the whole CNN models used before. Here we will use two {convolution layer, batchNormalization layer} before one pooling layer in the first and second layer. Only one pair of {convolution layer, batchNormalization layer} for third layer."
      ],
      "metadata": {
        "id": "qmPtf9h_hRbv"
      },
      "id": "qmPtf9h_hRbv"
    },
    {
      "cell_type": "code",
      "source": [
        "def fifthCNN(input_shape, num_classes):\n",
        "\n",
        "  # First Convolution Layer\n",
        "  model = Sequential()\n",
        "  model.add(Conv2D(32, (3, 3), padding='same',\n",
        "                  input_shape=x_train.shape[1:]))\n",
        "  model.add(Activation('relu'))\n",
        "  model.add(tf.keras.layers.BatchNormalization())\n",
        "  model.add(Conv2D(32, (3, 3)))\n",
        "  model.add(Activation('relu'))\n",
        "  model.add(tf.keras.layers.BatchNormalization())\n",
        "  model.add(MaxPooling2D(pool_size=(2, 2)))\n",
        "  model.add(Dropout(0.20))\n",
        "\n",
        "  #Second Colvolution Layer\n",
        "  model.add(Conv2D(64, (3, 3), padding='same'))\n",
        "  model.add(Activation('relu'))\n",
        "  model.add(tf.keras.layers.BatchNormalization())\n",
        "  model.add(Conv2D(64, (3, 3)))\n",
        "  model.add(Activation('relu'))\n",
        "  model.add(tf.keras.layers.BatchNormalization())\n",
        "  model.add(MaxPooling2D(pool_size=(2, 2)))\n",
        "  model.add(Dropout(0.20))\n",
        "\n",
        "  #Third Convolution layer\n",
        "  model.add(Conv2D(128, (3, 3), padding='same'))\n",
        "  model.add(Activation('relu'))\n",
        "  model.add(tf.keras.layers.BatchNormalization())\n",
        "  model.add(MaxPooling2D(pool_size=(2, 2)))\n",
        "  model.add(Dropout(0.20))\n",
        "\n",
        "  model.add(Flatten())\n",
        "  model.add(Dense(512,kernel_regularizer=l2(0.01)))\n",
        "  model.add(Activation('relu'))\n",
        "  model.add(Dropout(0.5))\n",
        "  model.add(Dense(num_classes))\n",
        "  model.add(Activation('softmax'))\n",
        "\n",
        "  return model"
      ],
      "metadata": {
        "id": "bGyQtOXof7m7"
      },
      "id": "bGyQtOXof7m7",
      "execution_count": null,
      "outputs": []
    },
    {
      "cell_type": "code",
      "source": [
        "# Compile the model\n",
        "model_convolution5 = fifthCNN(input_shape=(32, 32, 3), num_classes=10)\n",
        "model_convolution5.compile(optimizer='adam', loss='categorical_crossentropy', metrics=['accuracy'])\n",
        "\n",
        "# Train the model\n",
        "history_fifthCNN = model_convolution5.fit(x_train, y_train, epochs=10, batch_size=128, validation_data=(x_test, y_test))\n",
        "\n",
        "# Evaluate the model\n",
        "score = model_convolution5.evaluate(x_test, y_test, verbose=0)\n",
        "print('Test accuracy:', score[1])"
      ],
      "metadata": {
        "colab": {
          "base_uri": "https://localhost:8080/"
        },
        "id": "uJhLdQR2iDUd",
        "outputId": "b496513e-ca3c-4450-d1fe-5a6deef9b08e"
      },
      "id": "uJhLdQR2iDUd",
      "execution_count": null,
      "outputs": [
        {
          "output_type": "stream",
          "name": "stdout",
          "text": [
            "Epoch 1/10\n",
            "391/391 [==============================] - 15s 22ms/step - loss: 3.2770 - accuracy: 0.4681 - val_loss: 2.5551 - val_accuracy: 0.3252\n",
            "Epoch 2/10\n",
            "391/391 [==============================] - 8s 20ms/step - loss: 1.2525 - accuracy: 0.6276 - val_loss: 1.2627 - val_accuracy: 0.6050\n",
            "Epoch 3/10\n",
            "391/391 [==============================] - 9s 24ms/step - loss: 1.0351 - accuracy: 0.6925 - val_loss: 0.9849 - val_accuracy: 0.7136\n",
            "Epoch 4/10\n",
            "391/391 [==============================] - 9s 22ms/step - loss: 0.9240 - accuracy: 0.7336 - val_loss: 1.0418 - val_accuracy: 0.6930\n",
            "Epoch 5/10\n",
            "391/391 [==============================] - 8s 22ms/step - loss: 0.8536 - accuracy: 0.7630 - val_loss: 0.9679 - val_accuracy: 0.7298\n",
            "Epoch 6/10\n",
            "391/391 [==============================] - 9s 23ms/step - loss: 0.7963 - accuracy: 0.7843 - val_loss: 0.9188 - val_accuracy: 0.7424\n",
            "Epoch 7/10\n",
            "391/391 [==============================] - 8s 20ms/step - loss: 0.7597 - accuracy: 0.7988 - val_loss: 0.8096 - val_accuracy: 0.7802\n",
            "Epoch 8/10\n",
            "391/391 [==============================] - 8s 21ms/step - loss: 0.7199 - accuracy: 0.8127 - val_loss: 0.9067 - val_accuracy: 0.7632\n",
            "Epoch 9/10\n",
            "391/391 [==============================] - 9s 22ms/step - loss: 0.6932 - accuracy: 0.8222 - val_loss: 0.7817 - val_accuracy: 0.7932\n",
            "Epoch 10/10\n",
            "391/391 [==============================] - 9s 22ms/step - loss: 0.6664 - accuracy: 0.8328 - val_loss: 0.8774 - val_accuracy: 0.7747\n",
            "Test accuracy: 0.7746999859809875\n"
          ]
        }
      ]
    },
    {
      "cell_type": "markdown",
      "source": [
        "Training accuracy: 83.2%\n",
        "\n",
        "Testing accuracy: 77.4%"
      ],
      "metadata": {
        "id": "VJgcnn1QnqhV"
      },
      "id": "VJgcnn1QnqhV"
    },
    {
      "cell_type": "code",
      "source": [
        "df_ConvolutionCNN5 = pd.DataFrame(history_fifthCNN.history)\n",
        "df_ConvolutionCNN5[['accuracy','val_accuracy']].plot()"
      ],
      "metadata": {
        "colab": {
          "base_uri": "https://localhost:8080/",
          "height": 448
        },
        "id": "lx6RmZwpjvmo",
        "outputId": "d5098f09-f3ba-418e-a31b-8c1f7416e561"
      },
      "id": "lx6RmZwpjvmo",
      "execution_count": null,
      "outputs": [
        {
          "output_type": "execute_result",
          "data": {
            "text/plain": [
              "<Axes: >"
            ]
          },
          "metadata": {},
          "execution_count": 29
        },
        {
          "output_type": "display_data",
          "data": {
            "text/plain": [
              "<Figure size 640x480 with 1 Axes>"
            ],
            "image/png": "[encoded data removed]"
          },
          "metadata": {}
        }
      ]
    },
    {
      "cell_type": "code",
      "source": [
        "df_ConvolutionCNN5[['loss','val_loss']].plot()"
      ],
      "metadata": {
        "colab": {
          "base_uri": "https://localhost:8080/",
          "height": 448
        },
        "id": "RvclQ1FMj0Yt",
        "outputId": "4a180736-3781-4903-bf6c-77270332af78"
      },
      "id": "RvclQ1FMj0Yt",
      "execution_count": null,
      "outputs": [
        {
          "output_type": "execute_result",
          "data": {
            "text/plain": [
              "<Axes: >"
            ]
          },
          "metadata": {},
          "execution_count": 30
        },
        {
          "output_type": "display_data",
          "data": {
            "text/plain": [
              "<Figure size 640x480 with 1 Axes>"
            ],
            "image/png": "[encoded data removed]"
          },
          "metadata": {}
        }
      ]
    },
    {
      "cell_type": "markdown",
      "source": [
        "#### Model 6\n",
        "\n",
        "Here we will use 2 pairs of {convolution layer, batchNormalization layer} in the third layer as well. \n",
        "\n",
        "From the graphs of model 5, we can see that this model works well. So for model 6, total number of epochs = 50."
      ],
      "metadata": {
        "id": "xs-lBA6xj4TP"
      },
      "id": "xs-lBA6xj4TP"
    },
    {
      "cell_type": "code",
      "source": [
        "def sixthCNN(input_shape, num_classes):\n",
        "\n",
        "  # First Convolution Layer\n",
        "  model = Sequential()\n",
        "  model.add(Conv2D(32, (3, 3), padding='same',\n",
        "                  input_shape=x_train.shape[1:]))\n",
        "  model.add(Activation('relu'))\n",
        "  model.add(tf.keras.layers.BatchNormalization())\n",
        "  model.add(Conv2D(32, (3, 3)))\n",
        "  model.add(Activation('relu'))\n",
        "  model.add(tf.keras.layers.BatchNormalization())\n",
        "  model.add(MaxPooling2D(pool_size=(2, 2)))\n",
        "  model.add(Dropout(0.20))\n",
        "\n",
        "  #Second Colvolution Layer\n",
        "  model.add(Conv2D(64, (3, 3), padding='same'))\n",
        "  model.add(Activation('relu'))\n",
        "  model.add(tf.keras.layers.BatchNormalization())\n",
        "  model.add(Conv2D(64, (3, 3)))\n",
        "  model.add(Activation('relu'))\n",
        "  model.add(tf.keras.layers.BatchNormalization())\n",
        "  model.add(MaxPooling2D(pool_size=(2, 2)))\n",
        "  model.add(Dropout(0.20))\n",
        "\n",
        "  #Third Convolution layer\n",
        "  model.add(Conv2D(128, (3, 3), padding='same'))\n",
        "  model.add(Activation('relu'))\n",
        "  model.add(tf.keras.layers.BatchNormalization())\n",
        "  model.add(Conv2D(128, (3, 3)))\n",
        "  model.add(Activation('relu'))\n",
        "  model.add(tf.keras.layers.BatchNormalization())\n",
        "  model.add(MaxPooling2D(pool_size=(2, 2)))\n",
        "  model.add(Dropout(0.20))\n",
        "\n",
        "  #First Fully Connected layer\n",
        "  model.add(Flatten())\n",
        "  model.add(Dense(512,kernel_regularizer=l2(0.01)))\n",
        "  model.add(Activation('relu'))\n",
        "  model.add(Dropout(0.5))\n",
        "  model.add(Dense(num_classes))\n",
        "  model.add(Activation('softmax'))\n",
        "\n",
        "  return model"
      ],
      "metadata": {
        "id": "1tFM-yj-iQxL"
      },
      "id": "1tFM-yj-iQxL",
      "execution_count": null,
      "outputs": []
    },
    {
      "cell_type": "code",
      "source": [
        "# Compile the model\n",
        "model_convolution6 = sixthCNN(input_shape=(32, 32, 3), num_classes=10)\n",
        "model_convolution6.compile(optimizer='adam', loss='categorical_crossentropy', metrics=['accuracy'])\n",
        "\n",
        "# Train the model\n",
        "history_sixthCNN = model_convolution6.fit(x_train, y_train, epochs=50, batch_size=128, validation_data=(x_test, y_test))\n",
        "\n",
        "# Evaluate the model\n",
        "score = model_convolution6.evaluate(x_test, y_test, verbose=0)\n",
        "print('Test accuracy:', score[1])"
      ],
      "metadata": {
        "colab": {
          "base_uri": "https://localhost:8080/"
        },
        "id": "WG0986Ngje-Q",
        "outputId": "eb75b5af-2acb-4a80-f23b-57f0fecce5ab"
      },
      "id": "WG0986Ngje-Q",
      "execution_count": null,
      "outputs": [
        {
          "output_type": "stream",
          "name": "stdout",
          "text": [
            "Epoch 1/50\n",
            "391/391 [==============================] - 13s 22ms/step - loss: 3.3493 - accuracy: 0.4483 - val_loss: 2.8244 - val_accuracy: 0.2488\n",
            "Epoch 2/50\n",
            "391/391 [==============================] - 8s 20ms/step - loss: 1.2629 - accuracy: 0.6272 - val_loss: 1.2174 - val_accuracy: 0.6274\n",
            "Epoch 3/50\n",
            "391/391 [==============================] - 7s 19ms/step - loss: 1.0280 - accuracy: 0.6918 - val_loss: 1.1232 - val_accuracy: 0.6634\n",
            "Epoch 4/50\n",
            "391/391 [==============================] - 8s 20ms/step - loss: 0.9165 - accuracy: 0.7344 - val_loss: 1.2983 - val_accuracy: 0.6283\n",
            "Epoch 5/50\n",
            "391/391 [==============================] - 7s 19ms/step - loss: 0.8408 - accuracy: 0.7643 - val_loss: 0.8312 - val_accuracy: 0.7715\n",
            "Epoch 6/50\n",
            "391/391 [==============================] - 8s 20ms/step - loss: 0.7988 - accuracy: 0.7800 - val_loss: 0.9171 - val_accuracy: 0.7455\n",
            "Epoch 7/50\n",
            "391/391 [==============================] - 8s 20ms/step - loss: 0.7529 - accuracy: 0.7976 - val_loss: 0.8098 - val_accuracy: 0.7826\n",
            "Epoch 8/50\n",
            "391/391 [==============================] - 7s 19ms/step - loss: 0.7128 - accuracy: 0.8115 - val_loss: 0.7999 - val_accuracy: 0.7890\n",
            "Epoch 9/50\n",
            "391/391 [==============================] - 9s 22ms/step - loss: 0.6913 - accuracy: 0.8187 - val_loss: 0.7454 - val_accuracy: 0.8043\n",
            "Epoch 10/50\n",
            "391/391 [==============================] - 10s 25ms/step - loss: 0.6607 - accuracy: 0.8327 - val_loss: 0.7761 - val_accuracy: 0.7981\n",
            "Epoch 11/50\n",
            "391/391 [==============================] - 8s 19ms/step - loss: 0.6470 - accuracy: 0.8377 - val_loss: 0.7906 - val_accuracy: 0.7933\n",
            "Epoch 12/50\n",
            "391/391 [==============================] - 8s 20ms/step - loss: 0.6165 - accuracy: 0.8481 - val_loss: 0.7490 - val_accuracy: 0.8136\n",
            "Epoch 13/50\n",
            "391/391 [==============================] - 8s 21ms/step - loss: 0.6021 - accuracy: 0.8555 - val_loss: 0.7302 - val_accuracy: 0.8143\n",
            "Epoch 14/50\n",
            "391/391 [==============================] - 8s 22ms/step - loss: 0.5880 - accuracy: 0.8581 - val_loss: 0.7263 - val_accuracy: 0.8203\n",
            "Epoch 15/50\n",
            "391/391 [==============================] - 10s 25ms/step - loss: 0.5657 - accuracy: 0.8675 - val_loss: 0.8486 - val_accuracy: 0.7872\n",
            "Epoch 16/50\n",
            "391/391 [==============================] - 8s 21ms/step - loss: 0.5609 - accuracy: 0.8703 - val_loss: 0.7457 - val_accuracy: 0.8229\n",
            "Epoch 17/50\n",
            "391/391 [==============================] - 8s 20ms/step - loss: 0.5382 - accuracy: 0.8760 - val_loss: 0.7740 - val_accuracy: 0.8201\n",
            "Epoch 18/50\n",
            "391/391 [==============================] - 8s 20ms/step - loss: 0.5327 - accuracy: 0.8793 - val_loss: 0.7047 - val_accuracy: 0.8331\n",
            "Epoch 19/50\n",
            "391/391 [==============================] - 8s 20ms/step - loss: 0.5193 - accuracy: 0.8851 - val_loss: 0.7675 - val_accuracy: 0.8126\n",
            "Epoch 20/50\n",
            "391/391 [==============================] - 8s 20ms/step - loss: 0.5032 - accuracy: 0.8885 - val_loss: 0.7444 - val_accuracy: 0.8338\n",
            "Epoch 21/50\n",
            "391/391 [==============================] - 8s 20ms/step - loss: 0.5041 - accuracy: 0.8902 - val_loss: 0.6994 - val_accuracy: 0.8339\n",
            "Epoch 22/50\n",
            "391/391 [==============================] - 8s 20ms/step - loss: 0.4969 - accuracy: 0.8921 - val_loss: 0.7815 - val_accuracy: 0.8233\n",
            "Epoch 23/50\n",
            "391/391 [==============================] - 8s 20ms/step - loss: 0.4715 - accuracy: 0.8995 - val_loss: 0.7274 - val_accuracy: 0.8335\n",
            "Epoch 24/50\n",
            "391/391 [==============================] - 8s 19ms/step - loss: 0.4780 - accuracy: 0.8989 - val_loss: 0.8395 - val_accuracy: 0.8031\n",
            "Epoch 25/50\n",
            "391/391 [==============================] - 7s 19ms/step - loss: 0.4694 - accuracy: 0.9021 - val_loss: 0.7419 - val_accuracy: 0.8327\n",
            "Epoch 26/50\n",
            "391/391 [==============================] - 8s 21ms/step - loss: 0.4545 - accuracy: 0.9074 - val_loss: 0.7269 - val_accuracy: 0.8385\n",
            "Epoch 27/50\n",
            "391/391 [==============================] - 8s 19ms/step - loss: 0.4479 - accuracy: 0.9105 - val_loss: 0.7742 - val_accuracy: 0.8250\n",
            "Epoch 28/50\n",
            "391/391 [==============================] - 8s 20ms/step - loss: 0.4520 - accuracy: 0.9089 - val_loss: 0.7162 - val_accuracy: 0.8433\n",
            "Epoch 29/50\n",
            "391/391 [==============================] - 8s 21ms/step - loss: 0.4496 - accuracy: 0.9103 - val_loss: 0.7663 - val_accuracy: 0.8326\n",
            "Epoch 30/50\n",
            "391/391 [==============================] - 8s 19ms/step - loss: 0.4303 - accuracy: 0.9144 - val_loss: 0.7347 - val_accuracy: 0.8377\n",
            "Epoch 31/50\n",
            "391/391 [==============================] - 8s 21ms/step - loss: 0.4260 - accuracy: 0.9165 - val_loss: 0.7523 - val_accuracy: 0.8444\n",
            "Epoch 32/50\n",
            "391/391 [==============================] - 8s 21ms/step - loss: 0.4269 - accuracy: 0.9162 - val_loss: 0.8204 - val_accuracy: 0.8221\n",
            "Epoch 33/50\n",
            "391/391 [==============================] - 8s 19ms/step - loss: 0.4223 - accuracy: 0.9175 - val_loss: 0.7481 - val_accuracy: 0.8416\n",
            "Epoch 34/50\n",
            "391/391 [==============================] - 8s 21ms/step - loss: 0.4213 - accuracy: 0.9178 - val_loss: 0.7802 - val_accuracy: 0.8335\n",
            "Epoch 35/50\n",
            "391/391 [==============================] - 8s 20ms/step - loss: 0.4166 - accuracy: 0.9195 - val_loss: 0.7218 - val_accuracy: 0.8466\n",
            "Epoch 36/50\n",
            "391/391 [==============================] - 8s 20ms/step - loss: 0.4018 - accuracy: 0.9242 - val_loss: 0.6970 - val_accuracy: 0.8497\n",
            "Epoch 37/50\n",
            "391/391 [==============================] - 8s 19ms/step - loss: 0.3982 - accuracy: 0.9263 - val_loss: 0.7585 - val_accuracy: 0.8337\n",
            "Epoch 38/50\n",
            "391/391 [==============================] - 8s 20ms/step - loss: 0.3909 - accuracy: 0.9284 - val_loss: 0.8178 - val_accuracy: 0.8217\n",
            "Epoch 39/50\n",
            "391/391 [==============================] - 8s 20ms/step - loss: 0.3935 - accuracy: 0.9272 - val_loss: 0.7258 - val_accuracy: 0.8523\n",
            "Epoch 40/50\n",
            "391/391 [==============================] - 10s 26ms/step - loss: 0.3847 - accuracy: 0.9296 - val_loss: 0.7516 - val_accuracy: 0.8414\n",
            "Epoch 41/50\n",
            "391/391 [==============================] - 8s 21ms/step - loss: 0.3814 - accuracy: 0.9320 - val_loss: 0.7304 - val_accuracy: 0.8472\n",
            "Epoch 42/50\n",
            "391/391 [==============================] - 8s 21ms/step - loss: 0.3925 - accuracy: 0.9290 - val_loss: 0.7715 - val_accuracy: 0.8353\n",
            "Epoch 43/50\n",
            "391/391 [==============================] - 8s 19ms/step - loss: 0.3760 - accuracy: 0.9334 - val_loss: 0.7172 - val_accuracy: 0.8495\n",
            "Epoch 44/50\n",
            "391/391 [==============================] - 8s 20ms/step - loss: 0.3718 - accuracy: 0.9336 - val_loss: 0.7510 - val_accuracy: 0.8452\n",
            "Epoch 45/50\n",
            "391/391 [==============================] - 9s 24ms/step - loss: 0.3765 - accuracy: 0.9326 - val_loss: 0.7736 - val_accuracy: 0.8378\n",
            "Epoch 46/50\n",
            "391/391 [==============================] - 8s 20ms/step - loss: 0.3719 - accuracy: 0.9342 - val_loss: 0.7700 - val_accuracy: 0.8465\n",
            "Epoch 47/50\n",
            "391/391 [==============================] - 7s 19ms/step - loss: 0.3614 - accuracy: 0.9364 - val_loss: 0.7644 - val_accuracy: 0.8405\n",
            "Epoch 48/50\n",
            "391/391 [==============================] - 8s 20ms/step - loss: 0.3592 - accuracy: 0.9372 - val_loss: 0.8498 - val_accuracy: 0.8157\n",
            "Epoch 49/50\n",
            "391/391 [==============================] - 8s 20ms/step - loss: 0.3636 - accuracy: 0.9372 - val_loss: 0.8480 - val_accuracy: 0.8369\n",
            "Epoch 50/50\n",
            "391/391 [==============================] - 8s 19ms/step - loss: 0.3510 - accuracy: 0.9396 - val_loss: 0.7633 - val_accuracy: 0.8441\n",
            "Test accuracy: 0.8440999984741211\n"
          ]
        }
      ]
    },
    {
      "cell_type": "markdown",
      "source": [
        "Training accuracy: 94%\n",
        "\n",
        "Test Accuracy: 84.4%"
      ],
      "metadata": {
        "id": "kqY1rrJQk9N1"
      },
      "id": "kqY1rrJQk9N1"
    },
    {
      "cell_type": "code",
      "source": [
        "df_ConvolutionCNN6 = pd.DataFrame(history_sixthCNN.history)\n",
        "df_ConvolutionCNN6[['accuracy','val_accuracy']].plot()"
      ],
      "metadata": {
        "colab": {
          "base_uri": "https://localhost:8080/",
          "height": 448
        },
        "id": "X0IHDsbvjm6B",
        "outputId": "330bb3b3-9cb9-4afd-8293-11c179f11123"
      },
      "id": "X0IHDsbvjm6B",
      "execution_count": null,
      "outputs": [
        {
          "output_type": "execute_result",
          "data": {
            "text/plain": [
              "<Axes: >"
            ]
          },
          "metadata": {},
          "execution_count": 36
        },
        {
          "output_type": "display_data",
          "data": {
            "text/plain": [
              "<Figure size 640x480 with 1 Axes>"
            ],
            "image/png": "[encoded data removed]"
          },
          "metadata": {}
        }
      ]
    },
    {
      "cell_type": "code",
      "source": [
        "df_ConvolutionCNN6[['loss','val_loss']].plot()"
      ],
      "metadata": {
        "colab": {
          "base_uri": "https://localhost:8080/",
          "height": 448
        },
        "id": "JIVhOhw9k8uk",
        "outputId": "58907db8-25b3-44c5-8c59-04b1fad7bd4a"
      },
      "id": "JIVhOhw9k8uk",
      "execution_count": null,
      "outputs": [
        {
          "output_type": "execute_result",
          "data": {
            "text/plain": [
              "<Axes: >"
            ]
          },
          "metadata": {},
          "execution_count": 37
        },
        {
          "output_type": "display_data",
          "data": {
            "text/plain": [
              "<Figure size 640x480 with 1 Axes>"
            ],
            "image/png": "[encoded data removed]"
          },
          "metadata": {}
        }
      ]
    },
    {
      "cell_type": "markdown",
      "source": [
        "Model 6 performed really well. With less difference between training and testing accuracy, the model has fitted well."
      ],
      "metadata": {
        "id": "cbkmYMZPm0p8"
      },
      "id": "cbkmYMZPm0p8"
    },
    {
      "cell_type": "markdown",
      "source": [
        "#### Model 7\n",
        "\n",
        "For model 7, let's try to increase the filter size for each convolution layer and see how it performs. Our expected target is to increase the training accuracy by also increasing the testing accuracy."
      ],
      "metadata": {
        "id": "P5KIJ_mYnRzJ"
      },
      "id": "P5KIJ_mYnRzJ"
    },
    {
      "cell_type": "code",
      "source": [
        "def sevenCNN(input_shape, num_classes):\n",
        "\n",
        "  # First Convolution Layer\n",
        "  model = Sequential()\n",
        "  model.add(Conv2D(64, (3, 3), padding='same',\n",
        "                  input_shape=x_train.shape[1:]))\n",
        "  model.add(Activation('relu'))\n",
        "  model.add(tf.keras.layers.BatchNormalization())\n",
        "  model.add(Conv2D(32, (3, 3)))\n",
        "  model.add(Activation('relu'))\n",
        "  model.add(tf.keras.layers.BatchNormalization())\n",
        "  model.add(MaxPooling2D(pool_size=(2, 2)))\n",
        "  model.add(Dropout(0.20))\n",
        "\n",
        "  #Second Colvolution Layer\n",
        "  model.add(Conv2D(128, (3, 3), padding='same'))\n",
        "  model.add(Activation('relu'))\n",
        "  model.add(tf.keras.layers.BatchNormalization())\n",
        "  model.add(Conv2D(64, (3, 3)))\n",
        "  model.add(Activation('relu'))\n",
        "  model.add(tf.keras.layers.BatchNormalization())\n",
        "  model.add(MaxPooling2D(pool_size=(2, 2)))\n",
        "  model.add(Dropout(0.20))\n",
        "\n",
        "  #Third Convolution layer\n",
        "  model.add(Conv2D(256, (3, 3), padding='same'))\n",
        "  model.add(Activation('relu'))\n",
        "  model.add(tf.keras.layers.BatchNormalization())\n",
        "  model.add(Conv2D(128, (3, 3)))\n",
        "  model.add(Activation('relu'))\n",
        "  model.add(tf.keras.layers.BatchNormalization())\n",
        "  model.add(MaxPooling2D(pool_size=(2, 2)))\n",
        "  model.add(Dropout(0.20))\n",
        "\n",
        "  #First Fully Connected layer\n",
        "  model.add(Flatten())\n",
        "  model.add(Dense(512,kernel_regularizer=l2(0.01)))\n",
        "  model.add(Activation('relu'))\n",
        "  model.add(Dropout(0.5))\n",
        "  model.add(Dense(num_classes))\n",
        "  model.add(Activation('softmax'))\n",
        "\n",
        "  return model"
      ],
      "metadata": {
        "id": "5wOMjVpLmWAo"
      },
      "id": "5wOMjVpLmWAo",
      "execution_count": null,
      "outputs": []
    },
    {
      "cell_type": "code",
      "source": [
        "# Compile the model\n",
        "model_convolution7 = sevenCNN(input_shape=(32, 32, 3), num_classes=10)\n",
        "model_convolution7.compile(optimizer='adam', loss='categorical_crossentropy', metrics=['accuracy'])\n",
        "\n",
        "# Train the model\n",
        "history_sevenCNN = model_convolution7.fit(x_train, y_train, epochs=50, batch_size=128, validation_data=(x_test, y_test))\n",
        "\n",
        "# Evaluate the model\n",
        "score = model_convolution7.evaluate(x_test, y_test, verbose=0)\n",
        "print('Test accuracy:', score[1])"
      ],
      "metadata": {
        "colab": {
          "base_uri": "https://localhost:8080/"
        },
        "id": "kxqsJ0mCmi4L",
        "outputId": "53ab1870-db9c-4ccf-8cea-6000abfdf5c8"
      },
      "id": "kxqsJ0mCmi4L",
      "execution_count": null,
      "outputs": [
        {
          "output_type": "stream",
          "name": "stdout",
          "text": [
            "Epoch 1/50\n",
            "391/391 [==============================] - 20s 34ms/step - loss: 3.2707 - accuracy: 0.4636 - val_loss: 2.7512 - val_accuracy: 0.2426\n",
            "Epoch 2/50\n",
            "391/391 [==============================] - 12s 30ms/step - loss: 1.2010 - accuracy: 0.6466 - val_loss: 1.0626 - val_accuracy: 0.6855\n",
            "Epoch 3/50\n",
            "391/391 [==============================] - 12s 30ms/step - loss: 0.9588 - accuracy: 0.7207 - val_loss: 0.9867 - val_accuracy: 0.7117\n",
            "Epoch 4/50\n",
            "391/391 [==============================] - 12s 31ms/step - loss: 0.8569 - accuracy: 0.7584 - val_loss: 0.9676 - val_accuracy: 0.7270\n",
            "Epoch 5/50\n",
            "391/391 [==============================] - 12s 30ms/step - loss: 0.7910 - accuracy: 0.7836 - val_loss: 0.9485 - val_accuracy: 0.7388\n",
            "Epoch 6/50\n",
            "391/391 [==============================] - 12s 31ms/step - loss: 0.7277 - accuracy: 0.8066 - val_loss: 0.8582 - val_accuracy: 0.7696\n",
            "Epoch 7/50\n",
            "391/391 [==============================] - 13s 34ms/step - loss: 0.6873 - accuracy: 0.8200 - val_loss: 1.0214 - val_accuracy: 0.7280\n",
            "Epoch 8/50\n",
            "391/391 [==============================] - 12s 30ms/step - loss: 0.6550 - accuracy: 0.8330 - val_loss: 0.7524 - val_accuracy: 0.8063\n",
            "Epoch 9/50\n",
            "391/391 [==============================] - 11s 29ms/step - loss: 0.6176 - accuracy: 0.8456 - val_loss: 0.7875 - val_accuracy: 0.8003\n",
            "Epoch 10/50\n",
            "391/391 [==============================] - 12s 30ms/step - loss: 0.5991 - accuracy: 0.8523 - val_loss: 0.7922 - val_accuracy: 0.7992\n",
            "Epoch 11/50\n",
            "391/391 [==============================] - 12s 31ms/step - loss: 0.5731 - accuracy: 0.8634 - val_loss: 0.7361 - val_accuracy: 0.8183\n",
            "Epoch 12/50\n",
            "391/391 [==============================] - 12s 31ms/step - loss: 0.5414 - accuracy: 0.8725 - val_loss: 0.7911 - val_accuracy: 0.8111\n",
            "Epoch 13/50\n",
            "391/391 [==============================] - 11s 29ms/step - loss: 0.5198 - accuracy: 0.8811 - val_loss: 0.7786 - val_accuracy: 0.8154\n",
            "Epoch 14/50\n",
            "391/391 [==============================] - 13s 33ms/step - loss: 0.5086 - accuracy: 0.8855 - val_loss: 0.8544 - val_accuracy: 0.7953\n",
            "Epoch 15/50\n",
            "391/391 [==============================] - 11s 29ms/step - loss: 0.5000 - accuracy: 0.8901 - val_loss: 0.7305 - val_accuracy: 0.8363\n",
            "Epoch 16/50\n",
            "391/391 [==============================] - 11s 29ms/step - loss: 0.4797 - accuracy: 0.8961 - val_loss: 0.7054 - val_accuracy: 0.8338\n",
            "Epoch 17/50\n",
            "391/391 [==============================] - 12s 32ms/step - loss: 0.4580 - accuracy: 0.9035 - val_loss: 0.6956 - val_accuracy: 0.8431\n",
            "Epoch 18/50\n",
            "391/391 [==============================] - 11s 29ms/step - loss: 0.4539 - accuracy: 0.9065 - val_loss: 0.7473 - val_accuracy: 0.8321\n",
            "Epoch 19/50\n",
            "391/391 [==============================] - 12s 30ms/step - loss: 0.4346 - accuracy: 0.9113 - val_loss: 0.6877 - val_accuracy: 0.8454\n",
            "Epoch 20/50\n",
            "391/391 [==============================] - 12s 30ms/step - loss: 0.4248 - accuracy: 0.9147 - val_loss: 0.7462 - val_accuracy: 0.8351\n",
            "Epoch 21/50\n",
            "391/391 [==============================] - 11s 29ms/step - loss: 0.4119 - accuracy: 0.9195 - val_loss: 0.7447 - val_accuracy: 0.8457\n",
            "Epoch 22/50\n",
            "391/391 [==============================] - 13s 33ms/step - loss: 0.4081 - accuracy: 0.9220 - val_loss: 0.8101 - val_accuracy: 0.8251\n",
            "Epoch 23/50\n",
            "391/391 [==============================] - 11s 28ms/step - loss: 0.4026 - accuracy: 0.9244 - val_loss: 0.7796 - val_accuracy: 0.8341\n",
            "Epoch 24/50\n",
            "391/391 [==============================] - 11s 28ms/step - loss: 0.3919 - accuracy: 0.9261 - val_loss: 0.8862 - val_accuracy: 0.8049\n",
            "Epoch 25/50\n",
            "391/391 [==============================] - 11s 28ms/step - loss: 0.3829 - accuracy: 0.9299 - val_loss: 0.7999 - val_accuracy: 0.8304\n",
            "Epoch 26/50\n",
            "391/391 [==============================] - 11s 28ms/step - loss: 0.3785 - accuracy: 0.9318 - val_loss: 0.7833 - val_accuracy: 0.8348\n",
            "Epoch 27/50\n",
            "391/391 [==============================] - 11s 28ms/step - loss: 0.3735 - accuracy: 0.9338 - val_loss: 0.7787 - val_accuracy: 0.8413\n",
            "Epoch 28/50\n",
            "391/391 [==============================] - 11s 28ms/step - loss: 0.3614 - accuracy: 0.9379 - val_loss: 0.7527 - val_accuracy: 0.8529\n",
            "Epoch 29/50\n",
            "391/391 [==============================] - 11s 28ms/step - loss: 0.3495 - accuracy: 0.9395 - val_loss: 0.7787 - val_accuracy: 0.8455\n",
            "Epoch 30/50\n",
            "391/391 [==============================] - 11s 28ms/step - loss: 0.3584 - accuracy: 0.9379 - val_loss: 0.9059 - val_accuracy: 0.8144\n",
            "Epoch 31/50\n",
            "391/391 [==============================] - 11s 28ms/step - loss: 0.3469 - accuracy: 0.9423 - val_loss: 0.9666 - val_accuracy: 0.8055\n",
            "Epoch 32/50\n",
            "391/391 [==============================] - 11s 28ms/step - loss: 0.3442 - accuracy: 0.9433 - val_loss: 0.7550 - val_accuracy: 0.8443\n",
            "Epoch 33/50\n",
            "391/391 [==============================] - 11s 28ms/step - loss: 0.3315 - accuracy: 0.9451 - val_loss: 0.9619 - val_accuracy: 0.8129\n",
            "Epoch 34/50\n",
            "391/391 [==============================] - 11s 28ms/step - loss: 0.3336 - accuracy: 0.9453 - val_loss: 0.7448 - val_accuracy: 0.8534\n",
            "Epoch 35/50\n",
            "391/391 [==============================] - 11s 28ms/step - loss: 0.3238 - accuracy: 0.9485 - val_loss: 0.7498 - val_accuracy: 0.8528\n",
            "Epoch 36/50\n",
            "391/391 [==============================] - 11s 28ms/step - loss: 0.3241 - accuracy: 0.9494 - val_loss: 0.7911 - val_accuracy: 0.8366\n",
            "Epoch 37/50\n",
            "391/391 [==============================] - 11s 28ms/step - loss: 0.3163 - accuracy: 0.9510 - val_loss: 0.8594 - val_accuracy: 0.8329\n",
            "Epoch 38/50\n",
            "391/391 [==============================] - 11s 28ms/step - loss: 0.3130 - accuracy: 0.9514 - val_loss: 0.7666 - val_accuracy: 0.8519\n",
            "Epoch 39/50\n",
            "391/391 [==============================] - 11s 28ms/step - loss: 0.3114 - accuracy: 0.9521 - val_loss: 0.7529 - val_accuracy: 0.8533\n",
            "Epoch 40/50\n",
            "391/391 [==============================] - 11s 28ms/step - loss: 0.2963 - accuracy: 0.9555 - val_loss: 0.7686 - val_accuracy: 0.8475\n",
            "Epoch 41/50\n",
            "391/391 [==============================] - 11s 28ms/step - loss: 0.3089 - accuracy: 0.9532 - val_loss: 0.7761 - val_accuracy: 0.8514\n",
            "Epoch 42/50\n",
            "391/391 [==============================] - 11s 28ms/step - loss: 0.3080 - accuracy: 0.9531 - val_loss: 0.7820 - val_accuracy: 0.8448\n",
            "Epoch 43/50\n",
            "391/391 [==============================] - 11s 28ms/step - loss: 0.2884 - accuracy: 0.9578 - val_loss: 0.8396 - val_accuracy: 0.8456\n",
            "Epoch 44/50\n",
            "391/391 [==============================] - 11s 27ms/step - loss: 0.2982 - accuracy: 0.9553 - val_loss: 0.7844 - val_accuracy: 0.8527\n",
            "Epoch 45/50\n",
            "391/391 [==============================] - 11s 28ms/step - loss: 0.2898 - accuracy: 0.9594 - val_loss: 0.8114 - val_accuracy: 0.8414\n",
            "Epoch 46/50\n",
            "391/391 [==============================] - 11s 28ms/step - loss: 0.2873 - accuracy: 0.9576 - val_loss: 0.8353 - val_accuracy: 0.8436\n",
            "Epoch 47/50\n",
            "391/391 [==============================] - 11s 28ms/step - loss: 0.2836 - accuracy: 0.9592 - val_loss: 0.8656 - val_accuracy: 0.8379\n",
            "Epoch 48/50\n",
            "391/391 [==============================] - 11s 28ms/step - loss: 0.2897 - accuracy: 0.9582 - val_loss: 0.7875 - val_accuracy: 0.8503\n",
            "Epoch 49/50\n",
            "391/391 [==============================] - 11s 28ms/step - loss: 0.2742 - accuracy: 0.9613 - val_loss: 0.8354 - val_accuracy: 0.8417\n",
            "Epoch 50/50\n",
            "391/391 [==============================] - 11s 28ms/step - loss: 0.2784 - accuracy: 0.9614 - val_loss: 0.7721 - val_accuracy: 0.8529\n",
            "Test accuracy: 0.8529000282287598\n"
          ]
        }
      ]
    },
    {
      "cell_type": "markdown",
      "source": [
        "Training Accuracy: 96.14%\n",
        "\n",
        "Testing Accuracy: 85.29%"
      ],
      "metadata": {
        "id": "bt-N3Sw3njPR"
      },
      "id": "bt-N3Sw3njPR"
    },
    {
      "cell_type": "code",
      "source": [
        "df_ConvolutionCNN7 = pd.DataFrame(history_sevenCNN.history)\n",
        "df_ConvolutionCNN7[['accuracy','val_accuracy']].plot()"
      ],
      "metadata": {
        "colab": {
          "base_uri": "https://localhost:8080/",
          "height": 448
        },
        "id": "V7oZ3sDRmy2X",
        "outputId": "1eafd3f7-1295-4b68-8c1d-655061a83fd4"
      },
      "id": "V7oZ3sDRmy2X",
      "execution_count": null,
      "outputs": [
        {
          "output_type": "execute_result",
          "data": {
            "text/plain": [
              "<Axes: >"
            ]
          },
          "metadata": {},
          "execution_count": 40
        },
        {
          "output_type": "display_data",
          "data": {
            "text/plain": [
              "<Figure size 640x480 with 1 Axes>"
            ],
            "image/png": "[encoded data removed]"
          },
          "metadata": {}
        }
      ]
    },
    {
      "cell_type": "code",
      "source": [
        "df_ConvolutionCNN7[['loss','val_loss']].plot()"
      ],
      "metadata": {
        "colab": {
          "base_uri": "https://localhost:8080/",
          "height": 448
        },
        "id": "Jdv8gWebncLR",
        "outputId": "8f2e4629-bc66-40b0-d0f4-b3ea64e9e132"
      },
      "id": "Jdv8gWebncLR",
      "execution_count": null,
      "outputs": [
        {
          "output_type": "execute_result",
          "data": {
            "text/plain": [
              "<Axes: >"
            ]
          },
          "metadata": {},
          "execution_count": 41
        },
        {
          "output_type": "display_data",
          "data": {
            "text/plain": [
              "<Figure size 640x480 with 1 Axes>"
            ],
            "image/png": "[encoded data removed]"
          },
          "metadata": {}
        }
      ]
    },
    {
      "cell_type": "markdown",
      "source": [
        "Now that we have final models from both methods, let's predict some images."
      ],
      "metadata": {
        "id": "cp0WAhRNrE_h"
      },
      "id": "cp0WAhRNrE_h"
    },
    {
      "cell_type": "markdown",
      "source": [
        "#### Prediction from CNN model."
      ],
      "metadata": {
        "id": "YpLOtffTrrvy"
      },
      "id": "YpLOtffTrrvy"
    },
    {
      "cell_type": "code",
      "source": [
        "X_new = x_test[:3]\n",
        "y_new = y_test[:3]\n",
        "y_proba = model_convolution7.predict(X_new)\n",
        "y_proba.round(2)"
      ],
      "metadata": {
        "colab": {
          "base_uri": "https://localhost:8080/"
        },
        "id": "xYbcYTpspVQk",
        "outputId": "3cd34abe-2528-43b1-9225-92918297e198"
      },
      "id": "xYbcYTpspVQk",
      "execution_count": null,
      "outputs": [
        {
          "output_type": "stream",
          "name": "stdout",
          "text": [
            "1/1 [==============================] - 2s 2s/step\n"
          ]
        },
        {
          "output_type": "execute_result",
          "data": {
            "text/plain": [
              "array([[0.  , 0.  , 0.  , 0.9 , 0.  , 0.  , 0.09, 0.  , 0.  , 0.  ],\n",
              "       [0.  , 0.  , 0.  , 0.  , 0.  , 0.  , 0.  , 0.  , 1.  , 0.  ],\n",
              "       [0.  , 0.  , 0.  , 0.  , 0.  , 0.  , 0.  , 0.  , 1.  , 0.  ]],\n",
              "      dtype=float32)"
            ]
          },
          "metadata": {},
          "execution_count": 52
        }
      ]
    },
    {
      "cell_type": "code",
      "source": [
        "y_pred = np.argmax(y_proba, axis=-1)\n",
        "y_pred, y_new"
      ],
      "metadata": {
        "colab": {
          "base_uri": "https://localhost:8080/"
        },
        "id": "fUotJqgfre7F",
        "outputId": "486b3072-d4a9-4da7-bdba-db51f0e8bfec"
      },
      "id": "fUotJqgfre7F",
      "execution_count": null,
      "outputs": [
        {
          "output_type": "execute_result",
          "data": {
            "text/plain": [
              "(array([3, 8, 8]),\n",
              " array([[0., 0., 0., 1., 0., 0., 0., 0., 0., 0.],\n",
              "        [0., 0., 0., 0., 0., 0., 0., 0., 1., 0.],\n",
              "        [0., 0., 0., 0., 0., 0., 0., 0., 1., 0.]], dtype=float32))"
            ]
          },
          "metadata": {},
          "execution_count": 53
        }
      ]
    },
    {
      "cell_type": "code",
      "source": [
        "for data, pred, actual in zip(X_new, y_pred, y_new):\n",
        "  plt.imshow(data, cmap=\"binary\")\n",
        "  plt.title(f\"Predicted: {pred}, Actual: {actual}\")\n",
        "  plt.axis(\"off\")\n",
        "  plt.show()\n",
        "  print(\"---\"*20)"
      ],
      "metadata": {
        "colab": {
          "base_uri": "https://localhost:8080/",
          "height": 1000
        },
        "id": "J1U9TX6erkNR",
        "outputId": "ccef37e2-3dec-4236-9a48-9a49768aa3a4"
      },
      "id": "J1U9TX6erkNR",
      "execution_count": null,
      "outputs": [
        {
          "output_type": "display_data",
          "data": {
            "text/plain": [
              "<Figure size 640x480 with 1 Axes>"
            ],
            "image/png": "[encoded data removed]"
          },
          "metadata": {}
        },
        {
          "output_type": "stream",
          "name": "stdout",
          "text": [
            "------------------------------------------------------------\n"
          ]
        },
        {
          "output_type": "display_data",
          "data": {
            "text/plain": [
              "<Figure size 640x480 with 1 Axes>"
            ],
            "image/png": "[encoded data removed]"
          },
          "metadata": {}
        },
        {
          "output_type": "stream",
          "name": "stdout",
          "text": [
            "------------------------------------------------------------\n"
          ]
        },
        {
          "output_type": "display_data",
          "data": {
            "text/plain": [
              "<Figure size 640x480 with 1 Axes>"
            ],
            "image/png": "[encoded data removed]"
          },
          "metadata": {}
        },
        {
          "output_type": "stream",
          "name": "stdout",
          "text": [
            "------------------------------------------------------------\n"
          ]
        }
      ]
    },
    {
      "cell_type": "markdown",
      "source": [
        "#### Prediction from DNN W/O Convolution layer model "
      ],
      "metadata": {
        "id": "2p-mdt-2rvBE"
      },
      "id": "2p-mdt-2rvBE"
    },
    {
      "cell_type": "code",
      "source": [],
      "metadata": {
        "id": "ufAs3vgyrmXk"
      },
      "id": "ufAs3vgyrmXk",
      "execution_count": null,
      "outputs": []
    }
  ],
  "metadata": {
    "kernelspec": {
      "display_name": "Python 3 (ipykernel)",
      "language": "python",
      "name": "python3"
    },
    "language_info": {
      "codemirror_mode": {
        "name": "ipython",
        "version": 3
      },
      "file_extension": ".py",
      "mimetype": "text/x-python",
      "name": "python",
      "nbconvert_exporter": "python",
      "pygments_lexer": "ipython3",
      "version": "3.8.15"
    },
    "colab": {
      "provenance": []
    },
    "accelerator": "GPU",
    "gpuClass": "standard"
  },
  "nbformat": 4,
  "nbformat_minor": 5
}