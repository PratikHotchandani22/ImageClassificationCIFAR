{
 "cells": [
  {
   "cell_type": "code",
   "execution_count": 1,
   "id": "02465006",
   "metadata": {
    "execution": {
     "iopub.execute_input": "2023-05-13T18:41:36.346006Z",
     "iopub.status.busy": "2023-05-13T18:41:36.345682Z",
     "iopub.status.idle": "2023-05-13T18:41:50.652279Z",
     "shell.execute_reply": "2023-05-13T18:41:50.651323Z",
     "shell.execute_reply.started": "2023-05-13T18:41:36.345978Z"
    }
   },
   "outputs": [],
   "source": [
    "import pandas as pd\n",
    "import numpy as np\n",
    "import matplotlib.pyplot as plt\n",
    "import tensorflow as tf\n",
    "from sklearn.linear_model import LogisticRegression\n",
    "from keras.models import Sequential\n",
    "from tensorflow.keras.layers import InputLayer\n",
    "from keras.layers import Dense, Flatten\n",
    "from sklearn.svm import SVC\n",
    "from sklearn.metrics import accuracy_score\n",
    "import keras\n",
    "from keras.datasets import cifar10\n",
    "\n",
    "from sklearn.metrics import classification_report,confusion_matrix\n",
    "from tensorflow.keras.preprocessing.image import ImageDataGenerator\n",
    "\n",
    "from keras.models import Sequential\n",
    "from keras.layers import Dense, Activation, Flatten, Conv2D, MaxPooling2D, Dropout\n",
    "\n",
    "from keras.regularizers import l1, l2\n",
    "\n",
    "from tensorflow.keras.layers import LeakyReLU"
   ]
  },
  {
   "cell_type": "code",
   "execution_count": 2,
   "id": "c3430f87",
   "metadata": {
    "execution": {
     "iopub.execute_input": "2023-05-13T18:44:49.971420Z",
     "iopub.status.busy": "2023-05-13T18:44:49.968302Z",
     "iopub.status.idle": "2023-05-13T18:44:51.188913Z",
     "shell.execute_reply": "2023-05-13T18:44:51.187584Z",
     "shell.execute_reply.started": "2023-05-13T18:44:49.971373Z"
    }
   },
   "outputs": [
    {
     "name": "stdout",
     "output_type": "stream",
     "text": [
      "x_train shape: (50000, 32, 32, 3)\n",
      "50000 train samples\n",
      "10000 test samples\n"
     ]
    }
   ],
   "source": [
    "# define num_class\n",
    "num_classes = 10\n",
    "\n",
    "# load dataset keras will download cifar-10 datset\n",
    "(x_train, y_train), (x_test, y_test) = cifar10.load_data()  \n",
    "\n",
    "print('x_train shape:', x_train.shape)\n",
    "print(x_train.shape[0], 'train samples')\n",
    "print(x_test.shape[0], 'test samples')\n"
   ]
  },
  {
   "cell_type": "code",
   "execution_count": 3,
   "id": "ee01ef4f",
   "metadata": {
    "execution": {
     "iopub.execute_input": "2023-05-13T18:44:55.436711Z",
     "iopub.status.busy": "2023-05-13T18:44:55.436295Z",
     "iopub.status.idle": "2023-05-13T18:44:55.444100Z",
     "shell.execute_reply": "2023-05-13T18:44:55.442570Z",
     "shell.execute_reply.started": "2023-05-13T18:44:55.436678Z"
    }
   },
   "outputs": [],
   "source": [
    "# Converting class vectors to binary class matrices.\n",
    "y_train = keras.utils.np_utils.to_categorical(y_train, num_classes)\n",
    "y_test = keras.utils.np_utils.to_categorical(y_test, num_classes)"
   ]
  },
  {
   "cell_type": "code",
   "execution_count": 4,
   "id": "a3c48960",
   "metadata": {
    "execution": {
     "iopub.execute_input": "2023-05-13T18:45:00.907976Z",
     "iopub.status.busy": "2023-05-13T18:45:00.907602Z",
     "iopub.status.idle": "2023-05-13T18:45:01.156193Z",
     "shell.execute_reply": "2023-05-13T18:45:01.155170Z",
     "shell.execute_reply.started": "2023-05-13T18:45:00.907945Z"
    }
   },
   "outputs": [],
   "source": [
    "x_train = x_train.astype('float32') / 255.0\n",
    "x_test = x_test.astype('float32') / 255.0"
   ]
  },
  {
   "cell_type": "code",
   "execution_count": 5,
   "id": "53c0a5e9",
   "metadata": {
    "execution": {
     "iopub.execute_input": "2023-05-13T18:46:00.920468Z",
     "iopub.status.busy": "2023-05-13T18:46:00.920109Z",
     "iopub.status.idle": "2023-05-13T18:46:01.917752Z",
     "shell.execute_reply": "2023-05-13T18:46:01.916365Z",
     "shell.execute_reply.started": "2023-05-13T18:46:00.920439Z"
    }
   },
   "outputs": [],
   "source": [
    "pixel_means = x_train.mean(axis=0, keepdims=True)\n",
    "pixel_stds = x_train.std(axis=0, keepdims=True)\n",
    "X_train_scaled = (x_train - pixel_means) / pixel_stds\n",
    "X_test_scaled = (x_test - pixel_means) / pixel_stds\n"
   ]
  },
  {
   "cell_type": "code",
   "execution_count": 6,
   "id": "9e58d48b",
   "metadata": {
    "execution": {
     "iopub.execute_input": "2023-05-13T20:49:54.782245Z",
     "iopub.status.busy": "2023-05-13T20:49:54.781887Z",
     "iopub.status.idle": "2023-05-13T20:49:54.836590Z",
     "shell.execute_reply": "2023-05-13T20:49:54.835724Z",
     "shell.execute_reply.started": "2023-05-13T20:49:54.782218Z"
    }
   },
   "outputs": [
    {
     "name": "stderr",
     "output_type": "stream",
     "text": [
      "2023-05-13 17:00:37.805951: I tensorflow/core/common_runtime/pluggable_device/pluggable_device_factory.cc:305] Could not identify NUMA node of platform GPU ID 0, defaulting to 0. Your kernel may not have been built with NUMA support.\n",
      "2023-05-13 17:00:37.806617: I tensorflow/core/common_runtime/pluggable_device/pluggable_device_factory.cc:271] Created TensorFlow device (/job:localhost/replica:0/task:0/device:GPU:0 with 0 MB memory) -> physical PluggableDevice (device: 0, name: METAL, pci bus id: <undefined>)\n"
     ]
    },
    {
     "name": "stdout",
     "output_type": "stream",
     "text": [
      "Metal device set to: Apple M1 Pro\n"
     ]
    }
   ],
   "source": [
    "model = keras.models.Sequential([\n",
    "    keras.layers.Flatten(input_shape=[32,32,3]),\n",
    "    keras.layers.Dense(500, activation=\"selu\", kernel_initializer=\"lecun_normal\"),\n",
    "    keras.layers.Dense(400, activation=\"selu\", kernel_initializer=\"lecun_normal\"),\n",
    "    keras.layers.Dense(300, activation=\"selu\", kernel_initializer=\"lecun_normal\"),\n",
    "    keras.layers.Dense(200, activation=\"selu\", kernel_initializer=\"lecun_normal\"),\n",
    "    keras.layers.Dense(100, activation=\"selu\", kernel_initializer=\"lecun_normal\"),\n",
    "    keras.layers.Dropout(rate=0.5),\n",
    "    keras.layers.Dense(10, activation=\"softmax\")\n",
    "])\n",
    "model.compile(loss=\"categorical_crossentropy\", optimizer=\"nadam\", metrics=[\"accuracy\"])"
   ]
  },
  {
   "cell_type": "code",
   "execution_count": 7,
   "id": "43e6475f",
   "metadata": {
    "execution": {
     "iopub.execute_input": "2023-05-13T20:49:56.194801Z",
     "iopub.status.busy": "2023-05-13T20:49:56.194434Z",
     "iopub.status.idle": "2023-05-13T20:49:56.201499Z",
     "shell.execute_reply": "2023-05-13T20:49:56.199983Z",
     "shell.execute_reply.started": "2023-05-13T20:49:56.194771Z"
    }
   },
   "outputs": [],
   "source": [
    "early_stopping_cb = keras.callbacks.EarlyStopping(patience=10,\n",
    "                                                  restore_best_weights=True)"
   ]
  },
  {
   "cell_type": "code",
   "execution_count": 8,
   "id": "3b0c888d",
   "metadata": {
    "execution": {
     "iopub.execute_input": "2023-05-13T20:49:56.811413Z",
     "iopub.status.busy": "2023-05-13T20:49:56.810216Z",
     "iopub.status.idle": "2023-05-13T20:49:56.817065Z",
     "shell.execute_reply": "2023-05-13T20:49:56.815984Z",
     "shell.execute_reply.started": "2023-05-13T20:49:56.811368Z"
    }
   },
   "outputs": [],
   "source": [
    "lr_performanceScheduler = keras.callbacks.ReduceLROnPlateau(factor=0.5,patience=5)"
   ]
  },
  {
   "cell_type": "code",
   "execution_count": 9,
   "id": "86fc0b03",
   "metadata": {
    "execution": {
     "iopub.execute_input": "2023-05-13T20:49:58.384705Z",
     "iopub.status.busy": "2023-05-13T20:49:58.384315Z",
     "iopub.status.idle": "2023-05-13T20:53:34.537644Z",
     "shell.execute_reply": "2023-05-13T20:53:34.536720Z",
     "shell.execute_reply.started": "2023-05-13T20:49:58.384663Z"
    }
   },
   "outputs": [
    {
     "name": "stdout",
     "output_type": "stream",
     "text": [
      "Epoch 1/50\n"
     ]
    },
    {
     "name": "stderr",
     "output_type": "stream",
     "text": [
      "2023-05-13 17:00:57.834539: W tensorflow/core/platform/profile_utils/cpu_utils.cc:128] Failed to get CPU frequency: 0 Hz\n",
      "2023-05-13 17:00:58.390229: I tensorflow/core/grappler/optimizers/custom_graph_optimizer_registry.cc:113] Plugin optimizer for device_type GPU is enabled.\n"
     ]
    },
    {
     "name": "stdout",
     "output_type": "stream",
     "text": [
      "1563/1563 [==============================] - ETA: 0s - loss: 2.0194 - accuracy: 0.3452"
     ]
    },
    {
     "name": "stderr",
     "output_type": "stream",
     "text": [
      "2023-05-13 17:01:38.972742: I tensorflow/core/grappler/optimizers/custom_graph_optimizer_registry.cc:113] Plugin optimizer for device_type GPU is enabled.\n"
     ]
    },
    {
     "name": "stdout",
     "output_type": "stream",
     "text": [
      "1563/1563 [==============================] - 44s 27ms/step - loss: 2.0194 - accuracy: 0.3452 - val_loss: 1.6527 - val_accuracy: 0.4092 - lr: 0.0010\n",
      "Epoch 2/50\n",
      "1563/1563 [==============================] - 42s 27ms/step - loss: 1.5870 - accuracy: 0.4390 - val_loss: 1.5754 - val_accuracy: 0.4408 - lr: 0.0010\n",
      "Epoch 3/50\n",
      "1563/1563 [==============================] - 42s 27ms/step - loss: 1.4981 - accuracy: 0.4745 - val_loss: 1.5020 - val_accuracy: 0.4542 - lr: 0.0010\n",
      "Epoch 4/50\n",
      "1563/1563 [==============================] - 43s 27ms/step - loss: 1.4274 - accuracy: 0.4998 - val_loss: 1.4567 - val_accuracy: 0.4807 - lr: 0.0010\n",
      "Epoch 5/50\n",
      "1563/1563 [==============================] - 42s 27ms/step - loss: 1.3502 - accuracy: 0.5277 - val_loss: 1.4201 - val_accuracy: 0.5028 - lr: 0.0010\n",
      "Epoch 6/50\n",
      "1563/1563 [==============================] - 43s 27ms/step - loss: 1.2787 - accuracy: 0.5543 - val_loss: 1.4198 - val_accuracy: 0.5018 - lr: 0.0010\n",
      "Epoch 7/50\n",
      "1563/1563 [==============================] - 43s 28ms/step - loss: 1.2191 - accuracy: 0.5772 - val_loss: 1.3939 - val_accuracy: 0.5186 - lr: 0.0010\n",
      "Epoch 8/50\n",
      "1563/1563 [==============================] - 42s 27ms/step - loss: 1.1701 - accuracy: 0.5936 - val_loss: 1.3943 - val_accuracy: 0.5155 - lr: 0.0010\n",
      "Epoch 9/50\n",
      "1563/1563 [==============================] - 42s 27ms/step - loss: 1.1145 - accuracy: 0.6109 - val_loss: 1.3737 - val_accuracy: 0.5314 - lr: 0.0010\n",
      "Epoch 10/50\n",
      "1563/1563 [==============================] - 42s 27ms/step - loss: 1.0610 - accuracy: 0.6339 - val_loss: 1.3826 - val_accuracy: 0.5347 - lr: 0.0010\n",
      "Epoch 11/50\n",
      "1563/1563 [==============================] - 43s 27ms/step - loss: 1.0197 - accuracy: 0.6506 - val_loss: 1.3927 - val_accuracy: 0.5286 - lr: 0.0010\n",
      "Epoch 12/50\n",
      "1563/1563 [==============================] - 42s 27ms/step - loss: 1.0435 - accuracy: 0.6431 - val_loss: 1.4288 - val_accuracy: 0.5248 - lr: 0.0010\n",
      "Epoch 13/50\n",
      "1563/1563 [==============================] - 43s 27ms/step - loss: 0.9252 - accuracy: 0.6870 - val_loss: 1.5280 - val_accuracy: 0.5370 - lr: 0.0010\n",
      "Epoch 14/50\n",
      "1563/1563 [==============================] - 43s 27ms/step - loss: 0.9085 - accuracy: 0.6902 - val_loss: 1.4889 - val_accuracy: 0.5276 - lr: 0.0010\n",
      "Epoch 15/50\n",
      "1563/1563 [==============================] - 43s 27ms/step - loss: 0.7381 - accuracy: 0.7578 - val_loss: 1.5054 - val_accuracy: 0.5496 - lr: 5.0000e-04\n",
      "Epoch 16/50\n",
      "1563/1563 [==============================] - 43s 27ms/step - loss: 0.6194 - accuracy: 0.7916 - val_loss: 1.5783 - val_accuracy: 0.5483 - lr: 5.0000e-04\n",
      "Epoch 17/50\n",
      "1563/1563 [==============================] - 42s 27ms/step - loss: 0.5531 - accuracy: 0.8150 - val_loss: 1.6499 - val_accuracy: 0.5446 - lr: 5.0000e-04\n",
      "Epoch 18/50\n",
      "1563/1563 [==============================] - 41s 27ms/step - loss: 0.4995 - accuracy: 0.8316 - val_loss: 1.7651 - val_accuracy: 0.5487 - lr: 5.0000e-04\n",
      "Epoch 19/50\n",
      "1563/1563 [==============================] - 42s 27ms/step - loss: 0.4747 - accuracy: 0.8399 - val_loss: 1.8442 - val_accuracy: 0.5427 - lr: 5.0000e-04\n"
     ]
    }
   ],
   "source": [
    "history_finalDNN = model.fit(X_train_scaled,y_train,\n",
    "                          epochs=50,batch_size=32,\n",
    "                          validation_data=(X_test_scaled,y_test),\n",
    "                          callbacks=[lr_performanceScheduler, early_stopping_cb])"
   ]
  },
  {
   "cell_type": "code",
   "execution_count": 10,
   "id": "685069fb",
   "metadata": {
    "execution": {
     "iopub.execute_input": "2023-05-13T20:53:45.073556Z",
     "iopub.status.busy": "2023-05-13T20:53:45.073182Z",
     "iopub.status.idle": "2023-05-13T20:54:24.300638Z",
     "shell.execute_reply": "2023-05-13T20:54:24.299455Z",
     "shell.execute_reply.started": "2023-05-13T20:53:45.073523Z"
    }
   },
   "outputs": [
    {
     "name": "stdout",
     "output_type": "stream",
     "text": [
      "313/313 [==============================] - 4s 12ms/step - loss: 1.3737 - accuracy: 0.5314\n"
     ]
    },
    {
     "data": {
      "text/plain": [
       "[1.3737236261367798, 0.5314000248908997]"
      ]
     },
     "execution_count": 10,
     "metadata": {},
     "output_type": "execute_result"
    }
   ],
   "source": [
    "model.evaluate(X_test_scaled,y_test)"
   ]
  },
  {
   "cell_type": "markdown",
   "id": "a689a4f0",
   "metadata": {},
   "source": [
    "Training accuracy: 84%\n",
    "Testing accuracy: 53.13%"
   ]
  },
  {
   "cell_type": "code",
   "execution_count": null,
   "id": "5aae46c8",
   "metadata": {},
   "outputs": [],
   "source": []
  }
 ],
 "metadata": {
  "kernelspec": {
   "display_name": "Python 3.10 (tensorflow)",
   "language": "python",
   "name": "tensorflow"
  },
  "language_info": {
   "codemirror_mode": {
    "name": "ipython",
    "version": 3
   },
   "file_extension": ".py",
   "mimetype": "text/x-python",
   "name": "python",
   "nbconvert_exporter": "python",
   "pygments_lexer": "ipython3",
   "version": "3.10.9"
  }
 },
 "nbformat": 4,
 "nbformat_minor": 5
}
